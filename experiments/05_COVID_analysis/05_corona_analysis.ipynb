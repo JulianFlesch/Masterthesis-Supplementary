{
 "cells": [
  {
   "cell_type": "markdown",
   "id": "05134f1c",
   "metadata": {},
   "source": [
    "# Covac Analysis"
   ]
  },
  {
   "cell_type": "code",
   "execution_count": 1,
   "id": "e5d3ba2a",
   "metadata": {},
   "outputs": [],
   "source": [
    "import numpy as np\n",
    "import pandas as pd\n"
   ]
  },
  {
   "cell_type": "code",
   "execution_count": 2,
   "id": "65e99598",
   "metadata": {},
   "outputs": [],
   "source": [
    "from scanpy import read_h5ad\n",
    "import os\n",
    "\n",
    "DATA_DIR = \"/home/julian/Uni/MasterThesis/data\"\n",
    "\n",
    "corona_ann = read_h5ad(os.path.join(DATA_DIR, \"COVAC_POSTQC.h5ad\"))"
   ]
  },
  {
   "cell_type": "markdown",
   "id": "04ae1133",
   "metadata": {},
   "source": [
    "## Exploration"
   ]
  },
  {
   "cell_type": "markdown",
   "id": "fa990848",
   "metadata": {},
   "source": [
    "How big is the data? What metadata exists?"
   ]
  },
  {
   "cell_type": "code",
   "execution_count": 3,
   "id": "430109b7",
   "metadata": {
    "scrolled": true
   },
   "outputs": [
    {
     "name": "stdout",
     "output_type": "stream",
     "text": [
      "5.438285.2 GB object\n",
      "42.404290.2 GB raw matrix\n"
     ]
    },
    {
     "data": {
      "text/plain": [
       "AnnData object with n_obs × n_vars = 491473 × 21570\n",
       "    obs: 'patientID', 'sampleID', 'cohort', 'timepoint', 'log1p_total_counts', 'log1p_n_genes_by_counts', 'pct_counts_mito', 'pct_counts_ribo', 'pct_counts_hb'"
      ]
     },
     "execution_count": 3,
     "metadata": {},
     "output_type": "execute_result"
    }
   ],
   "source": [
    "import sys\n",
    "\n",
    "# since float32 are used in np - one number requires 4 bytes\n",
    "n_bytes_per_count = 4\n",
    "print(\"%f.2 GB object\"  % (int(sys.getsizeof(corona_ann)) / 1000000000))\n",
    "print(\"%f.2 GB raw matrix\" % (corona_ann.shape[0] * corona_ann.shape[1] * n_bytes_per_count / 1000000000))\n",
    "corona_ann"
   ]
  },
  {
   "cell_type": "markdown",
   "id": "b2487cdb",
   "metadata": {},
   "source": [
    "How many patients?"
   ]
  },
  {
   "cell_type": "code",
   "execution_count": 4,
   "id": "99b2d68a",
   "metadata": {
    "scrolled": true
   },
   "outputs": [
    {
     "data": {
      "text/plain": [
       "count     491473\n",
       "unique        14\n",
       "top           P7\n",
       "freq       67682\n",
       "Name: patientID, dtype: object"
      ]
     },
     "execution_count": 4,
     "metadata": {},
     "output_type": "execute_result"
    }
   ],
   "source": [
    "corona_ann.obs.patientID.describe()"
   ]
  },
  {
   "cell_type": "markdown",
   "id": "989ad93e",
   "metadata": {},
   "source": [
    "What are the cohorts referring to?"
   ]
  },
  {
   "cell_type": "code",
   "execution_count": 5,
   "id": "6906c8d2",
   "metadata": {
    "scrolled": false
   },
   "outputs": [
    {
     "data": {
      "text/plain": [
       "count     491473\n",
       "unique         2\n",
       "top            P\n",
       "freq      269365\n",
       "Name: cohort, dtype: object"
      ]
     },
     "execution_count": 5,
     "metadata": {},
     "output_type": "execute_result"
    }
   ],
   "source": [
    "corona_ann.obs.cohort.describe()"
   ]
  },
  {
   "cell_type": "markdown",
   "id": "0a6a9696",
   "metadata": {},
   "source": [
    "What do the time labels stand for?"
   ]
  },
  {
   "cell_type": "code",
   "execution_count": 6,
   "id": "24ee8cfe",
   "metadata": {
    "scrolled": false
   },
   "outputs": [
    {
     "data": {
      "text/plain": [
       "new_index\n",
       "AAACCCACAAGCCCAC-59     t3\n",
       "AAACCCATCATCCTGC-59     t3\n",
       "AAACCCATCTTGTTAC-59     t3\n",
       "AAACGAAAGACAACTA-59     t3\n",
       "AAACGAACAAGTGGGT-59     t3\n",
       "                      ... \n",
       "TTTGTTGTCGGCCTTT-42    d28\n",
       "TTTGTTGTCGGTAGAG-42    d28\n",
       "TTTGTTGTCGTGGACC-42    d28\n",
       "TTTGTTGTCTATCGGA-42    d28\n",
       "TTTGTTGTCTGTTGGA-42    d28\n",
       "Name: timepoint, Length: 491473, dtype: category\n",
       "Categories (8, object): ['M6', 'd1', 'd28', 'd56', 't1', 't2', 't3', 't4']"
      ]
     },
     "execution_count": 6,
     "metadata": {},
     "output_type": "execute_result"
    }
   ],
   "source": [
    "corona_ann.obs.timepoint"
   ]
  },
  {
   "cell_type": "markdown",
   "id": "7144fb2e",
   "metadata": {},
   "source": [
    "## Preprocessing"
   ]
  },
  {
   "cell_type": "markdown",
   "id": "38fee20c",
   "metadata": {},
   "source": [
    "Reduce based on the timepoint label"
   ]
  },
  {
   "cell_type": "code",
   "execution_count": 7,
   "id": "40ed096d",
   "metadata": {},
   "outputs": [],
   "source": [
    "corona_subs = corona_ann[corona_ann.obs[\"timepoint\"].isin(['d1', 'd28', 'd56']), :].copy()\n",
    "del corona_ann"
   ]
  },
  {
   "cell_type": "code",
   "execution_count": 8,
   "id": "aa4a1002",
   "metadata": {},
   "outputs": [
    {
     "data": {
      "text/plain": [
       "66"
      ]
     },
     "execution_count": 8,
     "metadata": {},
     "output_type": "execute_result"
    }
   ],
   "source": [
    "import gc\n",
    "gc.collect()"
   ]
  },
  {
   "cell_type": "code",
   "execution_count": null,
   "id": "49668d32",
   "metadata": {},
   "outputs": [],
   "source": [
    "#from psupertime.preprocessing import transform_labels\n",
    "## create ordinal labels\n",
    "#corona_ann.obs[\"ordinal_label\"] = transform_labels(corona_ann.obs[\"timepoint\"])\n",
    "#corona_ann"
   ]
  },
  {
   "cell_type": "code",
   "execution_count": null,
   "id": "4c327bff",
   "metadata": {},
   "outputs": [],
   "source": [
    "from psupertime.preprocessing import Preprocessing\n",
    "\n",
    "pp = Preprocessing(select_genes=\"all\", scale=True, log=False, smooth=False)\n",
    "pp.fit_transform(corona_subs, inplace=True)"
   ]
  }
 ],
 "metadata": {
  "kernelspec": {
   "display_name": "Python 3 (ipykernel)",
   "language": "python",
   "name": "python3"
  },
  "language_info": {
   "codemirror_mode": {
    "name": "ipython",
    "version": 3
   },
   "file_extension": ".py",
   "mimetype": "text/x-python",
   "name": "python",
   "nbconvert_exporter": "python",
   "pygments_lexer": "ipython3",
   "version": "3.11.3"
  }
 },
 "nbformat": 4,
 "nbformat_minor": 5
}
