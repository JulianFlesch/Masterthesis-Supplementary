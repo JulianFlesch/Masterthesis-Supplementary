{
 "cells": [
  {
   "cell_type": "code",
   "execution_count": 1,
   "id": "e5d3ba2a",
   "metadata": {},
   "outputs": [],
   "source": [
    "import numpy as np\n",
    "import pandas as pd\n",
    "from sklearn.preprocessing import StandardScaler\n"
   ]
  },
  {
   "cell_type": "code",
   "execution_count": 2,
   "id": "65e99598",
   "metadata": {},
   "outputs": [],
   "source": [
    "from scanpy import read_h5ad\n",
    "import os\n",
    "\n",
    "DATA_DIR = \"/home/julian/Uni/MasterThesis/data\"\n",
    "\n",
    "corona_ann = read_h5ad(os.path.join(DATA_DIR, \"COVAC_POSTQC.h5ad\"))"
   ]
  },
  {
   "cell_type": "code",
   "execution_count": 3,
   "id": "73dd86c0",
   "metadata": {},
   "outputs": [
    {
     "data": {
      "text/plain": [
       "new_index\n",
       "AAACCCACAAGCCCAC-59     t3\n",
       "AAACCCATCATCCTGC-59     t3\n",
       "AAACCCATCTTGTTAC-59     t3\n",
       "AAACGAAAGACAACTA-59     t3\n",
       "AAACGAACAAGTGGGT-59     t3\n",
       "                      ... \n",
       "TTTGTTGTCGGCCTTT-42    d28\n",
       "TTTGTTGTCGGTAGAG-42    d28\n",
       "TTTGTTGTCGTGGACC-42    d28\n",
       "TTTGTTGTCTATCGGA-42    d28\n",
       "TTTGTTGTCTGTTGGA-42    d28\n",
       "Name: timepoint, Length: 491473, dtype: category\n",
       "Categories (8, object): ['M6', 'd1', 'd28', 'd56', 't1', 't2', 't3', 't4']"
      ]
     },
     "execution_count": 3,
     "metadata": {},
     "output_type": "execute_result"
    }
   ],
   "source": [
    "corona_ann.obs[\"timepoint\"]"
   ]
  }
 ],
 "metadata": {
  "kernelspec": {
   "display_name": "Python 3 (ipykernel)",
   "language": "python",
   "name": "python3"
  },
  "language_info": {
   "codemirror_mode": {
    "name": "ipython",
    "version": 3
   },
   "file_extension": ".py",
   "mimetype": "text/x-python",
   "name": "python",
   "nbconvert_exporter": "python",
   "pygments_lexer": "ipython3",
   "version": "3.10.9"
  }
 },
 "nbformat": 4,
 "nbformat_minor": 5
}
