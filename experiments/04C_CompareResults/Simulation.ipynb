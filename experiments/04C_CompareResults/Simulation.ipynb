{
 "cells": [
  {
   "cell_type": "code",
   "execution_count": 1,
   "id": "252d511b",
   "metadata": {},
   "outputs": [
    {
     "name": "stdout",
     "output_type": "stream",
     "text": [
      "2023-07-08 00:51:42.297144\n"
     ]
    }
   ],
   "source": [
    "import datetime\n",
    "print(datetime.datetime.now())"
   ]
  },
  {
   "cell_type": "code",
   "execution_count": 2,
   "id": "254ecce4",
   "metadata": {},
   "outputs": [],
   "source": [
    "import os\n",
    "from sklearn import metrics\n",
    "import numpy as np\n",
    "import pandas as pd\n",
    "from matplotlib import pyplot as plt \n",
    "from masterthesis.data import load_h5ad\n",
    "from masterthesis.preprocessing import calculate_weights, transform_labels\n",
    "from sklearn.model_selection import train_test_split\n",
    "from masterthesis.model_selection import RegularizationGridSearch\n",
    "from masterthesis.model import VanillaSGDBinarizedModel\n",
    "from sklearn import metrics\n",
    "\n",
    "import warnings"
   ]
  },
  {
   "cell_type": "code",
   "execution_count": 3,
   "id": "811dafd1",
   "metadata": {},
   "outputs": [],
   "source": [
    "estimator_class = VanillaSGDBinarizedModel\n",
    "\n",
    "# report files\n",
    "genes_outfile = \"genes_py_2.txt\"\n",
    "results_outfile = \"results_py_2.txt\"\n",
    "\n",
    "# Fit params\n",
    "n_seeds = 5\n",
    "n_folds = 5\n",
    "n_jobs = 4\n",
    "n_reg_params = 20\n",
    "reg_params = np.geomspace(0.25, 0.01, n_reg_params)\n",
    "scoring = metrics.make_scorer(metrics.accuracy_score)\n",
    "\n",
    "# Simulation data\n",
    "data_dir = \"/home/julian/Uni/MasterThesis/data\"\n",
    "filenames = [\n",
    "    \"simdata_TS0.1_SS0.1.h5ad\", \n",
    "    \"simdata_TS0.1_SS0.3.h5ad\",\n",
    "    \"simdata_TS0.1_SS0.5.h5ad\",\n",
    "    \"simdata_TS0.1_SS0.7.h5ad\",\n",
    "    \"simdata_TS0.1_SS0.9.h5ad\",\n",
    "    \"simdata_TS0.3_SS0.1.h5ad\",\n",
    "    \"simdata_TS0.3_SS0.3.h5ad\",\n",
    "    \"simdata_TS0.3_SS0.5.h5ad\",\n",
    "    \"simdata_TS0.3_SS0.7.h5ad\",\n",
    "    \"simdata_TS0.5_SS0.1.h5ad\",\n",
    "    \"simdata_TS0.5_SS0.3.h5ad\",\n",
    "    \"simdata_TS0.5_SS0.5.h5ad\",\n",
    "    \"simdata_TS0.7_SS0.1.h5ad\",\n",
    "    \"simdata_TS0.7_SS0.3.h5ad\",\n",
    "    \"simdata_TS0.9_SS0.1.h5ad\"\n",
    "]"
   ]
  },
  {
   "cell_type": "code",
   "execution_count": 7,
   "id": "8ce317e8",
   "metadata": {
    "collapsed": true
   },
   "outputs": [
    {
     "name": "stdout",
     "output_type": "stream",
     "text": [
      "[*] Running Simulation\n",
      "[*] Regularization Params =  [0.25       0.21103973 0.17815107 0.15038781 0.12695121 0.107167\n",
      " 0.09046598 0.07636766 0.06446644 0.05441992 0.04593906 0.03877987\n",
      " 0.03273637 0.0276347  0.02332808 0.0196926  0.01662369 0.01403303\n",
      " 0.01184611 0.01      ]\n",
      "[*] Reading file /home/julian/Uni/MasterThesis/data/simdata_TS0.1_SS0.1.h5ad ...\n",
      "... Iteration 0, Seed=1508\n",
      "Regularization: 20/20\r"
     ]
    },
    {
     "name": "stderr",
     "output_type": "stream",
     "text": [
      "/home/julian/.local/share/virtualenvs/code-tW9RC7Ez/lib/python3.11/site-packages/scipy/stats/_stats_py.py:4916: ConstantInputWarning: An input array is constant; the correlation coefficient is not defined.\n",
      "  warnings.warn(stats.ConstantInputWarning(warn_msg))\n"
     ]
    },
    {
     "name": "stdout",
     "output_type": "stream",
     "text": [
      "... Iteration 1, Seed=5424\n",
      "Regularization: 20/20\r"
     ]
    },
    {
     "name": "stderr",
     "output_type": "stream",
     "text": [
      "/home/julian/.local/share/virtualenvs/code-tW9RC7Ez/lib/python3.11/site-packages/scipy/stats/_stats_py.py:4916: ConstantInputWarning: An input array is constant; the correlation coefficient is not defined.\n",
      "  warnings.warn(stats.ConstantInputWarning(warn_msg))\n"
     ]
    },
    {
     "name": "stdout",
     "output_type": "stream",
     "text": [
      "... Iteration 2, Seed=1097\n",
      "Regularization: 20/20\r"
     ]
    },
    {
     "name": "stderr",
     "output_type": "stream",
     "text": [
      "/home/julian/.local/share/virtualenvs/code-tW9RC7Ez/lib/python3.11/site-packages/scipy/stats/_stats_py.py:4916: ConstantInputWarning: An input array is constant; the correlation coefficient is not defined.\n",
      "  warnings.warn(stats.ConstantInputWarning(warn_msg))\n"
     ]
    },
    {
     "name": "stdout",
     "output_type": "stream",
     "text": [
      "... Iteration 3, Seed=3498\n",
      "Regularization: 20/20\r"
     ]
    },
    {
     "name": "stderr",
     "output_type": "stream",
     "text": [
      "/home/julian/.local/share/virtualenvs/code-tW9RC7Ez/lib/python3.11/site-packages/scipy/stats/_stats_py.py:4916: ConstantInputWarning: An input array is constant; the correlation coefficient is not defined.\n",
      "  warnings.warn(stats.ConstantInputWarning(warn_msg))\n"
     ]
    },
    {
     "name": "stdout",
     "output_type": "stream",
     "text": [
      "... Iteration 4, Seed=1166\n",
      "Regularization: 20/20\r"
     ]
    },
    {
     "name": "stderr",
     "output_type": "stream",
     "text": [
      "/home/julian/.local/share/virtualenvs/code-tW9RC7Ez/lib/python3.11/site-packages/scipy/stats/_stats_py.py:4916: ConstantInputWarning: An input array is constant; the correlation coefficient is not defined.\n",
      "  warnings.warn(stats.ConstantInputWarning(warn_msg))\n"
     ]
    },
    {
     "name": "stdout",
     "output_type": "stream",
     "text": [
      "[*] Reading file /home/julian/Uni/MasterThesis/data/simdata_TS0.1_SS0.3.h5ad ...\n",
      "... Iteration 0, Seed=584\n",
      "Regularization: 20/20\r"
     ]
    },
    {
     "name": "stderr",
     "output_type": "stream",
     "text": [
      "/home/julian/.local/share/virtualenvs/code-tW9RC7Ez/lib/python3.11/site-packages/scipy/stats/_stats_py.py:4916: ConstantInputWarning: An input array is constant; the correlation coefficient is not defined.\n",
      "  warnings.warn(stats.ConstantInputWarning(warn_msg))\n"
     ]
    },
    {
     "name": "stdout",
     "output_type": "stream",
     "text": [
      "... Iteration 1, Seed=3448\n",
      "Regularization: 20/20\r"
     ]
    },
    {
     "name": "stderr",
     "output_type": "stream",
     "text": [
      "/home/julian/.local/share/virtualenvs/code-tW9RC7Ez/lib/python3.11/site-packages/scipy/stats/_stats_py.py:4916: ConstantInputWarning: An input array is constant; the correlation coefficient is not defined.\n",
      "  warnings.warn(stats.ConstantInputWarning(warn_msg))\n"
     ]
    },
    {
     "name": "stdout",
     "output_type": "stream",
     "text": [
      "... Iteration 2, Seed=5887\n",
      "Regularization: 20/20\r"
     ]
    },
    {
     "name": "stderr",
     "output_type": "stream",
     "text": [
      "/home/julian/.local/share/virtualenvs/code-tW9RC7Ez/lib/python3.11/site-packages/scipy/stats/_stats_py.py:4916: ConstantInputWarning: An input array is constant; the correlation coefficient is not defined.\n",
      "  warnings.warn(stats.ConstantInputWarning(warn_msg))\n"
     ]
    },
    {
     "name": "stdout",
     "output_type": "stream",
     "text": [
      "... Iteration 3, Seed=8304\n",
      "Regularization: 20/20\r"
     ]
    },
    {
     "name": "stderr",
     "output_type": "stream",
     "text": [
      "/home/julian/.local/share/virtualenvs/code-tW9RC7Ez/lib/python3.11/site-packages/scipy/stats/_stats_py.py:4916: ConstantInputWarning: An input array is constant; the correlation coefficient is not defined.\n",
      "  warnings.warn(stats.ConstantInputWarning(warn_msg))\n"
     ]
    },
    {
     "name": "stdout",
     "output_type": "stream",
     "text": [
      "... Iteration 4, Seed=1468\n",
      "Regularization: 20/20\r"
     ]
    },
    {
     "name": "stderr",
     "output_type": "stream",
     "text": [
      "/home/julian/.local/share/virtualenvs/code-tW9RC7Ez/lib/python3.11/site-packages/scipy/stats/_stats_py.py:4916: ConstantInputWarning: An input array is constant; the correlation coefficient is not defined.\n",
      "  warnings.warn(stats.ConstantInputWarning(warn_msg))\n"
     ]
    },
    {
     "name": "stdout",
     "output_type": "stream",
     "text": [
      "[*] Reading file /home/julian/Uni/MasterThesis/data/simdata_TS0.1_SS0.5.h5ad ...\n",
      "... Iteration 0, Seed=8872\n",
      "Regularization: 20/20\r"
     ]
    },
    {
     "name": "stderr",
     "output_type": "stream",
     "text": [
      "/home/julian/.local/share/virtualenvs/code-tW9RC7Ez/lib/python3.11/site-packages/scipy/stats/_stats_py.py:4916: ConstantInputWarning: An input array is constant; the correlation coefficient is not defined.\n",
      "  warnings.warn(stats.ConstantInputWarning(warn_msg))\n"
     ]
    },
    {
     "name": "stdout",
     "output_type": "stream",
     "text": [
      "... Iteration 1, Seed=3445\n",
      "Regularization: 20/20\r"
     ]
    },
    {
     "name": "stderr",
     "output_type": "stream",
     "text": [
      "/home/julian/.local/share/virtualenvs/code-tW9RC7Ez/lib/python3.11/site-packages/scipy/stats/_stats_py.py:4916: ConstantInputWarning: An input array is constant; the correlation coefficient is not defined.\n",
      "  warnings.warn(stats.ConstantInputWarning(warn_msg))\n"
     ]
    },
    {
     "name": "stdout",
     "output_type": "stream",
     "text": [
      "... Iteration 2, Seed=6291\n",
      "Regularization: 20/20\r"
     ]
    },
    {
     "name": "stderr",
     "output_type": "stream",
     "text": [
      "/home/julian/.local/share/virtualenvs/code-tW9RC7Ez/lib/python3.11/site-packages/scipy/stats/_stats_py.py:4916: ConstantInputWarning: An input array is constant; the correlation coefficient is not defined.\n",
      "  warnings.warn(stats.ConstantInputWarning(warn_msg))\n"
     ]
    },
    {
     "name": "stdout",
     "output_type": "stream",
     "text": [
      "... Iteration 3, Seed=9530\n",
      "Regularization: 20/20\r"
     ]
    },
    {
     "name": "stderr",
     "output_type": "stream",
     "text": [
      "/home/julian/.local/share/virtualenvs/code-tW9RC7Ez/lib/python3.11/site-packages/scipy/stats/_stats_py.py:4916: ConstantInputWarning: An input array is constant; the correlation coefficient is not defined.\n",
      "  warnings.warn(stats.ConstantInputWarning(warn_msg))\n"
     ]
    },
    {
     "name": "stdout",
     "output_type": "stream",
     "text": [
      "... Iteration 4, Seed=6119\n",
      "Regularization: 20/20\r"
     ]
    },
    {
     "name": "stderr",
     "output_type": "stream",
     "text": [
      "/home/julian/.local/share/virtualenvs/code-tW9RC7Ez/lib/python3.11/site-packages/scipy/stats/_stats_py.py:4916: ConstantInputWarning: An input array is constant; the correlation coefficient is not defined.\n",
      "  warnings.warn(stats.ConstantInputWarning(warn_msg))\n"
     ]
    },
    {
     "name": "stdout",
     "output_type": "stream",
     "text": [
      "[*] Reading file /home/julian/Uni/MasterThesis/data/simdata_TS0.1_SS0.7.h5ad ...\n",
      "... Iteration 0, Seed=2259\n",
      "Regularization: 20/20\r"
     ]
    },
    {
     "name": "stderr",
     "output_type": "stream",
     "text": [
      "/home/julian/.local/share/virtualenvs/code-tW9RC7Ez/lib/python3.11/site-packages/scipy/stats/_stats_py.py:4916: ConstantInputWarning: An input array is constant; the correlation coefficient is not defined.\n",
      "  warnings.warn(stats.ConstantInputWarning(warn_msg))\n"
     ]
    },
    {
     "name": "stdout",
     "output_type": "stream",
     "text": [
      "... Iteration 1, Seed=2148\n",
      "Regularization: 20/20\r"
     ]
    },
    {
     "name": "stderr",
     "output_type": "stream",
     "text": [
      "/home/julian/.local/share/virtualenvs/code-tW9RC7Ez/lib/python3.11/site-packages/scipy/stats/_stats_py.py:4916: ConstantInputWarning: An input array is constant; the correlation coefficient is not defined.\n",
      "  warnings.warn(stats.ConstantInputWarning(warn_msg))\n"
     ]
    },
    {
     "name": "stdout",
     "output_type": "stream",
     "text": [
      "... Iteration 2, Seed=8756\n",
      "Regularization: 20/20\r"
     ]
    },
    {
     "name": "stderr",
     "output_type": "stream",
     "text": [
      "/home/julian/.local/share/virtualenvs/code-tW9RC7Ez/lib/python3.11/site-packages/scipy/stats/_stats_py.py:4916: ConstantInputWarning: An input array is constant; the correlation coefficient is not defined.\n",
      "  warnings.warn(stats.ConstantInputWarning(warn_msg))\n"
     ]
    },
    {
     "name": "stdout",
     "output_type": "stream",
     "text": [
      "... Iteration 3, Seed=2217\n",
      "... Iteration 4, Seed=6560\n",
      "Regularization: 20/20\r"
     ]
    },
    {
     "name": "stderr",
     "output_type": "stream",
     "text": [
      "/home/julian/.local/share/virtualenvs/code-tW9RC7Ez/lib/python3.11/site-packages/scipy/stats/_stats_py.py:4916: ConstantInputWarning: An input array is constant; the correlation coefficient is not defined.\n",
      "  warnings.warn(stats.ConstantInputWarning(warn_msg))\n"
     ]
    },
    {
     "name": "stdout",
     "output_type": "stream",
     "text": [
      "[*] Reading file /home/julian/Uni/MasterThesis/data/simdata_TS0.1_SS0.9.h5ad ...\n",
      "... Iteration 0, Seed=4752\n",
      "Regularization: 20/20\r"
     ]
    },
    {
     "name": "stderr",
     "output_type": "stream",
     "text": [
      "/home/julian/.local/share/virtualenvs/code-tW9RC7Ez/lib/python3.11/site-packages/scipy/stats/_stats_py.py:4916: ConstantInputWarning: An input array is constant; the correlation coefficient is not defined.\n",
      "  warnings.warn(stats.ConstantInputWarning(warn_msg))\n"
     ]
    },
    {
     "name": "stdout",
     "output_type": "stream",
     "text": [
      "... Iteration 1, Seed=5455\n",
      "Regularization: 20/20\r"
     ]
    },
    {
     "name": "stderr",
     "output_type": "stream",
     "text": [
      "/home/julian/.local/share/virtualenvs/code-tW9RC7Ez/lib/python3.11/site-packages/scipy/stats/_stats_py.py:4916: ConstantInputWarning: An input array is constant; the correlation coefficient is not defined.\n",
      "  warnings.warn(stats.ConstantInputWarning(warn_msg))\n"
     ]
    },
    {
     "name": "stdout",
     "output_type": "stream",
     "text": [
      "... Iteration 2, Seed=2941\n",
      "... Iteration 3, Seed=9757\n",
      "Regularization: 20/20\r"
     ]
    },
    {
     "name": "stderr",
     "output_type": "stream",
     "text": [
      "/home/julian/.local/share/virtualenvs/code-tW9RC7Ez/lib/python3.11/site-packages/scipy/stats/_stats_py.py:4916: ConstantInputWarning: An input array is constant; the correlation coefficient is not defined.\n",
      "  warnings.warn(stats.ConstantInputWarning(warn_msg))\n"
     ]
    },
    {
     "name": "stdout",
     "output_type": "stream",
     "text": [
      "... Iteration 4, Seed=5896\n",
      "Regularization: 20/20\r"
     ]
    },
    {
     "name": "stderr",
     "output_type": "stream",
     "text": [
      "/home/julian/.local/share/virtualenvs/code-tW9RC7Ez/lib/python3.11/site-packages/scipy/stats/_stats_py.py:4916: ConstantInputWarning: An input array is constant; the correlation coefficient is not defined.\n",
      "  warnings.warn(stats.ConstantInputWarning(warn_msg))\n"
     ]
    },
    {
     "name": "stdout",
     "output_type": "stream",
     "text": [
      "[*] Reading file /home/julian/Uni/MasterThesis/data/simdata_TS0.3_SS0.1.h5ad ...\n",
      "... Iteration 0, Seed=8932\n",
      "Regularization: 20/20\r"
     ]
    },
    {
     "name": "stderr",
     "output_type": "stream",
     "text": [
      "/home/julian/.local/share/virtualenvs/code-tW9RC7Ez/lib/python3.11/site-packages/scipy/stats/_stats_py.py:4916: ConstantInputWarning: An input array is constant; the correlation coefficient is not defined.\n",
      "  warnings.warn(stats.ConstantInputWarning(warn_msg))\n"
     ]
    },
    {
     "name": "stdout",
     "output_type": "stream",
     "text": [
      "... Iteration 1, Seed=9498\n",
      "... Iteration 2, Seed=5176\n",
      "Regularization: 20/20\r"
     ]
    },
    {
     "name": "stderr",
     "output_type": "stream",
     "text": [
      "/home/julian/.local/share/virtualenvs/code-tW9RC7Ez/lib/python3.11/site-packages/scipy/stats/_stats_py.py:4916: ConstantInputWarning: An input array is constant; the correlation coefficient is not defined.\n",
      "  warnings.warn(stats.ConstantInputWarning(warn_msg))\n"
     ]
    },
    {
     "name": "stdout",
     "output_type": "stream",
     "text": [
      "... Iteration 3, Seed=5723\n",
      "Regularization: 20/20\r"
     ]
    },
    {
     "name": "stderr",
     "output_type": "stream",
     "text": [
      "/home/julian/.local/share/virtualenvs/code-tW9RC7Ez/lib/python3.11/site-packages/scipy/stats/_stats_py.py:4916: ConstantInputWarning: An input array is constant; the correlation coefficient is not defined.\n",
      "  warnings.warn(stats.ConstantInputWarning(warn_msg))\n"
     ]
    },
    {
     "name": "stdout",
     "output_type": "stream",
     "text": [
      "... Iteration 4, Seed=4067\n",
      "[*] Reading file /home/julian/Uni/MasterThesis/data/simdata_TS0.3_SS0.3.h5ad ...\n",
      "... Iteration 0, Seed=329\n",
      "Regularization: 20/20\r"
     ]
    },
    {
     "name": "stderr",
     "output_type": "stream",
     "text": [
      "/home/julian/.local/share/virtualenvs/code-tW9RC7Ez/lib/python3.11/site-packages/scipy/stats/_stats_py.py:4916: ConstantInputWarning: An input array is constant; the correlation coefficient is not defined.\n",
      "  warnings.warn(stats.ConstantInputWarning(warn_msg))\n"
     ]
    },
    {
     "name": "stdout",
     "output_type": "stream",
     "text": [
      "... Iteration 1, Seed=5652\n",
      "Regularization: 20/20\r"
     ]
    },
    {
     "name": "stderr",
     "output_type": "stream",
     "text": [
      "/home/julian/.local/share/virtualenvs/code-tW9RC7Ez/lib/python3.11/site-packages/scipy/stats/_stats_py.py:4916: ConstantInputWarning: An input array is constant; the correlation coefficient is not defined.\n",
      "  warnings.warn(stats.ConstantInputWarning(warn_msg))\n"
     ]
    },
    {
     "name": "stdout",
     "output_type": "stream",
     "text": [
      "... Iteration 2, Seed=4375\n",
      "... Iteration 3, Seed=5010\n",
      "Regularization: 20/20\r"
     ]
    },
    {
     "name": "stderr",
     "output_type": "stream",
     "text": [
      "/home/julian/.local/share/virtualenvs/code-tW9RC7Ez/lib/python3.11/site-packages/scipy/stats/_stats_py.py:4916: ConstantInputWarning: An input array is constant; the correlation coefficient is not defined.\n",
      "  warnings.warn(stats.ConstantInputWarning(warn_msg))\n"
     ]
    },
    {
     "name": "stdout",
     "output_type": "stream",
     "text": [
      "... Iteration 4, Seed=1176\n",
      "Regularization: 20/20\r"
     ]
    },
    {
     "name": "stderr",
     "output_type": "stream",
     "text": [
      "/home/julian/.local/share/virtualenvs/code-tW9RC7Ez/lib/python3.11/site-packages/scipy/stats/_stats_py.py:4916: ConstantInputWarning: An input array is constant; the correlation coefficient is not defined.\n",
      "  warnings.warn(stats.ConstantInputWarning(warn_msg))\n"
     ]
    },
    {
     "name": "stdout",
     "output_type": "stream",
     "text": [
      "[*] Reading file /home/julian/Uni/MasterThesis/data/simdata_TS0.3_SS0.5.h5ad ...\n",
      "... Iteration 0, Seed=9248\n",
      "Regularization: 20/20\r"
     ]
    },
    {
     "name": "stderr",
     "output_type": "stream",
     "text": [
      "/home/julian/.local/share/virtualenvs/code-tW9RC7Ez/lib/python3.11/site-packages/scipy/stats/_stats_py.py:4916: ConstantInputWarning: An input array is constant; the correlation coefficient is not defined.\n",
      "  warnings.warn(stats.ConstantInputWarning(warn_msg))\n"
     ]
    },
    {
     "name": "stdout",
     "output_type": "stream",
     "text": [
      "... Iteration 1, Seed=1220\n",
      "Regularization: 20/20\r"
     ]
    },
    {
     "name": "stderr",
     "output_type": "stream",
     "text": [
      "/home/julian/.local/share/virtualenvs/code-tW9RC7Ez/lib/python3.11/site-packages/scipy/stats/_stats_py.py:4916: ConstantInputWarning: An input array is constant; the correlation coefficient is not defined.\n",
      "  warnings.warn(stats.ConstantInputWarning(warn_msg))\n"
     ]
    },
    {
     "name": "stdout",
     "output_type": "stream",
     "text": [
      "... Iteration 2, Seed=9016\n",
      "Regularization: 20/20\r"
     ]
    },
    {
     "name": "stderr",
     "output_type": "stream",
     "text": [
      "/home/julian/.local/share/virtualenvs/code-tW9RC7Ez/lib/python3.11/site-packages/scipy/stats/_stats_py.py:4916: ConstantInputWarning: An input array is constant; the correlation coefficient is not defined.\n",
      "  warnings.warn(stats.ConstantInputWarning(warn_msg))\n"
     ]
    },
    {
     "name": "stdout",
     "output_type": "stream",
     "text": [
      "... Iteration 3, Seed=5400\n",
      "Regularization: 20/20\r"
     ]
    },
    {
     "name": "stderr",
     "output_type": "stream",
     "text": [
      "/home/julian/.local/share/virtualenvs/code-tW9RC7Ez/lib/python3.11/site-packages/scipy/stats/_stats_py.py:4916: ConstantInputWarning: An input array is constant; the correlation coefficient is not defined.\n",
      "  warnings.warn(stats.ConstantInputWarning(warn_msg))\n"
     ]
    },
    {
     "name": "stdout",
     "output_type": "stream",
     "text": [
      "... Iteration 4, Seed=8737\n",
      "Regularization: 20/20\r"
     ]
    },
    {
     "name": "stderr",
     "output_type": "stream",
     "text": [
      "/home/julian/.local/share/virtualenvs/code-tW9RC7Ez/lib/python3.11/site-packages/scipy/stats/_stats_py.py:4916: ConstantInputWarning: An input array is constant; the correlation coefficient is not defined.\n",
      "  warnings.warn(stats.ConstantInputWarning(warn_msg))\n"
     ]
    },
    {
     "name": "stdout",
     "output_type": "stream",
     "text": [
      "[*] Reading file /home/julian/Uni/MasterThesis/data/simdata_TS0.3_SS0.7.h5ad ...\n",
      "... Iteration 0, Seed=5760\n",
      "Regularization: 20/20\r"
     ]
    },
    {
     "name": "stderr",
     "output_type": "stream",
     "text": [
      "/home/julian/.local/share/virtualenvs/code-tW9RC7Ez/lib/python3.11/site-packages/scipy/stats/_stats_py.py:4916: ConstantInputWarning: An input array is constant; the correlation coefficient is not defined.\n",
      "  warnings.warn(stats.ConstantInputWarning(warn_msg))\n"
     ]
    },
    {
     "name": "stdout",
     "output_type": "stream",
     "text": [
      "... Iteration 1, Seed=7244\n",
      "Regularization: 20/20\r"
     ]
    },
    {
     "name": "stderr",
     "output_type": "stream",
     "text": [
      "/home/julian/.local/share/virtualenvs/code-tW9RC7Ez/lib/python3.11/site-packages/scipy/stats/_stats_py.py:4916: ConstantInputWarning: An input array is constant; the correlation coefficient is not defined.\n",
      "  warnings.warn(stats.ConstantInputWarning(warn_msg))\n"
     ]
    },
    {
     "name": "stdout",
     "output_type": "stream",
     "text": [
      "... Iteration 2, Seed=8679\n",
      "Regularization: 20/20\r"
     ]
    },
    {
     "name": "stderr",
     "output_type": "stream",
     "text": [
      "/home/julian/.local/share/virtualenvs/code-tW9RC7Ez/lib/python3.11/site-packages/scipy/stats/_stats_py.py:4916: ConstantInputWarning: An input array is constant; the correlation coefficient is not defined.\n",
      "  warnings.warn(stats.ConstantInputWarning(warn_msg))\n"
     ]
    },
    {
     "name": "stdout",
     "output_type": "stream",
     "text": [
      "... Iteration 3, Seed=8783\n",
      "Regularization: 20/20\r"
     ]
    },
    {
     "name": "stderr",
     "output_type": "stream",
     "text": [
      "/home/julian/.local/share/virtualenvs/code-tW9RC7Ez/lib/python3.11/site-packages/scipy/stats/_stats_py.py:4916: ConstantInputWarning: An input array is constant; the correlation coefficient is not defined.\n",
      "  warnings.warn(stats.ConstantInputWarning(warn_msg))\n"
     ]
    },
    {
     "name": "stdout",
     "output_type": "stream",
     "text": [
      "... Iteration 4, Seed=5149\n",
      "Regularization: 20/20\r"
     ]
    },
    {
     "name": "stderr",
     "output_type": "stream",
     "text": [
      "/home/julian/.local/share/virtualenvs/code-tW9RC7Ez/lib/python3.11/site-packages/scipy/stats/_stats_py.py:4916: ConstantInputWarning: An input array is constant; the correlation coefficient is not defined.\n",
      "  warnings.warn(stats.ConstantInputWarning(warn_msg))\n"
     ]
    },
    {
     "name": "stdout",
     "output_type": "stream",
     "text": [
      "[*] Reading file /home/julian/Uni/MasterThesis/data/simdata_TS0.5_SS0.1.h5ad ...\n",
      "... Iteration 0, Seed=4389\n",
      "... Iteration 1, Seed=9542\n",
      "... Iteration 2, Seed=4419\n",
      "... Iteration 3, Seed=1066\n",
      "... Iteration 4, Seed=1087\n",
      "[*] Reading file /home/julian/Uni/MasterThesis/data/simdata_TS0.5_SS0.3.h5ad ...\n",
      "... Iteration 0, Seed=3491\n",
      "... Iteration 1, Seed=4090\n",
      "... Iteration 2, Seed=9400\n",
      "... Iteration 3, Seed=5160\n",
      "... Iteration 4, Seed=9622\n",
      "[*] Reading file /home/julian/Uni/MasterThesis/data/simdata_TS0.5_SS0.5.h5ad ...\n",
      "... Iteration 0, Seed=4124\n",
      "... Iteration 1, Seed=5232\n",
      "... Iteration 2, Seed=983\n",
      "... Iteration 3, Seed=9759\n",
      "... Iteration 4, Seed=2678\n",
      "[*] Reading file /home/julian/Uni/MasterThesis/data/simdata_TS0.7_SS0.1.h5ad ...\n",
      "... Iteration 0, Seed=2530\n",
      "... Iteration 1, Seed=3137\n",
      "... Iteration 2, Seed=9880\n",
      "... Iteration 3, Seed=1839\n",
      "... Iteration 4, Seed=6912\n",
      "[*] Reading file /home/julian/Uni/MasterThesis/data/simdata_TS0.7_SS0.3.h5ad ...\n",
      "... Iteration 0, Seed=7918\n",
      "... Iteration 1, Seed=2651\n",
      "... Iteration 2, Seed=3713\n",
      "... Iteration 3, Seed=5366\n",
      "... Iteration 4, Seed=3623\n",
      "[*] Reading file /home/julian/Uni/MasterThesis/data/simdata_TS0.9_SS0.1.h5ad ...\n",
      "... Iteration 0, Seed=5237\n",
      "... Iteration 1, Seed=4941\n",
      "... Iteration 2, Seed=501\n",
      "... Iteration 3, Seed=9244\n",
      "... Iteration 4, Seed=4668\n",
      "[*] Writing results20\n"
     ]
    },
    {
     "ename": "TypeError",
     "evalue": "sequence item 0: expected str instance, float found",
     "output_type": "error",
     "traceback": [
      "\u001b[0;31m---------------------------------------------------------------------------\u001b[0m",
      "\u001b[0;31mTypeError\u001b[0m                                 Traceback (most recent call last)",
      "Cell \u001b[0;32mIn[7], line 98\u001b[0m\n\u001b[1;32m     96\u001b[0m         \u001b[38;5;28;01melse\u001b[39;00m:\n\u001b[1;32m     97\u001b[0m             f\u001b[38;5;241m.\u001b[39mwrite(\u001b[38;5;124m\"\u001b[39m\u001b[38;5;124m, \u001b[39m\u001b[38;5;124m\"\u001b[39m\u001b[38;5;241m.\u001b[39mjoin(g\u001b[38;5;241m.\u001b[39mabs()\u001b[38;5;241m.\u001b[39msort_values()\u001b[38;5;241m.\u001b[39mindex) \u001b[38;5;241m+\u001b[39m \u001b[38;5;124m\"\u001b[39m\u001b[38;5;130;01m\\n\u001b[39;00m\u001b[38;5;124m\"\u001b[39m)\n\u001b[0;32m---> 98\u001b[0m             f\u001b[38;5;241m.\u001b[39mwrite(\u001b[38;5;124m\"\u001b[39m\u001b[38;5;124m, \u001b[39m\u001b[38;5;124m\"\u001b[39m\u001b[38;5;241m.\u001b[39mjoin(g\u001b[38;5;241m.\u001b[39mabs()\u001b[38;5;241m.\u001b[39msort_values()) \u001b[38;5;241m+\u001b[39m \u001b[38;5;124m\"\u001b[39m\u001b[38;5;130;01m\\n\u001b[39;00m\u001b[38;5;124m\"\u001b[39m)\n\u001b[1;32m    100\u001b[0m warnings\u001b[38;5;241m.\u001b[39mfilterwarnings(\u001b[38;5;124m\"\u001b[39m\u001b[38;5;124malways\u001b[39m\u001b[38;5;124m\"\u001b[39m)\n",
      "\u001b[0;31mTypeError\u001b[0m: sequence item 0: expected str instance, float found"
     ]
    }
   ],
   "source": [
    "warnings.filterwarnings(\"once\")\n",
    "\n",
    "genes = []\n",
    "results = {\n",
    "    \"file\": [],\n",
    "    \"seed\": [],\n",
    "    \"best_reg\": [],\n",
    "    \"dof\": [],\n",
    "    \"train_accuracy\": [],\n",
    "    \"train_bal_acc\": [],\n",
    "    \"train_abs_err\": [],\n",
    "    \"test_accuracy\": [],\n",
    "    \"test_bal_acc\": [],\n",
    "    \"test_abs_err\": [],\n",
    "    \"spearman_corr\": [],\n",
    "    \"pearson_corr\": [],\n",
    "    \"precision\": [],\n",
    "    \"sensitivity\": [],\n",
    "}\n",
    "\n",
    "print(\"[*] Running Simulation\")\n",
    "print(\"[*] Regularization Params = \", reg_params)\n",
    "\n",
    "for f in filenames:\n",
    "    simfile = os.path.join(data_dir, f)\n",
    "    print(\"[*] Reading file %s ...\" % simfile)\n",
    "    anndata = load_h5ad(simfile)\n",
    "\n",
    "    anndata.obs[\"ordinal_label\"] = transform_labels(np.array([int(x) for x in anndata.obs.Ordinal_Time_Labels]))\n",
    "    X_train, X_test, y_train, y_test = train_test_split(anndata.X, anndata.obs[\"ordinal_label\"], \n",
    "                                                        test_size=0.1, \n",
    "                                                        stratify=anndata.obs[\"ordinal_label\"],\n",
    "                                                        random_state=1234)\n",
    "\n",
    "    weights_train = calculate_weights(y_train)\n",
    "    weights_test = calculate_weights(y_test)\n",
    "\n",
    "    for i in range(n_seeds):\n",
    "\n",
    "        seed = np.random.randint(9999)\n",
    "        print(\"... Iteration %s, Seed=%s\" % (i, seed))\n",
    "\n",
    "        #print(\"... Cross Validation\")\n",
    "        sgd = RegularizationGridSearch(estimator=estimator_class,\n",
    "                                       n_folds=n_folds,\n",
    "                                       n_jobs=n_jobs,\n",
    "                                       lambdas=reg_params,\n",
    "                                       scoring=scoring)\n",
    "\n",
    "        estimator_params = {\"random_state\": seed, \"max_iter\": 10, \"early_stopping\": True}\n",
    "        fit_params = None #{\"sample_weight\": weights_train}\n",
    "        sgd.fit(X_train, y_train, fit_params=fit_params, estimator_params=estimator_params)\n",
    "\n",
    "        #print(\"... Refitting on training data\")\n",
    "        sparse_model = sgd.get_optimal_model(\"1se\")\n",
    "        sparse_model.fit(X_train, y_train)\n",
    "\n",
    "        # genes weights\n",
    "        anndata.var[\"psupertime_weights\"] = sparse_model.coef_\n",
    "        genes += [anndata.var.psupertime_weights[anndata.var.psupertime_weights != 0]]\n",
    "\n",
    "        # calculate psupertime -> adds anndata.obs.psupertime\n",
    "        sparse_model.predict_psuper(anndata)\n",
    "        pearsonr = anndata.obs.Latent_Time.corr(anndata.obs.psupertime)\n",
    "        spearmanr = anndata.obs.Latent_Time.corr(anndata.obs.psupertime, method='spearman')\n",
    "        kendalltau = anndata.obs.Latent_Time.corr(anndata.obs.psupertime, method='kendall')\n",
    "\n",
    "        results[\"file\"] += [f]\n",
    "        results[\"seed\"] += [seed]\n",
    "        results[\"best_reg\"] += [sparse_model.regularization]\n",
    "        results[\"dof\"] += [len(np.nonzero(sparse_model.coef_)[0])]\n",
    "        results[\"train_accuracy\"] += [metrics.accuracy_score(y_train, sparse_model.predict(X_train))]\n",
    "        results[\"train_bal_acc\"] += [metrics.balanced_accuracy_score(y_train, sparse_model.predict(X_train))]\n",
    "        results[\"train_abs_err\"] += [metrics.mean_absolute_error(y_train, sparse_model.predict(X_train), sample_weight=weights_train)]\n",
    "        results[\"test_accuracy\"] += [metrics.accuracy_score(y_test, sparse_model.predict(X_test))]\n",
    "        results[\"test_bal_acc\"] += [metrics.balanced_accuracy_score(y_test, sparse_model.predict(X_test))]\n",
    "        results[\"test_abs_err\"] += [metrics.mean_absolute_error(y_test, sparse_model.predict(X_test), sample_weight=weights_test)]\n",
    "        results[\"spearman_corr\"] += [spearmanr]\n",
    "        results[\"pearson_corr\"] += [pearsonr]\n",
    "        \n",
    "        TP = sum([g in anndata.var[anndata.var.Setting == \"TS\"].index for g in anndata.var[anndata.var.psupertime_weights.abs() != 0].index])\n",
    "        FP = len(anndata.var[anndata.var.psupertime_weights.abs() != 0].index) - TP\n",
    "        P = anndata.var[anndata.var.Setting == \"TS\"].shape[0]\n",
    "        results[\"sensitivity\"] += [TP / P]\n",
    "        results[\"precision\"] += [TP / (TP + FP) if TP + FP > 0 else 0]\n",
    "\n",
    "print(\"[*] Writing results\")\n",
    "# Write results to files\n",
    "pd.DataFrame(results).to_csv(results_outfile)\n",
    "\n",
    "# Write Genes and weights\n",
    "with open(genes_outfile, \"w\") as f:\n",
    "    for g in genes:#\n",
    "        if (len(genes) == 0):\n",
    "            f.write(\"\\n\\n\")\n",
    "        else:\n",
    "            f.write(\", \".join(g.abs().sort_values().index) + \"\\n\")\n",
    "            f.write(\", \".join([str(el) for el ing.abs().sort_values()]) + \"\\n\")\n",
    "\n",
    "warnings.filterwarnings(\"always\")\n"
   ]
  },
  {
   "cell_type": "code",
   "execution_count": 12,
   "id": "be39379c",
   "metadata": {},
   "outputs": [],
   "source": [
    "# Write Genes and weights\n",
    "with open(genes_outfile, \"w\") as f:\n",
    "    for g in genes:#\n",
    "        if (len(genes) == 0):\n",
    "            f.write(\"\\n\\n\")\n",
    "        else:\n",
    "            f.write(\", \".join(g.abs().sort_values().index) + \"\\n\")\n",
    "            f.write(\", \".join([str(el) for el in g.abs().sort_values()]) + \"\\n\")\n"
   ]
  },
  {
   "cell_type": "code",
   "execution_count": null,
   "id": "b159512d",
   "metadata": {
    "scrolled": true
   },
   "outputs": [],
   "source": [
    "import datetime\n",
    "print(datetime.datetime.now())"
   ]
  },
  {
   "cell_type": "markdown",
   "id": "72f592ec",
   "metadata": {},
   "source": [
    "**Roughly 6h Runtime for simulation with data restruturing**\n",
    "\n",
    "**Roughly 3h Runtime for simulation with vanilla SGD**\n"
   ]
  },
  {
   "cell_type": "code",
   "execution_count": 8,
   "id": "481c3ece",
   "metadata": {},
   "outputs": [],
   "source": [
    "df = pd.read_csv(results_outfile)"
   ]
  },
  {
   "cell_type": "code",
   "execution_count": 9,
   "id": "5270b0eb",
   "metadata": {},
   "outputs": [
    {
     "data": {
      "text/html": [
       "<div>\n",
       "<style scoped>\n",
       "    .dataframe tbody tr th:only-of-type {\n",
       "        vertical-align: middle;\n",
       "    }\n",
       "\n",
       "    .dataframe tbody tr th {\n",
       "        vertical-align: top;\n",
       "    }\n",
       "\n",
       "    .dataframe thead th {\n",
       "        text-align: right;\n",
       "    }\n",
       "</style>\n",
       "<table border=\"1\" class=\"dataframe\">\n",
       "  <thead>\n",
       "    <tr style=\"text-align: right;\">\n",
       "      <th></th>\n",
       "      <th>Unnamed: 0</th>\n",
       "      <th>seed</th>\n",
       "      <th>best_reg</th>\n",
       "      <th>dof</th>\n",
       "      <th>train_accuracy</th>\n",
       "      <th>train_bal_acc</th>\n",
       "      <th>train_abs_err</th>\n",
       "      <th>test_accuracy</th>\n",
       "      <th>test_bal_acc</th>\n",
       "      <th>test_abs_err</th>\n",
       "      <th>spearman_corr</th>\n",
       "      <th>pearson_corr</th>\n",
       "      <th>precision</th>\n",
       "      <th>sensitivity</th>\n",
       "    </tr>\n",
       "  </thead>\n",
       "  <tbody>\n",
       "    <tr>\n",
       "      <th>count</th>\n",
       "      <td>75.000000</td>\n",
       "      <td>75.000000</td>\n",
       "      <td>75.000000</td>\n",
       "      <td>75.000000</td>\n",
       "      <td>75.000000</td>\n",
       "      <td>75.000000</td>\n",
       "      <td>75.000000</td>\n",
       "      <td>75.000000</td>\n",
       "      <td>75.000000</td>\n",
       "      <td>75.000000</td>\n",
       "      <td>35.000000</td>\n",
       "      <td>35.000000</td>\n",
       "      <td>75.000000</td>\n",
       "      <td>75.000000</td>\n",
       "    </tr>\n",
       "    <tr>\n",
       "      <th>mean</th>\n",
       "      <td>37.000000</td>\n",
       "      <td>5116.773333</td>\n",
       "      <td>0.178940</td>\n",
       "      <td>46.893333</td>\n",
       "      <td>0.265502</td>\n",
       "      <td>0.192401</td>\n",
       "      <td>2.608012</td>\n",
       "      <td>0.257701</td>\n",
       "      <td>0.190466</td>\n",
       "      <td>2.601556</td>\n",
       "      <td>0.773685</td>\n",
       "      <td>0.788735</td>\n",
       "      <td>0.404534</td>\n",
       "      <td>0.000359</td>\n",
       "    </tr>\n",
       "    <tr>\n",
       "      <th>std</th>\n",
       "      <td>21.794495</td>\n",
       "      <td>2878.035627</td>\n",
       "      <td>0.073166</td>\n",
       "      <td>327.839635</td>\n",
       "      <td>0.055298</td>\n",
       "      <td>0.070436</td>\n",
       "      <td>0.528152</td>\n",
       "      <td>0.049655</td>\n",
       "      <td>0.063519</td>\n",
       "      <td>0.537877</td>\n",
       "      <td>0.219991</td>\n",
       "      <td>0.246192</td>\n",
       "      <td>0.485023</td>\n",
       "      <td>0.002219</td>\n",
       "    </tr>\n",
       "    <tr>\n",
       "      <th>min</th>\n",
       "      <td>0.000000</td>\n",
       "      <td>329.000000</td>\n",
       "      <td>0.014033</td>\n",
       "      <td>0.000000</td>\n",
       "      <td>0.225243</td>\n",
       "      <td>0.142857</td>\n",
       "      <td>0.668031</td>\n",
       "      <td>0.172414</td>\n",
       "      <td>0.142857</td>\n",
       "      <td>1.079365</td>\n",
       "      <td>0.056048</td>\n",
       "      <td>0.059418</td>\n",
       "      <td>0.000000</td>\n",
       "      <td>0.000000</td>\n",
       "    </tr>\n",
       "    <tr>\n",
       "      <th>25%</th>\n",
       "      <td>18.500000</td>\n",
       "      <td>2809.500000</td>\n",
       "      <td>0.107167</td>\n",
       "      <td>0.000000</td>\n",
       "      <td>0.229126</td>\n",
       "      <td>0.142857</td>\n",
       "      <td>2.151918</td>\n",
       "      <td>0.224138</td>\n",
       "      <td>0.142857</td>\n",
       "      <td>2.142857</td>\n",
       "      <td>0.722640</td>\n",
       "      <td>0.769229</td>\n",
       "      <td>0.000000</td>\n",
       "      <td>0.000000</td>\n",
       "    </tr>\n",
       "    <tr>\n",
       "      <th>50%</th>\n",
       "      <td>37.000000</td>\n",
       "      <td>5149.000000</td>\n",
       "      <td>0.178151</td>\n",
       "      <td>0.000000</td>\n",
       "      <td>0.229126</td>\n",
       "      <td>0.142857</td>\n",
       "      <td>3.000000</td>\n",
       "      <td>0.224138</td>\n",
       "      <td>0.142857</td>\n",
       "      <td>3.000000</td>\n",
       "      <td>0.838394</td>\n",
       "      <td>0.877488</td>\n",
       "      <td>0.000000</td>\n",
       "      <td>0.000000</td>\n",
       "    </tr>\n",
       "    <tr>\n",
       "      <th>75%</th>\n",
       "      <td>55.500000</td>\n",
       "      <td>7581.000000</td>\n",
       "      <td>0.250000</td>\n",
       "      <td>3.000000</td>\n",
       "      <td>0.300971</td>\n",
       "      <td>0.244072</td>\n",
       "      <td>3.000000</td>\n",
       "      <td>0.301724</td>\n",
       "      <td>0.250000</td>\n",
       "      <td>3.000000</td>\n",
       "      <td>0.914889</td>\n",
       "      <td>0.944503</td>\n",
       "      <td>1.000000</td>\n",
       "      <td>0.000203</td>\n",
       "    </tr>\n",
       "    <tr>\n",
       "      <th>max</th>\n",
       "      <td>74.000000</td>\n",
       "      <td>9880.000000</td>\n",
       "      <td>0.250000</td>\n",
       "      <td>2780.000000</td>\n",
       "      <td>0.557282</td>\n",
       "      <td>0.531876</td>\n",
       "      <td>3.000000</td>\n",
       "      <td>0.431034</td>\n",
       "      <td>0.367347</td>\n",
       "      <td>3.000000</td>\n",
       "      <td>0.998436</td>\n",
       "      <td>0.998192</td>\n",
       "      <td>1.000000</td>\n",
       "      <td>0.019284</td>\n",
       "    </tr>\n",
       "  </tbody>\n",
       "</table>\n",
       "</div>"
      ],
      "text/plain": [
       "       Unnamed: 0         seed   best_reg          dof  train_accuracy  \\\n",
       "count   75.000000    75.000000  75.000000    75.000000       75.000000   \n",
       "mean    37.000000  5116.773333   0.178940    46.893333        0.265502   \n",
       "std     21.794495  2878.035627   0.073166   327.839635        0.055298   \n",
       "min      0.000000   329.000000   0.014033     0.000000        0.225243   \n",
       "25%     18.500000  2809.500000   0.107167     0.000000        0.229126   \n",
       "50%     37.000000  5149.000000   0.178151     0.000000        0.229126   \n",
       "75%     55.500000  7581.000000   0.250000     3.000000        0.300971   \n",
       "max     74.000000  9880.000000   0.250000  2780.000000        0.557282   \n",
       "\n",
       "       train_bal_acc  train_abs_err  test_accuracy  test_bal_acc  \\\n",
       "count      75.000000      75.000000      75.000000     75.000000   \n",
       "mean        0.192401       2.608012       0.257701      0.190466   \n",
       "std         0.070436       0.528152       0.049655      0.063519   \n",
       "min         0.142857       0.668031       0.172414      0.142857   \n",
       "25%         0.142857       2.151918       0.224138      0.142857   \n",
       "50%         0.142857       3.000000       0.224138      0.142857   \n",
       "75%         0.244072       3.000000       0.301724      0.250000   \n",
       "max         0.531876       3.000000       0.431034      0.367347   \n",
       "\n",
       "       test_abs_err  spearman_corr  pearson_corr  precision  sensitivity  \n",
       "count     75.000000      35.000000     35.000000  75.000000    75.000000  \n",
       "mean       2.601556       0.773685      0.788735   0.404534     0.000359  \n",
       "std        0.537877       0.219991      0.246192   0.485023     0.002219  \n",
       "min        1.079365       0.056048      0.059418   0.000000     0.000000  \n",
       "25%        2.142857       0.722640      0.769229   0.000000     0.000000  \n",
       "50%        3.000000       0.838394      0.877488   0.000000     0.000000  \n",
       "75%        3.000000       0.914889      0.944503   1.000000     0.000203  \n",
       "max        3.000000       0.998436      0.998192   1.000000     0.019284  "
      ]
     },
     "execution_count": 9,
     "metadata": {},
     "output_type": "execute_result"
    }
   ],
   "source": [
    "df.describe()"
   ]
  },
  {
   "cell_type": "code",
   "execution_count": 13,
   "id": "b38568c7",
   "metadata": {},
   "outputs": [
    {
     "data": {
      "text/plain": [
       "Unnamed: 0                              36\n",
       "file              simdata_TS0.3_SS0.5.h5ad\n",
       "seed                                  1220\n",
       "best_reg                              0.25\n",
       "dof                                      0\n",
       "train_accuracy                    0.229126\n",
       "train_bal_acc                     0.142857\n",
       "train_abs_err                          3.0\n",
       "test_accuracy                     0.224138\n",
       "test_bal_acc                      0.142857\n",
       "test_abs_err                           3.0\n",
       "spearman_corr                          NaN\n",
       "pearson_corr                           NaN\n",
       "precision                              0.0\n",
       "sensitivity                            0.0\n",
       "Name: 36, dtype: object"
      ]
     },
     "execution_count": 13,
     "metadata": {},
     "output_type": "execute_result"
    }
   ],
   "source": [
    "df.iloc[36]"
   ]
  }
 ],
 "metadata": {
  "kernelspec": {
   "display_name": "Python 3 (ipykernel)",
   "language": "python",
   "name": "python3"
  },
  "language_info": {
   "codemirror_mode": {
    "name": "ipython",
    "version": 3
   },
   "file_extension": ".py",
   "mimetype": "text/x-python",
   "name": "python",
   "nbconvert_exporter": "python",
   "pygments_lexer": "ipython3",
   "version": "3.11.3"
  }
 },
 "nbformat": 4,
 "nbformat_minor": 5
}
