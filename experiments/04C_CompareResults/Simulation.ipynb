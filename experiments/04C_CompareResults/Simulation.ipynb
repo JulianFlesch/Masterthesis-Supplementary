{
 "cells": [
  {
   "cell_type": "code",
   "execution_count": 1,
   "id": "6d73e168",
   "metadata": {},
   "outputs": [
    {
     "name": "stdout",
     "output_type": "stream",
     "text": [
      "2023-08-01 01:44:40.421996\n"
     ]
    }
   ],
   "source": [
    "import datetime\n",
    "print(datetime.datetime.now())"
   ]
  },
  {
   "cell_type": "code",
   "execution_count": 2,
   "id": "254ecce4",
   "metadata": {},
   "outputs": [],
   "source": [
    "import os\n",
    "from sklearn import metrics\n",
    "import numpy as np\n",
    "import pandas as pd\n",
    "from matplotlib import pyplot as plt \n",
    "from masterthesis.data import load_h5ad\n",
    "from masterthesis.preprocessing import calculate_weights, transform_labels\n",
    "from sklearn.model_selection import train_test_split\n",
    "from masterthesis.model_selection import RegularizationGridSearch\n",
    "from masterthesis.model import VanillaSGDBinarizedModel\n",
    "from psupertime.model import BaselineSGDModel\n",
    "from sklearn import metrics\n",
    "\n",
    "import warnings"
   ]
  },
  {
   "cell_type": "code",
   "execution_count": 3,
   "id": "e0105417",
   "metadata": {},
   "outputs": [],
   "source": [
    "from sklearn.linear_model import SGDClassifier\n",
    "\n",
    "# elastic net Classifier\n",
    "class ElasticNetBinSGD(SGDClassifier):\n",
    "    def __init__(self, regularization=0.1,\n",
    "                 n_jobs=1,\n",
    "                 max_iter=100, \n",
    "                 random_state=12345, \n",
    "                 n_iter_no_change=5, \n",
    "                 early_stopping=True,\n",
    "                 tol=1e-3,\n",
    "                 learning_rate=\"optimal\",\n",
    "                 eta0=0):\n",
    "        self.regularization = regularization\n",
    "        super().__init__(alpha=regularization, loss=\"log_loss\", penalty=\"elasticnet\", l1_ratio=0.8, fit_intercept=True, n_jobs=n_jobs,\n",
    "                         max_iter=max_iter, random_state=random_state, n_iter_no_change=n_iter_no_change, \n",
    "                         early_stopping=early_stopping, tol=tol, learning_rate=learning_rate, eta0=eta0)\n"
   ]
  },
  {
   "cell_type": "code",
   "execution_count": 4,
   "id": "811dafd1",
   "metadata": {},
   "outputs": [],
   "source": [
    "#estimator_class = ElasticNetBinSGD\n",
    "estimator_class = BaselineSGDModel\n",
    "is_bin_model = False\n",
    "\n",
    "# report files\n",
    "genes_outfile = \"genes_py_5-elastic08.txt\"\n",
    "results_outfile = \"results_py_5-elastic08.txt\"\n",
    "\n",
    "# Fit params\n",
    "n_seeds = 5\n",
    "n_folds = 5\n",
    "n_jobs = 4\n",
    "n_reg_params = 20\n",
    "reg_params = np.geomspace(0.25, 0.005, n_reg_params)\n",
    "scoring = metrics.make_scorer(metrics.accuracy_score)\n",
    "\n",
    "# Simulation data\n",
    "data_dir = \"/home/julian/Uni/MasterThesis/data\"\n",
    "filenames = [\n",
    "    \"simdata_v2_TS0.1_SS0.1.h5ad\", \n",
    "    \"simdata_v2_TS0.1_SS0.3.h5ad\",\n",
    "    \"simdata_v2_TS0.1_SS0.5.h5ad\",\n",
    "    \"simdata_v2_TS0.1_SS0.7.h5ad\",\n",
    "    \"simdata_v2_TS0.1_SS0.9.h5ad\",\n",
    "    \"simdata_v2_TS0.3_SS0.1.h5ad\",\n",
    "    \"simdata_v2_TS0.3_SS0.3.h5ad\",\n",
    "    \"simdata_v2_TS0.3_SS0.5.h5ad\",\n",
    "    \"simdata_v2_TS0.3_SS0.7.h5ad\",\n",
    "    \"simdata_v2_TS0.5_SS0.1.h5ad\",\n",
    "    \"simdata_v2_TS0.5_SS0.3.h5ad\",\n",
    "    \"simdata_v2_TS0.5_SS0.5.h5ad\",\n",
    "    \"simdata_v2_TS0.7_SS0.1.h5ad\",\n",
    "    \"simdata_v2_TS0.7_SS0.3.h5ad\",\n",
    "    \"simdata_v2_TS0.9_SS0.1.h5ad\"\n",
    "]"
   ]
  },
  {
   "cell_type": "code",
   "execution_count": 6,
   "id": "8ce317e8",
   "metadata": {
    "scrolled": false
   },
   "outputs": [
    {
     "name": "stdout",
     "output_type": "stream",
     "text": [
      "[*] Running Simulation\n",
      "[*] Regularization Params =  [0.25       0.20347944 0.16561553 0.13479742 0.10971402 0.08929819\n",
      " 0.07268138 0.05915667 0.04814866 0.03918905 0.03189666 0.02596126\n",
      " 0.02113033 0.01719835 0.01399804 0.01139326 0.00927317 0.0075476\n",
      " 0.00614313 0.005     ]\n",
      "[*] Reading file /home/julian/Uni/MasterThesis/data/simdata_v2_TS0.1_SS0.1.h5ad ...\n",
      "... Iteration 0, Seed=4263\n",
      "Regularization: 20/20\r"
     ]
    },
    {
     "name": "stderr",
     "output_type": "stream",
     "text": [
      "/home/julian/.local/share/virtualenvs/code-tW9RC7Ez/lib/python3.11/site-packages/scipy/stats/_stats_py.py:4916: ConstantInputWarning: An input array is constant; the correlation coefficient is not defined.\n",
      "  warnings.warn(stats.ConstantInputWarning(warn_msg))\n"
     ]
    },
    {
     "name": "stdout",
     "output_type": "stream",
     "text": [
      "... dof: 0 train_bacc: 0.14285714285714285 test_bacc 0.14285714285714285 spear_cor nan\n",
      "... Iteration 1, Seed=3019\n",
      "Regularization: 20/20\r"
     ]
    },
    {
     "name": "stderr",
     "output_type": "stream",
     "text": [
      "/home/julian/.local/share/virtualenvs/code-tW9RC7Ez/lib/python3.11/site-packages/scipy/stats/_stats_py.py:4916: ConstantInputWarning: An input array is constant; the correlation coefficient is not defined.\n",
      "  warnings.warn(stats.ConstantInputWarning(warn_msg))\n"
     ]
    },
    {
     "name": "stdout",
     "output_type": "stream",
     "text": [
      "... dof: 0 train_bacc: 0.14285714285714285 test_bacc 0.14285714285714285 spear_cor nan\n",
      "... Iteration 2, Seed=4671\n",
      "Regularization: 20/20\r"
     ]
    },
    {
     "name": "stderr",
     "output_type": "stream",
     "text": [
      "/home/julian/.local/share/virtualenvs/code-tW9RC7Ez/lib/python3.11/site-packages/scipy/stats/_stats_py.py:4916: ConstantInputWarning: An input array is constant; the correlation coefficient is not defined.\n",
      "  warnings.warn(stats.ConstantInputWarning(warn_msg))\n"
     ]
    },
    {
     "name": "stdout",
     "output_type": "stream",
     "text": [
      "... dof: 0 train_bacc: 0.14285714285714285 test_bacc 0.14285714285714285 spear_cor nan\n",
      "... Iteration 3, Seed=8428\n",
      "Regularization: 20/20\r"
     ]
    },
    {
     "name": "stderr",
     "output_type": "stream",
     "text": [
      "/home/julian/.local/share/virtualenvs/code-tW9RC7Ez/lib/python3.11/site-packages/scipy/stats/_stats_py.py:4916: ConstantInputWarning: An input array is constant; the correlation coefficient is not defined.\n",
      "  warnings.warn(stats.ConstantInputWarning(warn_msg))\n"
     ]
    },
    {
     "name": "stdout",
     "output_type": "stream",
     "text": [
      "... dof: 0 train_bacc: 0.14285714285714285 test_bacc 0.14285714285714285 spear_cor nan\n",
      "... Iteration 4, Seed=5908\n",
      "Regularization: 20/20\r"
     ]
    },
    {
     "name": "stderr",
     "output_type": "stream",
     "text": [
      "/home/julian/.local/share/virtualenvs/code-tW9RC7Ez/lib/python3.11/site-packages/scipy/stats/_stats_py.py:4916: ConstantInputWarning: An input array is constant; the correlation coefficient is not defined.\n",
      "  warnings.warn(stats.ConstantInputWarning(warn_msg))\n"
     ]
    },
    {
     "name": "stdout",
     "output_type": "stream",
     "text": [
      "... dof: 0 train_bacc: 0.14285714285714285 test_bacc 0.14285714285714285 spear_cor nan\n",
      "[*] Reading file /home/julian/Uni/MasterThesis/data/simdata_v2_TS0.1_SS0.3.h5ad ...\n",
      "... Iteration 0, Seed=6502\n",
      "Regularization: 20/20\r"
     ]
    },
    {
     "name": "stderr",
     "output_type": "stream",
     "text": [
      "/home/julian/.local/share/virtualenvs/code-tW9RC7Ez/lib/python3.11/site-packages/scipy/stats/_stats_py.py:4916: ConstantInputWarning: An input array is constant; the correlation coefficient is not defined.\n",
      "  warnings.warn(stats.ConstantInputWarning(warn_msg))\n"
     ]
    },
    {
     "name": "stdout",
     "output_type": "stream",
     "text": [
      "... dof: 0 train_bacc: 0.14285714285714285 test_bacc 0.14285714285714285 spear_cor nan\n",
      "... Iteration 1, Seed=39\n",
      "Regularization: 20/20\r"
     ]
    },
    {
     "name": "stderr",
     "output_type": "stream",
     "text": [
      "/home/julian/.local/share/virtualenvs/code-tW9RC7Ez/lib/python3.11/site-packages/scipy/stats/_stats_py.py:4916: ConstantInputWarning: An input array is constant; the correlation coefficient is not defined.\n",
      "  warnings.warn(stats.ConstantInputWarning(warn_msg))\n"
     ]
    },
    {
     "name": "stdout",
     "output_type": "stream",
     "text": [
      "... dof: 0 train_bacc: 0.14285714285714285 test_bacc 0.14285714285714285 spear_cor nan\n",
      "... Iteration 2, Seed=5424\n",
      "Regularization: 20/20\r"
     ]
    },
    {
     "name": "stderr",
     "output_type": "stream",
     "text": [
      "/home/julian/.local/share/virtualenvs/code-tW9RC7Ez/lib/python3.11/site-packages/scipy/stats/_stats_py.py:4916: ConstantInputWarning: An input array is constant; the correlation coefficient is not defined.\n",
      "  warnings.warn(stats.ConstantInputWarning(warn_msg))\n"
     ]
    },
    {
     "name": "stdout",
     "output_type": "stream",
     "text": [
      "... dof: 0 train_bacc: 0.14285714285714285 test_bacc 0.14285714285714285 spear_cor nan\n",
      "... Iteration 3, Seed=8451\n",
      "Regularization: 20/20\r"
     ]
    },
    {
     "name": "stderr",
     "output_type": "stream",
     "text": [
      "/home/julian/.local/share/virtualenvs/code-tW9RC7Ez/lib/python3.11/site-packages/scipy/stats/_stats_py.py:4916: ConstantInputWarning: An input array is constant; the correlation coefficient is not defined.\n",
      "  warnings.warn(stats.ConstantInputWarning(warn_msg))\n"
     ]
    },
    {
     "name": "stdout",
     "output_type": "stream",
     "text": [
      "... dof: 0 train_bacc: 0.14285714285714285 test_bacc 0.14285714285714285 spear_cor nan\n",
      "... Iteration 4, Seed=8865\n",
      "Regularization: 20/20\r"
     ]
    },
    {
     "name": "stderr",
     "output_type": "stream",
     "text": [
      "/home/julian/.local/share/virtualenvs/code-tW9RC7Ez/lib/python3.11/site-packages/scipy/stats/_stats_py.py:4916: ConstantInputWarning: An input array is constant; the correlation coefficient is not defined.\n",
      "  warnings.warn(stats.ConstantInputWarning(warn_msg))\n"
     ]
    },
    {
     "name": "stdout",
     "output_type": "stream",
     "text": [
      "... dof: 0 train_bacc: 0.14285714285714285 test_bacc 0.14285714285714285 spear_cor nan\n",
      "[*] Reading file /home/julian/Uni/MasterThesis/data/simdata_v2_TS0.1_SS0.5.h5ad ...\n",
      "... Iteration 0, Seed=3825\n",
      "Regularization: 20/20\r"
     ]
    },
    {
     "name": "stderr",
     "output_type": "stream",
     "text": [
      "/home/julian/.local/share/virtualenvs/code-tW9RC7Ez/lib/python3.11/site-packages/scipy/stats/_stats_py.py:4916: ConstantInputWarning: An input array is constant; the correlation coefficient is not defined.\n",
      "  warnings.warn(stats.ConstantInputWarning(warn_msg))\n"
     ]
    },
    {
     "name": "stdout",
     "output_type": "stream",
     "text": [
      "... dof: 0 train_bacc: 0.14285714285714285 test_bacc 0.14285714285714285 spear_cor nan\n",
      "... Iteration 1, Seed=6583\n",
      "Regularization: 20/20\r"
     ]
    },
    {
     "name": "stderr",
     "output_type": "stream",
     "text": [
      "/home/julian/.local/share/virtualenvs/code-tW9RC7Ez/lib/python3.11/site-packages/scipy/stats/_stats_py.py:4916: ConstantInputWarning: An input array is constant; the correlation coefficient is not defined.\n",
      "  warnings.warn(stats.ConstantInputWarning(warn_msg))\n"
     ]
    },
    {
     "name": "stdout",
     "output_type": "stream",
     "text": [
      "... dof: 0 train_bacc: 0.14285714285714285 test_bacc 0.14285714285714285 spear_cor nan\n",
      "... Iteration 2, Seed=6345\n",
      "Regularization: 20/20\r"
     ]
    },
    {
     "name": "stderr",
     "output_type": "stream",
     "text": [
      "/home/julian/.local/share/virtualenvs/code-tW9RC7Ez/lib/python3.11/site-packages/scipy/stats/_stats_py.py:4916: ConstantInputWarning: An input array is constant; the correlation coefficient is not defined.\n",
      "  warnings.warn(stats.ConstantInputWarning(warn_msg))\n"
     ]
    },
    {
     "name": "stdout",
     "output_type": "stream",
     "text": [
      "... dof: 0 train_bacc: 0.14285714285714285 test_bacc 0.14285714285714285 spear_cor nan\n",
      "... Iteration 3, Seed=6795\n",
      "Regularization: 20/20\r"
     ]
    },
    {
     "name": "stderr",
     "output_type": "stream",
     "text": [
      "/home/julian/.local/share/virtualenvs/code-tW9RC7Ez/lib/python3.11/site-packages/scipy/stats/_stats_py.py:4916: ConstantInputWarning: An input array is constant; the correlation coefficient is not defined.\n",
      "  warnings.warn(stats.ConstantInputWarning(warn_msg))\n"
     ]
    },
    {
     "name": "stdout",
     "output_type": "stream",
     "text": [
      "... dof: 0 train_bacc: 0.14285714285714285 test_bacc 0.14285714285714285 spear_cor nan\n",
      "... Iteration 4, Seed=9128\n",
      "Regularization: 20/20\r"
     ]
    },
    {
     "name": "stderr",
     "output_type": "stream",
     "text": [
      "/home/julian/.local/share/virtualenvs/code-tW9RC7Ez/lib/python3.11/site-packages/scipy/stats/_stats_py.py:4916: ConstantInputWarning: An input array is constant; the correlation coefficient is not defined.\n",
      "  warnings.warn(stats.ConstantInputWarning(warn_msg))\n"
     ]
    },
    {
     "name": "stdout",
     "output_type": "stream",
     "text": [
      "... dof: 0 train_bacc: 0.14285714285714285 test_bacc 0.14285714285714285 spear_cor nan\n",
      "[*] Reading file /home/julian/Uni/MasterThesis/data/simdata_v2_TS0.1_SS0.7.h5ad ...\n",
      "... Iteration 0, Seed=10\n",
      "Regularization: 20/20\r"
     ]
    },
    {
     "name": "stderr",
     "output_type": "stream",
     "text": [
      "/home/julian/.local/share/virtualenvs/code-tW9RC7Ez/lib/python3.11/site-packages/scipy/stats/_stats_py.py:4916: ConstantInputWarning: An input array is constant; the correlation coefficient is not defined.\n",
      "  warnings.warn(stats.ConstantInputWarning(warn_msg))\n"
     ]
    },
    {
     "name": "stdout",
     "output_type": "stream",
     "text": [
      "... dof: 0 train_bacc: 0.14285714285714285 test_bacc 0.14285714285714285 spear_cor nan\n",
      "... Iteration 1, Seed=9293\n",
      "Regularization: 20/20\r"
     ]
    },
    {
     "name": "stderr",
     "output_type": "stream",
     "text": [
      "/home/julian/.local/share/virtualenvs/code-tW9RC7Ez/lib/python3.11/site-packages/scipy/stats/_stats_py.py:4916: ConstantInputWarning: An input array is constant; the correlation coefficient is not defined.\n",
      "  warnings.warn(stats.ConstantInputWarning(warn_msg))\n"
     ]
    },
    {
     "name": "stdout",
     "output_type": "stream",
     "text": [
      "... dof: 0 train_bacc: 0.14285714285714285 test_bacc 0.14285714285714285 spear_cor nan\n",
      "... Iteration 2, Seed=8943\n",
      "Regularization: 20/20\r"
     ]
    },
    {
     "name": "stderr",
     "output_type": "stream",
     "text": [
      "/home/julian/.local/share/virtualenvs/code-tW9RC7Ez/lib/python3.11/site-packages/scipy/stats/_stats_py.py:4916: ConstantInputWarning: An input array is constant; the correlation coefficient is not defined.\n",
      "  warnings.warn(stats.ConstantInputWarning(warn_msg))\n"
     ]
    },
    {
     "name": "stdout",
     "output_type": "stream",
     "text": [
      "... dof: 0 train_bacc: 0.14285714285714285 test_bacc 0.14285714285714285 spear_cor nan\n",
      "... Iteration 3, Seed=1660\n",
      "Regularization: 20/20\r"
     ]
    },
    {
     "name": "stderr",
     "output_type": "stream",
     "text": [
      "/home/julian/.local/share/virtualenvs/code-tW9RC7Ez/lib/python3.11/site-packages/scipy/stats/_stats_py.py:4916: ConstantInputWarning: An input array is constant; the correlation coefficient is not defined.\n",
      "  warnings.warn(stats.ConstantInputWarning(warn_msg))\n"
     ]
    },
    {
     "name": "stdout",
     "output_type": "stream",
     "text": [
      "... dof: 0 train_bacc: 0.14285714285714285 test_bacc 0.14285714285714285 spear_cor nan\n",
      "... Iteration 4, Seed=4286\n",
      "Regularization: 20/20\r"
     ]
    },
    {
     "name": "stderr",
     "output_type": "stream",
     "text": [
      "/home/julian/.local/share/virtualenvs/code-tW9RC7Ez/lib/python3.11/site-packages/scipy/stats/_stats_py.py:4916: ConstantInputWarning: An input array is constant; the correlation coefficient is not defined.\n",
      "  warnings.warn(stats.ConstantInputWarning(warn_msg))\n"
     ]
    },
    {
     "name": "stdout",
     "output_type": "stream",
     "text": [
      "... dof: 0 train_bacc: 0.14285714285714285 test_bacc 0.14285714285714285 spear_cor nan\n",
      "[*] Reading file /home/julian/Uni/MasterThesis/data/simdata_v2_TS0.1_SS0.9.h5ad ...\n",
      "... Iteration 0, Seed=4668\n",
      "... dof: 2 train_bacc: 0.15676823975512816 test_bacc 0.1556776556776557 spear_cor 0.12388524513412778\n",
      "... Iteration 1, Seed=6122\n",
      "Regularization: 20/20\r"
     ]
    },
    {
     "name": "stderr",
     "output_type": "stream",
     "text": [
      "/home/julian/.local/share/virtualenvs/code-tW9RC7Ez/lib/python3.11/site-packages/scipy/stats/_stats_py.py:4916: ConstantInputWarning: An input array is constant; the correlation coefficient is not defined.\n",
      "  warnings.warn(stats.ConstantInputWarning(warn_msg))\n"
     ]
    },
    {
     "name": "stdout",
     "output_type": "stream",
     "text": [
      "... dof: 0 train_bacc: 0.14285714285714285 test_bacc 0.14285714285714285 spear_cor nan\n",
      "... Iteration 2, Seed=5738\n",
      "Regularization: 20/20\r"
     ]
    },
    {
     "name": "stderr",
     "output_type": "stream",
     "text": [
      "/home/julian/.local/share/virtualenvs/code-tW9RC7Ez/lib/python3.11/site-packages/scipy/stats/_stats_py.py:4916: ConstantInputWarning: An input array is constant; the correlation coefficient is not defined.\n",
      "  warnings.warn(stats.ConstantInputWarning(warn_msg))\n"
     ]
    },
    {
     "name": "stdout",
     "output_type": "stream",
     "text": [
      "... dof: 0 train_bacc: 0.14285714285714285 test_bacc 0.14285714285714285 spear_cor nan\n",
      "... Iteration 3, Seed=6453\n",
      "Regularization: 20/20\r"
     ]
    },
    {
     "name": "stderr",
     "output_type": "stream",
     "text": [
      "/home/julian/.local/share/virtualenvs/code-tW9RC7Ez/lib/python3.11/site-packages/scipy/stats/_stats_py.py:4916: ConstantInputWarning: An input array is constant; the correlation coefficient is not defined.\n",
      "  warnings.warn(stats.ConstantInputWarning(warn_msg))\n"
     ]
    },
    {
     "name": "stdout",
     "output_type": "stream",
     "text": [
      "... dof: 0 train_bacc: 0.14285714285714285 test_bacc 0.14285714285714285 spear_cor nan\n",
      "... Iteration 4, Seed=3785\n",
      "Regularization: 20/20\r"
     ]
    },
    {
     "name": "stderr",
     "output_type": "stream",
     "text": [
      "/home/julian/.local/share/virtualenvs/code-tW9RC7Ez/lib/python3.11/site-packages/scipy/stats/_stats_py.py:4916: ConstantInputWarning: An input array is constant; the correlation coefficient is not defined.\n",
      "  warnings.warn(stats.ConstantInputWarning(warn_msg))\n"
     ]
    },
    {
     "name": "stdout",
     "output_type": "stream",
     "text": [
      "... dof: 0 train_bacc: 0.14285714285714285 test_bacc 0.14285714285714285 spear_cor nan\n",
      "[*] Reading file /home/julian/Uni/MasterThesis/data/simdata_v2_TS0.3_SS0.1.h5ad ...\n",
      "... Iteration 0, Seed=8723\n",
      "... dof: 4534 train_bacc: 0.6576648671670215 test_bacc 0.2185592185592186 spear_cor 0.6309562612078256\n",
      "... Iteration 1, Seed=5726\n",
      "Regularization: 20/20\r"
     ]
    },
    {
     "name": "stderr",
     "output_type": "stream",
     "text": [
      "/home/julian/.local/share/virtualenvs/code-tW9RC7Ez/lib/python3.11/site-packages/scipy/stats/_stats_py.py:4916: ConstantInputWarning: An input array is constant; the correlation coefficient is not defined.\n",
      "  warnings.warn(stats.ConstantInputWarning(warn_msg))\n"
     ]
    },
    {
     "name": "stdout",
     "output_type": "stream",
     "text": [
      "... dof: 0 train_bacc: 0.14285714285714285 test_bacc 0.14285714285714285 spear_cor nan\n",
      "... Iteration 2, Seed=4241\n",
      "... dof: 2631 train_bacc: 0.4936034690661148 test_bacc 0.23382173382173382 spear_cor 0.6501463037026822\n",
      "... Iteration 3, Seed=7606\n",
      "... dof: 15 train_bacc: 0.16106263419982642 test_bacc 0.13186813186813187 spear_cor 0.18031196233213856\n",
      "... Iteration 4, Seed=7679\n",
      "... dof: 3501 train_bacc: 0.5953500425700617 test_bacc 0.173992673992674 spear_cor 0.6415661340319748\n",
      "[*] Reading file /home/julian/Uni/MasterThesis/data/simdata_v2_TS0.3_SS0.3.h5ad ...\n",
      "... Iteration 0, Seed=987\n",
      "Regularization: 20/20\r"
     ]
    },
    {
     "name": "stderr",
     "output_type": "stream",
     "text": [
      "/home/julian/.local/share/virtualenvs/code-tW9RC7Ez/lib/python3.11/site-packages/scipy/stats/_stats_py.py:4916: ConstantInputWarning: An input array is constant; the correlation coefficient is not defined.\n",
      "  warnings.warn(stats.ConstantInputWarning(warn_msg))\n"
     ]
    },
    {
     "name": "stdout",
     "output_type": "stream",
     "text": [
      "... dof: 0 train_bacc: 0.14285714285714285 test_bacc 0.14285714285714285 spear_cor nan\n",
      "... Iteration 1, Seed=4438\n",
      "... dof: 2 train_bacc: 0.14555256064690028 test_bacc 0.14285714285714285 spear_cor 0.4317280216909894\n",
      "... Iteration 2, Seed=7005\n",
      "... dof: 4935 train_bacc: 0.6075398652374019 test_bacc 0.23382173382173382 spear_cor 0.6650401061076582\n",
      "... Iteration 3, Seed=1208\n",
      "... dof: 1 train_bacc: 0.15539768833660744 test_bacc 0.19047619047619047 spear_cor 0.43466385485284725\n",
      "... Iteration 4, Seed=5978\n",
      "Regularization: 20/20\r"
     ]
    },
    {
     "name": "stderr",
     "output_type": "stream",
     "text": [
      "/home/julian/.local/share/virtualenvs/code-tW9RC7Ez/lib/python3.11/site-packages/scipy/stats/_stats_py.py:4916: ConstantInputWarning: An input array is constant; the correlation coefficient is not defined.\n",
      "  warnings.warn(stats.ConstantInputWarning(warn_msg))\n"
     ]
    },
    {
     "name": "stdout",
     "output_type": "stream",
     "text": [
      "... dof: 0 train_bacc: 0.14285714285714285 test_bacc 0.14285714285714285 spear_cor nan\n",
      "[*] Reading file /home/julian/Uni/MasterThesis/data/simdata_v2_TS0.3_SS0.5.h5ad ...\n",
      "... Iteration 0, Seed=831\n",
      "... dof: 24 train_bacc: 0.1551692631001873 test_bacc 0.1556776556776557 spear_cor 0.008538964547137195\n",
      "... Iteration 1, Seed=2136\n",
      "... dof: 4859 train_bacc: 0.6532194891846625 test_bacc 0.163003663003663 spear_cor 0.6380938688434539\n",
      "... Iteration 2, Seed=8446\n",
      "... dof: 5356 train_bacc: 0.6583812364512551 test_bacc 0.21794871794871792 spear_cor 0.6657974894470872\n",
      "... Iteration 3, Seed=6154\n",
      "... dof: 7 train_bacc: 0.14285714285714285 test_bacc 0.14285714285714285 spear_cor 0.26097947512837055\n",
      "... Iteration 4, Seed=5369\n",
      "Regularization: 20/20\r"
     ]
    },
    {
     "name": "stderr",
     "output_type": "stream",
     "text": [
      "/home/julian/.local/share/virtualenvs/code-tW9RC7Ez/lib/python3.11/site-packages/scipy/stats/_stats_py.py:4916: ConstantInputWarning: An input array is constant; the correlation coefficient is not defined.\n",
      "  warnings.warn(stats.ConstantInputWarning(warn_msg))\n"
     ]
    },
    {
     "name": "stdout",
     "output_type": "stream",
     "text": [
      "... dof: 0 train_bacc: 0.14285714285714285 test_bacc 0.14285714285714285 spear_cor nan\n",
      "[*] Reading file /home/julian/Uni/MasterThesis/data/simdata_v2_TS0.3_SS0.7.h5ad ...\n",
      "... Iteration 0, Seed=1437\n",
      "Regularization: 20/20\r"
     ]
    },
    {
     "name": "stderr",
     "output_type": "stream",
     "text": [
      "/home/julian/.local/share/virtualenvs/code-tW9RC7Ez/lib/python3.11/site-packages/scipy/stats/_stats_py.py:4916: ConstantInputWarning: An input array is constant; the correlation coefficient is not defined.\n",
      "  warnings.warn(stats.ConstantInputWarning(warn_msg))\n"
     ]
    },
    {
     "name": "stdout",
     "output_type": "stream",
     "text": [
      "... dof: 0 train_bacc: 0.14285714285714285 test_bacc 0.14285714285714285 spear_cor nan\n",
      "... Iteration 1, Seed=5582\n",
      "Regularization: 20/20\r"
     ]
    },
    {
     "name": "stderr",
     "output_type": "stream",
     "text": [
      "/home/julian/.local/share/virtualenvs/code-tW9RC7Ez/lib/python3.11/site-packages/scipy/stats/_stats_py.py:4916: ConstantInputWarning: An input array is constant; the correlation coefficient is not defined.\n",
      "  warnings.warn(stats.ConstantInputWarning(warn_msg))\n"
     ]
    },
    {
     "name": "stdout",
     "output_type": "stream",
     "text": [
      "... dof: 0 train_bacc: 0.14285714285714285 test_bacc 0.14285714285714285 spear_cor nan\n",
      "... Iteration 2, Seed=343\n",
      "Regularization: 20/20\r"
     ]
    },
    {
     "name": "stderr",
     "output_type": "stream",
     "text": [
      "/home/julian/.local/share/virtualenvs/code-tW9RC7Ez/lib/python3.11/site-packages/scipy/stats/_stats_py.py:4916: ConstantInputWarning: An input array is constant; the correlation coefficient is not defined.\n",
      "  warnings.warn(stats.ConstantInputWarning(warn_msg))\n"
     ]
    },
    {
     "name": "stdout",
     "output_type": "stream",
     "text": [
      "... dof: 0 train_bacc: 0.14285714285714285 test_bacc 0.14285714285714285 spear_cor nan\n",
      "... Iteration 3, Seed=9553\n",
      "... dof: 3465 train_bacc: 0.4989282333474048 test_bacc 0.18681318681318682 spear_cor 0.6319761199086956\n",
      "... Iteration 4, Seed=6631\n",
      "Regularization: 20/20\r"
     ]
    },
    {
     "name": "stderr",
     "output_type": "stream",
     "text": [
      "/home/julian/.local/share/virtualenvs/code-tW9RC7Ez/lib/python3.11/site-packages/scipy/stats/_stats_py.py:4916: ConstantInputWarning: An input array is constant; the correlation coefficient is not defined.\n",
      "  warnings.warn(stats.ConstantInputWarning(warn_msg))\n"
     ]
    },
    {
     "name": "stdout",
     "output_type": "stream",
     "text": [
      "... dof: 0 train_bacc: 0.14285714285714285 test_bacc 0.14285714285714285 spear_cor nan\n",
      "[*] Reading file /home/julian/Uni/MasterThesis/data/simdata_v2_TS0.5_SS0.1.h5ad ...\n",
      "... Iteration 0, Seed=6950\n",
      "... dof: 3 train_bacc: 0.261455525606469 test_bacc 0.2619047619047619 spear_cor 0.9107050528324951\n",
      "... Iteration 1, Seed=7885\n",
      "... dof: 1 train_bacc: 0.14285714285714285 test_bacc 0.14285714285714285 spear_cor 0.5622709559626939\n",
      "... Iteration 2, Seed=3136\n",
      "... dof: 3235 train_bacc: 0.6405113532230915 test_bacc 0.2606837606837607 spear_cor 0.6473437174497065\n",
      "... Iteration 3, Seed=1506\n",
      "... dof: 3341 train_bacc: 0.5839540147780448 test_bacc 0.22710622710622713 spear_cor 0.658509859442052\n",
      "... Iteration 4, Seed=7884\n",
      "... dof: 1 train_bacc: 0.14973274247338847 test_bacc 0.14285714285714285 spear_cor 0.47746015955695437\n",
      "[*] Reading file /home/julian/Uni/MasterThesis/data/simdata_v2_TS0.5_SS0.3.h5ad ...\n",
      "... Iteration 0, Seed=6283\n",
      "... dof: 4 train_bacc: 0.2641509433962264 test_bacc 0.2619047619047619 spear_cor 0.9195024742847498\n",
      "... Iteration 1, Seed=9456\n",
      "... dof: 20 train_bacc: 0.215633423180593 test_bacc 0.21428571428571427 spear_cor 0.7671148925139475\n",
      "... Iteration 2, Seed=2873\n",
      "... dof: 3980 train_bacc: 0.5026773652744035 test_bacc 0.23992673992673993 spear_cor 0.6617926831181844\n",
      "... Iteration 3, Seed=3023\n",
      "... dof: 1 train_bacc: 0.20512586230526747 test_bacc 0.2619047619047619 spear_cor 0.5972231701385066\n",
      "... Iteration 4, Seed=3654\n",
      "... dof: 2 train_bacc: 0.19555484489926447 test_bacc 0.2619047619047619 spear_cor 0.5942685841804728\n",
      "[*] Reading file /home/julian/Uni/MasterThesis/data/simdata_v2_TS0.5_SS0.5.h5ad ...\n",
      "... Iteration 0, Seed=3505\n",
      "... dof: 5 train_bacc: 0.24797843665768196 test_bacc 0.2619047619047619 spear_cor 0.9606428560585117\n",
      "... Iteration 1, Seed=895\n",
      "... dof: 3491 train_bacc: 0.6412407074772665 test_bacc 0.21978021978021975 spear_cor 0.6624939994241489\n",
      "... Iteration 2, Seed=6482\n",
      "... dof: 4 train_bacc: 0.24797843665768196 test_bacc 0.2619047619047619 spear_cor 0.9472656063129822\n",
      "... Iteration 3, Seed=7582\n",
      "... dof: 4 train_bacc: 0.2102425876010782 test_bacc 0.23809523809523808 spear_cor 0.762002076585144\n",
      "... Iteration 4, Seed=4049\n",
      "... dof: 4 train_bacc: 0.24797843665768196 test_bacc 0.2619047619047619 spear_cor 0.9523647084622694\n",
      "[*] Reading file /home/julian/Uni/MasterThesis/data/simdata_v2_TS0.7_SS0.1.h5ad ...\n",
      "... Iteration 0, Seed=4169\n",
      "... dof: 24 train_bacc: 0.22371967654986522 test_bacc 0.21428571428571427 spear_cor 0.7026083991350242\n",
      "... Iteration 1, Seed=8022\n",
      "... dof: 2 train_bacc: 0.24407236511489788 test_bacc 0.23809523809523808 spear_cor 0.7632426314586959\n",
      "... Iteration 2, Seed=788\n",
      "... dof: 5 train_bacc: 0.27102654301247203 test_bacc 0.2619047619047619 spear_cor 0.9115889856536007\n",
      "... Iteration 3, Seed=9723\n",
      "... dof: 5 train_bacc: 0.2656357074329572 test_bacc 0.2619047619047619 spear_cor 0.9022814753883585\n",
      "... Iteration 4, Seed=1098\n",
      "... dof: 3 train_bacc: 0.24946320069441272 test_bacc 0.23809523809523808 spear_cor 0.7626519183791564\n",
      "[*] Reading file /home/julian/Uni/MasterThesis/data/simdata_v2_TS0.7_SS0.3.h5ad ...\n",
      "... Iteration 0, Seed=5959\n",
      "... dof: 6 train_bacc: 0.2749326145552561 test_bacc 0.2857142857142857 spear_cor 0.9821192088463191\n",
      "... Iteration 1, Seed=9090\n",
      "... dof: 4 train_bacc: 0.2803234501347709 test_bacc 0.2857142857142857 spear_cor 0.9834744491876405\n",
      "... Iteration 2, Seed=2043\n",
      "... dof: 5 train_bacc: 0.2830188679245283 test_bacc 0.2857142857142857 spear_cor 0.9900351850932874\n",
      "... Iteration 3, Seed=3321\n",
      "... dof: 3 train_bacc: 0.2587601078167116 test_bacc 0.2619047619047619 spear_cor 0.9173057819463132\n",
      "... Iteration 4, Seed=4251\n",
      "... dof: 4 train_bacc: 0.2641509433962264 test_bacc 0.2857142857142857 spear_cor 0.9414786464971627\n",
      "[*] Reading file /home/julian/Uni/MasterThesis/data/simdata_v2_TS0.9_SS0.1.h5ad ...\n",
      "... Iteration 0, Seed=8967\n",
      "... dof: 254 train_bacc: 0.2723168112733348 test_bacc 0.2509157509157509 spear_cor 0.6535290147217104\n",
      "... Iteration 1, Seed=7556\n",
      "... dof: 6 train_bacc: 0.2776280323450135 test_bacc 0.2857142857142857 spear_cor 0.9883915726719966\n",
      "... Iteration 2, Seed=5952\n",
      "... dof: 8 train_bacc: 0.3802230857965188 test_bacc 0.42857142857142855 spear_cor 0.9948515282444538\n",
      "... Iteration 3, Seed=6593\n",
      "... dof: 5 train_bacc: 0.2830188679245283 test_bacc 0.2857142857142857 spear_cor 0.9922364061682157\n",
      "... Iteration 4, Seed=7429\n",
      "... dof: 5 train_bacc: 0.3335489667565139 test_bacc 0.3253968253968254 spear_cor 0.9941391133448343\n",
      "[*] Writing results\n"
     ]
    }
   ],
   "source": [
    "from masterthesis.model import BinaryModelMixin, LinearBinarizedModel\n",
    "\n",
    "warnings.filterwarnings(\"once\")\n",
    "\n",
    "genes = []\n",
    "results = {\n",
    "    \"file\": [],\n",
    "    \"seed\": [],\n",
    "    \"best_reg\": [],\n",
    "    \"dof\": [],\n",
    "    \"all_accuracy\": [],\n",
    "    \"all_bal_acc\": [],\n",
    "    \"all_abs_err\": [],\n",
    "    \"train_accuracy\": [],\n",
    "    \"train_bal_acc\": [],\n",
    "    \"train_abs_err\": [],\n",
    "    \"test_accuracy\": [],\n",
    "    \"test_bal_acc\": [],\n",
    "    \"test_abs_err\": [],\n",
    "    \"spearman_corr\": [],\n",
    "    \"pearson_corr\": [],\n",
    "    \"precision\": [],\n",
    "    \"sensitivity\": [],\n",
    "}\n",
    "\n",
    "print(\"[*] Running Simulation\")\n",
    "print(\"[*] Regularization Params = \", reg_params)\n",
    "\n",
    "for f in filenames:\n",
    "    simfile = os.path.join(data_dir, f)\n",
    "    print(\"[*] Reading file %s ...\" % simfile)\n",
    "    anndata = load_h5ad(simfile)\n",
    "\n",
    "    anndata.obs[\"ordinal_label\"] = transform_labels(np.array([int(x) for x in anndata.obs.Ordinal_Time_Labels]))\n",
    "    X_train, X_test, y_train, y_test = train_test_split(anndata.X, anndata.obs[\"ordinal_label\"], \n",
    "                                                        test_size=0.1, \n",
    "                                                        stratify=anndata.obs[\"ordinal_label\"],\n",
    "                                                        random_state=1234)\n",
    "    \n",
    "    if is_bin_model:\n",
    "        # ---------------------------------------------------------------------------------------\n",
    "        # Required to train the binary model directly\n",
    "        X_train_bin = BinaryModelMixin.restructure_X_to_bin(X_train, len(np.unique(y_train)) - 1)\n",
    "        y_train_bin = BinaryModelMixin.restructure_y_to_bin(y_train)\n",
    "        # ---------------------------------------------------------------------------------------\n",
    "\n",
    "    weights_all = calculate_weights(anndata.obs.Ordinal_Time_Labels)\n",
    "    weights_train = calculate_weights(y_train)\n",
    "    weights_test = calculate_weights(y_test)\n",
    "\n",
    "    for i in range(n_seeds):\n",
    "\n",
    "        seed = np.random.randint(9999)\n",
    "        print(\"... Iteration %s, Seed=%s\" % (i, seed))\n",
    "\n",
    "        #print(\"... Cross Validation\")\n",
    "        sgd = RegularizationGridSearch(estimator=estimator_class,\n",
    "                                       n_folds=n_folds,\n",
    "                                       n_jobs=n_jobs,\n",
    "                                       lambdas=reg_params,\n",
    "                                       scoring=scoring)\n",
    "\n",
    "        estimator_params = {\"random_state\": seed, \"max_iter\": 1000, \"early_stopping\": True}\n",
    "        fit_params = None #{\"sample_weight\": weights_train}\n",
    "        \n",
    "        if not is_bin_model:\n",
    "            sgd.fit(X_train, y_train, fit_params=fit_params, estimator_params=estimator_params)\n",
    "            sparse_model = sgd.get_optimal_model(\"1se\")\n",
    "            sparse_model.fit(X_train, y_train)\n",
    "        \n",
    "        else:\n",
    "            # ---------------------------------------------------------------------------------------\n",
    "            # REQUIRED TO TRAIN THE BINARY MODEL DIRECTLY\n",
    "            sgd.fit(X_train_bin, y_train_bin, fit_params=fit_params, estimator_params=estimator_params)\n",
    "\n",
    "            print(\"... Refitting on training data\")\n",
    "            model = sgd.get_optimal_model(\"1se\")\n",
    "            model.fit(X_train_bin, y_train_bin) \n",
    "\n",
    "            # use wrapper\n",
    "            sparse_model = LinearBinarizedModel(regularization=model.regularization)\n",
    "            k = len(np.unique(y_train)) - 1\n",
    "            sparse_model.k = k\n",
    "            sparse_model.coef_ = model.coef_[0][:-k]\n",
    "            sparse_model.intercept_ = [thresh + model.intercept_ for thresh in model.coef_[0][-k:]]\n",
    "            sparse_model.is_fitted_ = True\n",
    "\n",
    "            # ---------------------------------------------------------------------------------------\n",
    "        \n",
    "        # genes weights\n",
    "        anndata.var[\"psupertime_weights\"] = sparse_model.coef_\n",
    "        genes += [anndata.var.psupertime_weights[anndata.var.psupertime_weights != 0]]\n",
    "\n",
    "        # calculate psupertime -> adds anndata.obs.psupertime\n",
    "        sparse_model.predict_psuper(anndata)\n",
    "        pearsonr = anndata.obs.Latent_Time.corr(anndata.obs.psupertime)\n",
    "        spearmanr = anndata.obs.Latent_Time.corr(anndata.obs.psupertime, method='spearman')\n",
    "        kendalltau = anndata.obs.Latent_Time.corr(anndata.obs.psupertime, method='kendall')\n",
    "\n",
    "        results[\"file\"] += [f]\n",
    "        results[\"seed\"] += [seed]\n",
    "        results[\"best_reg\"] += [sparse_model.regularization]\n",
    "        dof = len(np.nonzero(sparse_model.coef_)[0])\n",
    "        results[\"dof\"] += [dof]\n",
    "        \n",
    "        # scores on all data (for comparison, because psupertime only measures this)\n",
    "        results[\"all_accuracy\"] += [metrics.accuracy_score(anndata.obs.Ordinal_Time_Labels, anndata.obs.predicted_label)]\n",
    "        results[\"all_bal_acc\"] += [metrics.balanced_accuracy_score(anndata.obs.Ordinal_Time_Labels, anndata.obs.predicted_label)]\n",
    "        results[\"all_abs_err\"] += [metrics.mean_absolute_error(anndata.obs.Ordinal_Time_Labels,\n",
    "                                                               anndata.obs.predicted_label,\n",
    "                                                               sample_weight=weights_all)]\n",
    "        \n",
    "        # train scores\n",
    "        results[\"train_accuracy\"] += [metrics.accuracy_score(y_train, sparse_model.predict(X_train))]\n",
    "        train_bacc = metrics.balanced_accuracy_score(y_train, sparse_model.predict(X_train))\n",
    "        results[\"train_bal_acc\"] += [train_bacc]\n",
    "        results[\"train_abs_err\"] += [metrics.mean_absolute_error(y_train, sparse_model.predict(X_train), sample_weight=weights_train)]\n",
    "        \n",
    "        # test scores\n",
    "        results[\"test_accuracy\"] += [metrics.accuracy_score(y_test, sparse_model.predict(X_test))]\n",
    "        test_bacc = metrics.balanced_accuracy_score(y_test, sparse_model.predict(X_test))\n",
    "        results[\"test_bal_acc\"] += [test_bacc]\n",
    "        results[\"test_abs_err\"] += [metrics.mean_absolute_error(y_test, sparse_model.predict(X_test), sample_weight=weights_test)]\n",
    "        \n",
    "        # correlation\n",
    "        results[\"spearman_corr\"] += [spearmanr]\n",
    "        results[\"pearson_corr\"] += [pearsonr]\n",
    "        \n",
    "        # identification of significant genes\n",
    "        TP = sum([g in anndata.var[anndata.var.Setting == \"TS\"].index for g in anndata.var[anndata.var.psupertime_weights.abs() != 0].index])\n",
    "        FP = len(anndata.var[anndata.var.psupertime_weights.abs() != 0].index) - TP\n",
    "        P = anndata.var[anndata.var.Setting == \"TS\"].shape[0]\n",
    "        results[\"sensitivity\"] += [TP / P]\n",
    "        results[\"precision\"] += [TP / (TP + FP) if TP + FP > 0 else 0]\n",
    "        \n",
    "        print(\"... dof:\", dof,  \"train_bacc:\", train_bacc, \"test_bacc\", test_bacc, \"spear_cor\", spearmanr)\n",
    "        \n",
    "print(\"[*] Writing results\")\n",
    "# Write results to files\n",
    "pd.DataFrame(results).to_csv(results_outfile)\n",
    "\n",
    "# Write Genes and weights\n",
    "with open(genes_outfile, \"w\") as f:\n",
    "    for g in genes:#\n",
    "        if (len(genes) == 0):\n",
    "            f.write(\"\\n\\n\")\n",
    "        else:\n",
    "            f.write(\", \".join(g.abs().sort_values().index) + \"\\n\")\n",
    "            f.write(\", \".join([str(el) for el in g.abs().sort_values()]) + \"\\n\")\n",
    "\n",
    "warnings.filterwarnings(\"always\")\n"
   ]
  },
  {
   "cell_type": "code",
   "execution_count": 7,
   "id": "b159512d",
   "metadata": {
    "scrolled": true
   },
   "outputs": [
    {
     "name": "stdout",
     "output_type": "stream",
     "text": [
      "2023-08-01 07:38:46.374224\n"
     ]
    }
   ],
   "source": [
    "print(datetime.datetime.now())"
   ]
  },
  {
   "cell_type": "markdown",
   "id": "72f592ec",
   "metadata": {},
   "source": [
    "**Roughly 6h Runtime for simulation with data restruturing**\n",
    "\n",
    "**Roughly 3h Runtime for simulation with vanilla SGD**\n"
   ]
  },
  {
   "cell_type": "code",
   "execution_count": null,
   "id": "772192d8",
   "metadata": {},
   "outputs": [],
   "source": [
    "df = pd.read_csv(results_outfile)"
   ]
  },
  {
   "cell_type": "code",
   "execution_count": null,
   "id": "6315900a",
   "metadata": {},
   "outputs": [],
   "source": [
    "df.describe()"
   ]
  },
  {
   "cell_type": "code",
   "execution_count": null,
   "id": "e408726f",
   "metadata": {},
   "outputs": [],
   "source": [
    "df.iloc[36]"
   ]
  }
 ],
 "metadata": {
  "kernelspec": {
   "display_name": "Python 3 (ipykernel)",
   "language": "python",
   "name": "python3"
  },
  "language_info": {
   "codemirror_mode": {
    "name": "ipython",
    "version": 3
   },
   "file_extension": ".py",
   "mimetype": "text/x-python",
   "name": "python",
   "nbconvert_exporter": "python",
   "pygments_lexer": "ipython3",
   "version": "3.11.3"
  }
 },
 "nbformat": 4,
 "nbformat_minor": 5
}
