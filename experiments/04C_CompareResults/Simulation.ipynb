{
 "cells": [
  {
   "cell_type": "code",
   "execution_count": 2,
   "id": "cacf95ff",
   "metadata": {},
   "outputs": [],
   "source": [
    "import os\n",
    "from sklearn import metrics\n",
    "import numpy as np\n",
    "import pandas as pd\n",
    "from matplotlib import pyplot as plt \n",
    "from masterthesis.data import load_h5ad\n",
    "from masterthesis.preprocessing import calculate_weights, transform_labels\n",
    "from sklearn.model_selection import train_test_split\n",
    "from masterthesis.model_selection import RegularizationGridSearch\n",
    "from masterthesis.model import SGDBinarizedModel\n",
    "from sklearn import metrics\n",
    "import warnings"
   ]
  },
  {
   "cell_type": "code",
   "execution_count": 62,
   "id": "a0a4c1e7",
   "metadata": {},
   "outputs": [],
   "source": [
    "# report files\n",
    "genes_outfile = \"genes.txt\"\n",
    "results_outfile = \"results.txt\"\n",
    "\n",
    "# Fit params\n",
    "n_seeds = 5\n",
    "n_folds = 5\n",
    "n_jobs = 4\n",
    "n_reg_params = 20\n",
    "reg_params = np.geomspace(1, 0.005, n_reg_params)\n",
    "scoring = metrics.make_scorer(metrics.accuracy_score)\n",
    "\n",
    "# Simulation data\n",
    "data_dir = \"/home/julian/Uni/MasterThesis/data\"\n",
    "filenames = [\n",
    "    \"simdata_TS0.1_SS0.1.h5ad\", \n",
    "    \"simdata_TS0.1_SS0.3.h5ad\",\n",
    "    \"simdata_TS0.1_SS0.5.h5ad\",\n",
    "    \"simdata_TS0.1_SS0.7.h5ad\",\n",
    "    \"simdata_TS0.1_SS0.9.h5ad\",\n",
    "    \"simdata_TS0.3_SS0.1.h5ad\",\n",
    "    \"simdata_TS0.3_SS0.3.h5ad\",\n",
    "    \"simdata_TS0.3_SS0.5.h5ad\",\n",
    "    \"simdata_TS0.3_SS0.7.h5ad\",\n",
    "    \"simdata_TS0.5_SS0.1.h5ad\",\n",
    "    \"simdata_TS0.5_SS0.3.h5ad\",\n",
    "    \"simdata_TS0.5_SS0.5.h5ad\",\n",
    "    \"simdata_TS0.7_SS0.1.h5ad\",\n",
    "    \"simdata_TS0.7_SS0.3.h5ad\",\n",
    "    \"simdata_TS0.9_SS0.1.h5ad\"\n",
    "]"
   ]
  },
  {
   "cell_type": "code",
   "execution_count": 63,
   "id": "b75b935f",
   "metadata": {
    "scrolled": false
   },
   "outputs": [
    {
     "name": "stdout",
     "output_type": "stream",
     "text": [
      "[*] Running Simulation\n",
      "[*] Regularization Params =  [1.         0.75664673 0.57251427 0.43319105 0.32777259 0.24800806\n",
      " 0.18765449 0.14198815 0.10743487 0.08129024 0.061508   0.04653982\n",
      " 0.03521421 0.02664471 0.02016064 0.01525448 0.01154225 0.00873341\n",
      " 0.0066081  0.005     ]\n",
      "[*] Reading file /home/julian/Uni/MasterThesis/data/simdata_TS0.1_SS0.1.h5ad ...\n",
      "... Iteration 0, Seed=7259\n",
      "... Cross Validation\n",
      "... Refitting on training data\n"
     ]
    },
    {
     "name": "stderr",
     "output_type": "stream",
     "text": [
      "/home/julian/.local/share/virtualenvs/code-tW9RC7Ez/lib/python3.11/site-packages/scipy/stats/_stats_py.py:4916: ConstantInputWarning: An input array is constant; the correlation coefficient is not defined.\n",
      "  warnings.warn(stats.ConstantInputWarning(warn_msg))\n"
     ]
    },
    {
     "name": "stdout",
     "output_type": "stream",
     "text": [
      "... Iteration 1, Seed=9393\n",
      "... Cross Validation\n",
      "... Refitting on training data\n",
      "... Iteration 2, Seed=8603\n",
      "... Cross Validation\n",
      "... Refitting on training data\n",
      "... Iteration 3, Seed=9557\n",
      "... Cross Validation\n",
      "... Refitting on training data\n"
     ]
    },
    {
     "name": "stderr",
     "output_type": "stream",
     "text": [
      "/home/julian/.local/share/virtualenvs/code-tW9RC7Ez/lib/python3.11/site-packages/scipy/stats/_stats_py.py:4916: ConstantInputWarning: An input array is constant; the correlation coefficient is not defined.\n",
      "  warnings.warn(stats.ConstantInputWarning(warn_msg))\n"
     ]
    },
    {
     "name": "stdout",
     "output_type": "stream",
     "text": [
      "... Iteration 4, Seed=2850\n",
      "... Cross Validation\n",
      "... Refitting on training data\n",
      "[*] Reading file /home/julian/Uni/MasterThesis/data/simdata_TS0.1_SS0.3.h5ad ...\n",
      "... Iteration 0, Seed=3062\n",
      "... Cross Validation\n",
      "... Refitting on training data\n"
     ]
    },
    {
     "name": "stderr",
     "output_type": "stream",
     "text": [
      "/home/julian/.local/share/virtualenvs/code-tW9RC7Ez/lib/python3.11/site-packages/scipy/stats/_stats_py.py:4916: ConstantInputWarning: An input array is constant; the correlation coefficient is not defined.\n",
      "  warnings.warn(stats.ConstantInputWarning(warn_msg))\n"
     ]
    },
    {
     "name": "stdout",
     "output_type": "stream",
     "text": [
      "... Iteration 1, Seed=9368\n",
      "... Cross Validation\n",
      "... Refitting on training data\n",
      "... Iteration 2, Seed=3362\n",
      "... Cross Validation\n",
      "... Refitting on training data\n"
     ]
    },
    {
     "name": "stderr",
     "output_type": "stream",
     "text": [
      "/home/julian/.local/share/virtualenvs/code-tW9RC7Ez/lib/python3.11/site-packages/scipy/stats/_stats_py.py:4916: ConstantInputWarning: An input array is constant; the correlation coefficient is not defined.\n",
      "  warnings.warn(stats.ConstantInputWarning(warn_msg))\n"
     ]
    },
    {
     "name": "stdout",
     "output_type": "stream",
     "text": [
      "... Iteration 3, Seed=6186\n",
      "... Cross Validation\n",
      "... Refitting on training data\n"
     ]
    },
    {
     "name": "stderr",
     "output_type": "stream",
     "text": [
      "/home/julian/.local/share/virtualenvs/code-tW9RC7Ez/lib/python3.11/site-packages/scipy/stats/_stats_py.py:4916: ConstantInputWarning: An input array is constant; the correlation coefficient is not defined.\n",
      "  warnings.warn(stats.ConstantInputWarning(warn_msg))\n"
     ]
    },
    {
     "name": "stdout",
     "output_type": "stream",
     "text": [
      "... Iteration 4, Seed=2213\n",
      "... Cross Validation\n",
      "... Refitting on training data\n"
     ]
    },
    {
     "name": "stderr",
     "output_type": "stream",
     "text": [
      "/home/julian/.local/share/virtualenvs/code-tW9RC7Ez/lib/python3.11/site-packages/scipy/stats/_stats_py.py:4916: ConstantInputWarning: An input array is constant; the correlation coefficient is not defined.\n",
      "  warnings.warn(stats.ConstantInputWarning(warn_msg))\n"
     ]
    },
    {
     "name": "stdout",
     "output_type": "stream",
     "text": [
      "[*] Reading file /home/julian/Uni/MasterThesis/data/simdata_TS0.1_SS0.5.h5ad ...\n",
      "... Iteration 0, Seed=5457\n",
      "... Cross Validation\n",
      "... Refitting on training data\n",
      "... Iteration 1, Seed=8272\n",
      "... Cross Validation\n",
      "... Refitting on training data\n",
      "... Iteration 2, Seed=189\n",
      "... Cross Validation\n",
      "... Refitting on training data\n"
     ]
    },
    {
     "name": "stderr",
     "output_type": "stream",
     "text": [
      "/home/julian/.local/share/virtualenvs/code-tW9RC7Ez/lib/python3.11/site-packages/scipy/stats/_stats_py.py:4916: ConstantInputWarning: An input array is constant; the correlation coefficient is not defined.\n",
      "  warnings.warn(stats.ConstantInputWarning(warn_msg))\n"
     ]
    },
    {
     "name": "stdout",
     "output_type": "stream",
     "text": [
      "... Iteration 3, Seed=894\n",
      "... Cross Validation\n",
      "... Refitting on training data\n"
     ]
    },
    {
     "name": "stderr",
     "output_type": "stream",
     "text": [
      "/home/julian/.local/share/virtualenvs/code-tW9RC7Ez/lib/python3.11/site-packages/scipy/stats/_stats_py.py:4916: ConstantInputWarning: An input array is constant; the correlation coefficient is not defined.\n",
      "  warnings.warn(stats.ConstantInputWarning(warn_msg))\n"
     ]
    },
    {
     "name": "stdout",
     "output_type": "stream",
     "text": [
      "... Iteration 4, Seed=4679\n",
      "... Cross Validation\n",
      "... Refitting on training data\n"
     ]
    },
    {
     "name": "stderr",
     "output_type": "stream",
     "text": [
      "/home/julian/.local/share/virtualenvs/code-tW9RC7Ez/lib/python3.11/site-packages/scipy/stats/_stats_py.py:4916: ConstantInputWarning: An input array is constant; the correlation coefficient is not defined.\n",
      "  warnings.warn(stats.ConstantInputWarning(warn_msg))\n"
     ]
    },
    {
     "name": "stdout",
     "output_type": "stream",
     "text": [
      "[*] Reading file /home/julian/Uni/MasterThesis/data/simdata_TS0.1_SS0.7.h5ad ...\n",
      "... Iteration 0, Seed=4776\n",
      "... Cross Validation\n",
      "... Refitting on training data\n"
     ]
    },
    {
     "name": "stderr",
     "output_type": "stream",
     "text": [
      "/home/julian/.local/share/virtualenvs/code-tW9RC7Ez/lib/python3.11/site-packages/scipy/stats/_stats_py.py:4916: ConstantInputWarning: An input array is constant; the correlation coefficient is not defined.\n",
      "  warnings.warn(stats.ConstantInputWarning(warn_msg))\n"
     ]
    },
    {
     "name": "stdout",
     "output_type": "stream",
     "text": [
      "... Iteration 1, Seed=5529\n",
      "... Cross Validation\n",
      "... Refitting on training data\n",
      "... Iteration 2, Seed=1550\n",
      "... Cross Validation\n",
      "... Refitting on training data\n",
      "... Iteration 3, Seed=4668\n",
      "... Cross Validation\n",
      "... Refitting on training data\n"
     ]
    },
    {
     "name": "stderr",
     "output_type": "stream",
     "text": [
      "/home/julian/.local/share/virtualenvs/code-tW9RC7Ez/lib/python3.11/site-packages/scipy/stats/_stats_py.py:4916: ConstantInputWarning: An input array is constant; the correlation coefficient is not defined.\n",
      "  warnings.warn(stats.ConstantInputWarning(warn_msg))\n"
     ]
    },
    {
     "name": "stdout",
     "output_type": "stream",
     "text": [
      "... Iteration 4, Seed=9570\n",
      "... Cross Validation\n",
      "... Refitting on training data\n",
      "[*] Reading file /home/julian/Uni/MasterThesis/data/simdata_TS0.1_SS0.9.h5ad ...\n",
      "... Iteration 0, Seed=4801\n",
      "... Cross Validation\n",
      "... Refitting on training data\n"
     ]
    },
    {
     "name": "stderr",
     "output_type": "stream",
     "text": [
      "/home/julian/.local/share/virtualenvs/code-tW9RC7Ez/lib/python3.11/site-packages/scipy/stats/_stats_py.py:4916: ConstantInputWarning: An input array is constant; the correlation coefficient is not defined.\n",
      "  warnings.warn(stats.ConstantInputWarning(warn_msg))\n"
     ]
    },
    {
     "name": "stdout",
     "output_type": "stream",
     "text": [
      "... Iteration 1, Seed=1788\n",
      "... Cross Validation\n",
      "... Refitting on training data\n",
      "... Iteration 2, Seed=6998\n",
      "... Cross Validation\n",
      "... Refitting on training data\n"
     ]
    },
    {
     "name": "stderr",
     "output_type": "stream",
     "text": [
      "/home/julian/.local/share/virtualenvs/code-tW9RC7Ez/lib/python3.11/site-packages/scipy/stats/_stats_py.py:4916: ConstantInputWarning: An input array is constant; the correlation coefficient is not defined.\n",
      "  warnings.warn(stats.ConstantInputWarning(warn_msg))\n"
     ]
    },
    {
     "name": "stdout",
     "output_type": "stream",
     "text": [
      "... Iteration 3, Seed=7169\n",
      "... Cross Validation\n",
      "... Refitting on training data\n",
      "... Iteration 4, Seed=1234\n",
      "... Cross Validation\n",
      "... Refitting on training data\n",
      "[*] Reading file /home/julian/Uni/MasterThesis/data/simdata_TS0.3_SS0.1.h5ad ...\n",
      "... Iteration 0, Seed=7975\n",
      "... Cross Validation\n",
      "... Refitting on training data\n",
      "... Iteration 1, Seed=5460\n",
      "... Cross Validation\n",
      "... Refitting on training data\n",
      "... Iteration 2, Seed=2215\n",
      "... Cross Validation\n",
      "... Refitting on training data\n",
      "... Iteration 3, Seed=4888\n",
      "... Cross Validation\n",
      "... Refitting on training data\n",
      "... Iteration 4, Seed=4199\n",
      "... Cross Validation\n",
      "... Refitting on training data\n",
      "[*] Reading file /home/julian/Uni/MasterThesis/data/simdata_TS0.3_SS0.3.h5ad ...\n",
      "... Iteration 0, Seed=4936\n",
      "... Cross Validation\n",
      "... Refitting on training data\n",
      "... Iteration 1, Seed=9583\n",
      "... Cross Validation\n",
      "... Refitting on training data\n",
      "... Iteration 2, Seed=7167\n",
      "... Cross Validation\n",
      "... Refitting on training data\n",
      "... Iteration 3, Seed=9246\n",
      "... Cross Validation\n",
      "... Refitting on training data\n",
      "... Iteration 4, Seed=9612\n",
      "... Cross Validation\n",
      "... Refitting on training data\n",
      "[*] Reading file /home/julian/Uni/MasterThesis/data/simdata_TS0.3_SS0.5.h5ad ...\n",
      "... Iteration 0, Seed=5222\n",
      "... Cross Validation\n",
      "... Refitting on training data\n",
      "... Iteration 1, Seed=6798\n",
      "... Cross Validation\n",
      "... Refitting on training data\n",
      "... Iteration 2, Seed=5737\n",
      "... Cross Validation\n",
      "... Refitting on training data\n",
      "... Iteration 3, Seed=7165\n",
      "... Cross Validation\n",
      "... Refitting on training data\n",
      "... Iteration 4, Seed=7028\n",
      "... Cross Validation\n",
      "... Refitting on training data\n",
      "[*] Reading file /home/julian/Uni/MasterThesis/data/simdata_TS0.3_SS0.7.h5ad ...\n",
      "... Iteration 0, Seed=4675\n",
      "... Cross Validation\n",
      "... Refitting on training data\n",
      "... Iteration 1, Seed=3326\n",
      "... Cross Validation\n",
      "... Refitting on training data\n",
      "... Iteration 2, Seed=9275\n",
      "... Cross Validation\n",
      "... Refitting on training data\n",
      "... Iteration 3, Seed=9628\n",
      "... Cross Validation\n",
      "... Refitting on training data\n",
      "... Iteration 4, Seed=3592\n",
      "... Cross Validation\n",
      "... Refitting on training data\n",
      "[*] Reading file /home/julian/Uni/MasterThesis/data/simdata_TS0.5_SS0.1.h5ad ...\n",
      "... Iteration 0, Seed=4229\n",
      "... Cross Validation\n",
      "... Refitting on training data\n",
      "... Iteration 1, Seed=2114\n",
      "... Cross Validation\n",
      "... Refitting on training data\n",
      "... Iteration 2, Seed=3020\n",
      "... Cross Validation\n",
      "... Refitting on training data\n",
      "... Iteration 3, Seed=1939\n",
      "... Cross Validation\n",
      "... Refitting on training data\n",
      "... Iteration 4, Seed=9403\n",
      "... Cross Validation\n",
      "... Refitting on training data\n",
      "[*] Reading file /home/julian/Uni/MasterThesis/data/simdata_TS0.5_SS0.3.h5ad ...\n",
      "... Iteration 0, Seed=5725\n",
      "... Cross Validation\n",
      "... Refitting on training data\n",
      "... Iteration 1, Seed=8436\n",
      "... Cross Validation\n",
      "... Refitting on training data\n",
      "... Iteration 2, Seed=3291\n",
      "... Cross Validation\n",
      "... Refitting on training data\n",
      "... Iteration 3, Seed=3384\n",
      "... Cross Validation\n",
      "... Refitting on training data\n",
      "... Iteration 4, Seed=8162\n",
      "... Cross Validation\n",
      "... Refitting on training data\n",
      "[*] Reading file /home/julian/Uni/MasterThesis/data/simdata_TS0.5_SS0.5.h5ad ...\n",
      "... Iteration 0, Seed=8915\n",
      "... Cross Validation\n",
      "... Refitting on training data\n",
      "... Iteration 1, Seed=6084\n",
      "... Cross Validation\n",
      "... Refitting on training data\n",
      "... Iteration 2, Seed=8955\n",
      "... Cross Validation\n",
      "... Refitting on training data\n",
      "... Iteration 3, Seed=7412\n",
      "... Cross Validation\n",
      "... Refitting on training data\n",
      "... Iteration 4, Seed=4875\n",
      "... Cross Validation\n",
      "... Refitting on training data\n",
      "[*] Reading file /home/julian/Uni/MasterThesis/data/simdata_TS0.7_SS0.1.h5ad ...\n",
      "... Iteration 0, Seed=4910\n",
      "... Cross Validation\n",
      "... Refitting on training data\n",
      "... Iteration 1, Seed=1869\n",
      "... Cross Validation\n",
      "... Refitting on training data\n",
      "... Iteration 2, Seed=5973\n",
      "... Cross Validation\n",
      "... Refitting on training data\n",
      "... Iteration 3, Seed=1783\n",
      "... Cross Validation\n",
      "... Refitting on training data\n",
      "... Iteration 4, Seed=5751\n",
      "... Cross Validation\n",
      "... Refitting on training data\n",
      "[*] Reading file /home/julian/Uni/MasterThesis/data/simdata_TS0.7_SS0.3.h5ad ...\n",
      "... Iteration 0, Seed=4034\n",
      "... Cross Validation\n",
      "... Refitting on training data\n",
      "... Iteration 1, Seed=3550\n",
      "... Cross Validation\n",
      "... Refitting on training data\n",
      "... Iteration 2, Seed=9403\n",
      "... Cross Validation\n",
      "... Refitting on training data\n",
      "... Iteration 3, Seed=5863\n",
      "... Cross Validation\n",
      "... Refitting on training data\n",
      "... Iteration 4, Seed=8441\n",
      "... Cross Validation\n",
      "... Refitting on training data\n",
      "[*] Reading file /home/julian/Uni/MasterThesis/data/simdata_TS0.9_SS0.1.h5ad ...\n",
      "... Iteration 0, Seed=2729\n",
      "... Cross Validation\n",
      "... Refitting on training data\n",
      "... Iteration 1, Seed=6322\n",
      "... Cross Validation\n",
      "... Refitting on training data\n",
      "... Iteration 2, Seed=4123\n",
      "... Cross Validation\n",
      "... Refitting on training data\n",
      "... Iteration 3, Seed=2613\n",
      "... Cross Validation\n",
      "... Refitting on training data\n",
      "... Iteration 4, Seed=9165\n",
      "... Cross Validation\n",
      "... Refitting on training data\n",
      "[*] Writing results\n"
     ]
    }
   ],
   "source": [
    "warnings.filterwarnings(\"once\")\n",
    "\n",
    "genes = []\n",
    "results = {\n",
    "    \"file\": [],\n",
    "    \"seed\": [],\n",
    "    \"dof\": [],\n",
    "    \"train_accuracy\": [],\n",
    "    \"train_bal_acc\": [],\n",
    "    \"train_abs_err\": [],\n",
    "    \"test_accuracy\": [],\n",
    "    \"test_bal_acc\": [],\n",
    "    \"test_abs_err\": [],\n",
    "    \"spearman_corr\": [],\n",
    "    \"kendall_corr\": [],\n",
    "    \"pearson_corr\": []\n",
    "}\n",
    "\n",
    "print(\"[*] Running Simulation\")\n",
    "print(\"[*] Regularization Params = \", reg_params)\n",
    "\n",
    "for f in filenames:\n",
    "    simfile = os.path.join(data_dir, f)\n",
    "    print(\"[*] Reading file %s ...\" % simfile)\n",
    "    anndata = load_h5ad(simfile)\n",
    "\n",
    "    anndata.obs[\"ordinal_label\"] = transform_labels(np.array([int(x) for x in anndata.obs.Ordinal_Time_Labels]))\n",
    "    X_train, X_test, y_train, y_test = train_test_split(anndata.X, anndata.obs[\"ordinal_label\"], \n",
    "                                                        test_size=0.1, \n",
    "                                                        stratify=anndata.obs[\"ordinal_label\"],\n",
    "                                                        random_state=1234)\n",
    "\n",
    "    weights_train = calculate_weights(y_train)\n",
    "    weights_test = calculate_weights(y_test)\n",
    "\n",
    "    for i in range(n_seeds):\n",
    "\n",
    "        seed = np.random.randint(9999)\n",
    "        print(\"... Iteration %s, Seed=%s\" % (i, seed))\n",
    "\n",
    "        print(\"... Cross Validation\")\n",
    "        sgd = RegularizationGridSearch(estimator=SGDBinarizedModel,\n",
    "                                       n_folds=n_folds,\n",
    "                                       n_jobs=n_jobs,\n",
    "                                       lambdas=reg_params,\n",
    "                                       scoring=scoring)\n",
    "\n",
    "        estimator_params = {\"random_state\": seed}\n",
    "        fit_params = {\"sample_weight\": weights_train}\n",
    "        sgd.fit(X_train, y_train, fit_params=fit_params, estimator_params=estimator_params)\n",
    "\n",
    "        print(\"... Refitting on training data\")\n",
    "        sparse_model = sgd.get_optimal_model(\"1se\")\n",
    "        sparse_model.fit(X_train, y_train)\n",
    "\n",
    "        # genes weights\n",
    "        anndata.var[\"psupertime_weights\"] = sparse_model.coef_\n",
    "        genes += [anndata.var.psupertime_weights[anndata.var.psupertime_weights != 0]]\n",
    "\n",
    "        # calculate psupertime -> adds anndata.obs.psupertime\n",
    "        sparse_model.predict_psuper(anndata)\n",
    "        pearsonr = anndata.obs.Latent_Time.corr(anndata.obs.psupertime)\n",
    "        spearmanr = anndata.obs.Latent_Time.corr(anndata.obs.psupertime, method='spearman')\n",
    "        kendalltau = anndata.obs.Latent_Time.corr(anndata.obs.psupertime, method='kendall')\n",
    "\n",
    "        results[\"file\"] += [f]\n",
    "        results[\"seed\"] += [seed]\n",
    "        results[\"dof\"] += [len(np.nonzero(sparse_model.coef_)[0])]\n",
    "        results[\"train_accuracy\"] += [metrics.accuracy_score(y_train, sparse_model.predict(X_train))]\n",
    "        results[\"train_bal_acc\"] += [metrics.balanced_accuracy_score(y_train, sparse_model.predict(X_train))]\n",
    "        results[\"train_abs_err\"] += [metrics.mean_absolute_error(y_train, sparse_model.predict(X_train), sample_weight=weights_train)]\n",
    "        results[\"test_accuracy\"] += [metrics.accuracy_score(y_test, sparse_model.predict(X_test))]\n",
    "        results[\"test_bal_acc\"] += [metrics.balanced_accuracy_score(y_test, sparse_model.predict(X_test))]\n",
    "        results[\"test_abs_err\"] += [metrics.mean_absolute_error(y_test, sparse_model.predict(X_test), sample_weight=weights_test)]\n",
    "        results[\"spearman_corr\"] += [spearmanr]\n",
    "        results[\"kendall_corr\"] += [kendalltau]\n",
    "        results[\"pearson_corr\"] += [pearsonr]\n",
    "\n",
    "print(\"[*] Writing results\")\n",
    "# Write results to files\n",
    "pd.DataFrame(results).to_csv(results_outfile)\n",
    "\n",
    "with open(genes_outfile, \"w\") as f:\n",
    "    for g in genes:#\n",
    "        if (len(genes) == 0):\n",
    "            f.write(\"\\n\")\n",
    "        else:\n",
    "            f.write(\", \".join(g.abs().sort_values().index) + \"\\n\")\n",
    "\n",
    "warnings.filterwarnings(\"always\")\n"
   ]
  },
  {
   "cell_type": "code",
   "execution_count": 64,
   "id": "47fd894c",
   "metadata": {},
   "outputs": [
    {
     "name": "stdout",
     "output_type": "stream",
     "text": [
      "2023-07-05 02:57:47.599539\n"
     ]
    }
   ],
   "source": [
    "import datetime\n",
    "print(datetime.datetime.now())"
   ]
  },
  {
   "cell_type": "markdown",
   "id": "a72f68ad",
   "metadata": {},
   "source": [
    "**Roughly 6h Runtime for simulation**"
   ]
  },
  {
   "cell_type": "code",
   "execution_count": 65,
   "id": "d33067fb",
   "metadata": {},
   "outputs": [
    {
     "name": "stdout",
     "output_type": "stream",
     "text": [
      "2023-07-05 08:35:44.180677\n"
     ]
    }
   ],
   "source": [
    "import datetime\n",
    "print(datetime.datetime.now())"
   ]
  },
  {
   "cell_type": "code",
   "execution_count": 67,
   "id": "340a4718",
   "metadata": {},
   "outputs": [
    {
     "data": {
      "text/plain": [
       "['/home/julian/Uni/MasterThesis/data/simdata_TS0.1_SS0.1.h5ad',\n",
       " '/home/julian/Uni/MasterThesis/data/simdata_TS0.1_SS0.3.h5ad',\n",
       " '/home/julian/Uni/MasterThesis/data/simdata_TS0.1_SS0.5.h5ad',\n",
       " '/home/julian/Uni/MasterThesis/data/simdata_TS0.1_SS0.7.h5ad',\n",
       " '/home/julian/Uni/MasterThesis/data/simdata_TS0.1_SS0.9.h5ad',\n",
       " '/home/julian/Uni/MasterThesis/data/simdata_TS0.3_SS0.1.h5ad',\n",
       " '/home/julian/Uni/MasterThesis/data/simdata_TS0.3_SS0.3.h5ad',\n",
       " '/home/julian/Uni/MasterThesis/data/simdata_TS0.3_SS0.5.h5ad',\n",
       " '/home/julian/Uni/MasterThesis/data/simdata_TS0.3_SS0.7.h5ad',\n",
       " '/home/julian/Uni/MasterThesis/data/simdata_TS0.5_SS0.1.h5ad',\n",
       " '/home/julian/Uni/MasterThesis/data/simdata_TS0.5_SS0.3.h5ad',\n",
       " '/home/julian/Uni/MasterThesis/data/simdata_TS0.5_SS0.5.h5ad',\n",
       " '/home/julian/Uni/MasterThesis/data/simdata_TS0.7_SS0.1.h5ad',\n",
       " '/home/julian/Uni/MasterThesis/data/simdata_TS0.7_SS0.3.h5ad',\n",
       " '/home/julian/Uni/MasterThesis/data/simdata_TS0.9_SS0.1.h5ad']"
      ]
     },
     "execution_count": 67,
     "metadata": {},
     "output_type": "execute_result"
    }
   ],
   "source": [
    "[os.path.join(data_dir, f) for f in filenames]"
   ]
  }
 ],
 "metadata": {
  "kernelspec": {
   "display_name": "Python 3 (ipykernel)",
   "language": "python",
   "name": "python3"
  },
  "language_info": {
   "codemirror_mode": {
    "name": "ipython",
    "version": 3
   },
   "file_extension": ".py",
   "mimetype": "text/x-python",
   "name": "python",
   "nbconvert_exporter": "python",
   "pygments_lexer": "ipython3",
   "version": "3.11.3"
  }
 },
 "nbformat": 4,
 "nbformat_minor": 5
}
