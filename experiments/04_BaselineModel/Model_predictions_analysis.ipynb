{
 "cells": [
  {
   "cell_type": "code",
   "execution_count": 3,
   "id": "d68f034c",
   "metadata": {},
   "outputs": [],
   "source": [
    "import numpy as np\n",
    "from matplotlib import pyplot as plt \n",
    "\n",
    "from numpy.random import default_rng\n",
    "rng = default_rng(seed=1234)"
   ]
  },
  {
   "cell_type": "markdown",
   "id": "6738f997",
   "metadata": {},
   "source": [
    "# Data"
   ]
  },
  {
   "cell_type": "code",
   "execution_count": 4,
   "id": "5a8273b0",
   "metadata": {},
   "outputs": [
    {
     "name": "stdout",
     "output_type": "stream",
     "text": [
      "(369, 26)\n",
      "(42, 26)\n",
      "(369,)\n",
      "(42,)\n"
     ]
    }
   ],
   "source": [
    "from masterthesis.data import load_h5ad\n",
    "\n",
    "# load the python AnnData object\n",
    "anndata = load_h5ad(\"/home/julian/Uni/MasterThesis/data/acinar_sce.h5ad\")\n",
    "#anndata = load_h5ad(\"/home/julian/Uni/MasterThesis/data/COVAC_POSTQC.h5ad\")\n",
    "\n",
    "# sampling in R with seed 1234\n",
    "test_idx = [284, 336, 406, 101, 111, 393, 133, 400, 388, 98, 103, 214, 90, 326, 79, 372, 270, 382, 184, 62, 4, 403, 149, 40, 212, 195, 93, 122, 66, 175, 379, 304, 108, 131, 343, 41, 115, 228, 328, 298, 299]\n",
    "train_idx = list(set(range(anndata.X.shape[0])) - set(test_idx))\n",
    "\n",
    "# selected Genes after preprocessing in R\n",
    "sel_genes = [\"REG3A\", \"AMY2A\", \"MT2A\", \"OLFM4\",\n",
    "             \"SYCN\", \"CELA2B\", \"FGL1\", \"AMY2B\",\n",
    "             \"MT1G\", \"TM4SF1\", \"CELA2A\", \"PDK4\", \n",
    "             \"TACSTD2\", \"CD44\", \"PNLIPRP2\", \"ALB\", \n",
    "             \"ERP27\", \"LDHA\", \"REG3G\", \"CTRL\", \"CLPS\",\n",
    "             \"FOS\", \"HSPA8\", \"SERPINA3\", \"CELA3B\", \"CRP\" ]\n",
    "\n",
    "sel_genes = sorted(sel_genes)\n",
    "\n",
    "from sklearn.model_selection import train_test_split\n",
    "\n",
    "y = np.array([int(x) for x in anndata.obs.donor_age])\n",
    "k = len(np.unique(y))\n",
    "X_train, X_test, y_train, y_test = train_test_split(anndata[:,sel_genes].X, y, \n",
    "                                                    test_size=0.1, \n",
    "                                                    stratify=y,\n",
    "                                                    random_state=1234)\n",
    "\n",
    "print(X_train.shape)\n",
    "print(X_test.shape)\n",
    "print(y_train.shape)\n",
    "print(y_test.shape)"
   ]
  },
  {
   "cell_type": "markdown",
   "id": "fe40ea69",
   "metadata": {},
   "source": [
    "## Preprocessing"
   ]
  },
  {
   "cell_type": "code",
   "execution_count": 5,
   "id": "a507f2fb",
   "metadata": {},
   "outputs": [],
   "source": [
    "from sklearn.preprocessing import StandardScaler\n",
    "\n",
    "scaler = StandardScaler()\n",
    "X_train = scaler.fit_transform(X_train)\n",
    "X_test = scaler.fit_transform(X_test)\n",
    "\n",
    "# Transform y into a series of subsequent labels [0,1,2 ...]\n",
    "transf = dict(zip(np.unique(y),\n",
    "                  np.arange(0, len(np.unique(y)))))\n",
    "\n",
    "y_train_trans = np.array([transf[e] for e in y_train])\n",
    "y_test_trans = np.array([transf[e] for e in y_test])\n",
    "\n",
    "# reordering, such that yi < yi+1\n",
    "train_reorder = np.argsort(y_train_trans)\n",
    "test_reorder = np.argsort(y_test_trans)"
   ]
  },
  {
   "cell_type": "markdown",
   "id": "825ce599",
   "metadata": {},
   "source": [
    "# Predictions"
   ]
  },
  {
   "cell_type": "code",
   "execution_count": 13,
   "id": "00ed7530",
   "metadata": {},
   "outputs": [
    {
     "name": "stdout",
     "output_type": "stream",
     "text": [
      "[ 0.          0.          0.03099886  0.11615632  0.         -0.17015261\n",
      "  0.          0.          0.         -0.16155155 -0.15444206  0.00261222\n",
      "  0.          0.          0.          0.          0.18441797  0.05207718\n",
      "  0.05456746 -0.06037207  0.36455703 -0.21762471  0.35551376  0.\n",
      "  0.          0.        ]\n",
      "[-1.15925956 -0.84937043  0.          0.          0.          0.\n",
      "  0.9473221 ]\n",
      "(Train) Mean Absolute Delta: 1.7344173441734418\n",
      "(Train) Class Error: 0.17886178861788618\n",
      "(Test) Predictions: [0 6 6 0 0 6 0 6 0 6 6 6 0 0 6 0 0 0 0 6 6 0 6 0 0 0 0 0 6 6 0 0 0 0 6 0 0\n",
      " 0 0 6 0 6]\n",
      "(Test) Targets: [5 2 3 1 4 7 5 2 1 6 3 3 0 5 7 1 1 5 5 6 7 1 3 1 1 7 1 0 5 3 1 2 0 2 3 5 0\n",
      " 5 0 1 1 3]\n",
      "(Test) Mean Absolute Delta: 2.3333333333333335\n",
      "(Test) Class Error: 0.16666666666666666\n",
      "(Test) Accuracy  0.16666666666666666\n"
     ]
    },
    {
     "data": {
      "text/html": [
       "<style>#sk-container-id-6 {color: black;background-color: white;}#sk-container-id-6 pre{padding: 0;}#sk-container-id-6 div.sk-toggleable {background-color: white;}#sk-container-id-6 label.sk-toggleable__label {cursor: pointer;display: block;width: 100%;margin-bottom: 0;padding: 0.3em;box-sizing: border-box;text-align: center;}#sk-container-id-6 label.sk-toggleable__label-arrow:before {content: \"▸\";float: left;margin-right: 0.25em;color: #696969;}#sk-container-id-6 label.sk-toggleable__label-arrow:hover:before {color: black;}#sk-container-id-6 div.sk-estimator:hover label.sk-toggleable__label-arrow:before {color: black;}#sk-container-id-6 div.sk-toggleable__content {max-height: 0;max-width: 0;overflow: hidden;text-align: left;background-color: #f0f8ff;}#sk-container-id-6 div.sk-toggleable__content pre {margin: 0.2em;color: black;border-radius: 0.25em;background-color: #f0f8ff;}#sk-container-id-6 input.sk-toggleable__control:checked~div.sk-toggleable__content {max-height: 200px;max-width: 100%;overflow: auto;}#sk-container-id-6 input.sk-toggleable__control:checked~label.sk-toggleable__label-arrow:before {content: \"▾\";}#sk-container-id-6 div.sk-estimator input.sk-toggleable__control:checked~label.sk-toggleable__label {background-color: #d4ebff;}#sk-container-id-6 div.sk-label input.sk-toggleable__control:checked~label.sk-toggleable__label {background-color: #d4ebff;}#sk-container-id-6 input.sk-hidden--visually {border: 0;clip: rect(1px 1px 1px 1px);clip: rect(1px, 1px, 1px, 1px);height: 1px;margin: -1px;overflow: hidden;padding: 0;position: absolute;width: 1px;}#sk-container-id-6 div.sk-estimator {font-family: monospace;background-color: #f0f8ff;border: 1px dotted black;border-radius: 0.25em;box-sizing: border-box;margin-bottom: 0.5em;}#sk-container-id-6 div.sk-estimator:hover {background-color: #d4ebff;}#sk-container-id-6 div.sk-parallel-item::after {content: \"\";width: 100%;border-bottom: 1px solid gray;flex-grow: 1;}#sk-container-id-6 div.sk-label:hover label.sk-toggleable__label {background-color: #d4ebff;}#sk-container-id-6 div.sk-serial::before {content: \"\";position: absolute;border-left: 1px solid gray;box-sizing: border-box;top: 0;bottom: 0;left: 50%;z-index: 0;}#sk-container-id-6 div.sk-serial {display: flex;flex-direction: column;align-items: center;background-color: white;padding-right: 0.2em;padding-left: 0.2em;position: relative;}#sk-container-id-6 div.sk-item {position: relative;z-index: 1;}#sk-container-id-6 div.sk-parallel {display: flex;align-items: stretch;justify-content: center;background-color: white;position: relative;}#sk-container-id-6 div.sk-item::before, #sk-container-id-6 div.sk-parallel-item::before {content: \"\";position: absolute;border-left: 1px solid gray;box-sizing: border-box;top: 0;bottom: 0;left: 50%;z-index: -1;}#sk-container-id-6 div.sk-parallel-item {display: flex;flex-direction: column;z-index: 1;position: relative;background-color: white;}#sk-container-id-6 div.sk-parallel-item:first-child::after {align-self: flex-end;width: 50%;}#sk-container-id-6 div.sk-parallel-item:last-child::after {align-self: flex-start;width: 50%;}#sk-container-id-6 div.sk-parallel-item:only-child::after {width: 0;}#sk-container-id-6 div.sk-dashed-wrapped {border: 1px dashed gray;margin: 0 0.4em 0.5em 0.4em;box-sizing: border-box;padding-bottom: 0.4em;background-color: white;}#sk-container-id-6 div.sk-label label {font-family: monospace;font-weight: bold;display: inline-block;line-height: 1.2em;}#sk-container-id-6 div.sk-label-container {text-align: center;}#sk-container-id-6 div.sk-container {/* jupyter's `normalize.less` sets `[hidden] { display: none; }` but bootstrap.min.css set `[hidden] { display: none !important; }` so we also need the `!important` here to be able to override the default hidden behavior on the sphinx rendered scikit-learn.org. See: https://github.com/scikit-learn/scikit-learn/issues/21755 */display: inline-block !important;position: relative;}#sk-container-id-6 div.sk-text-repr-fallback {display: none;}</style><div id=\"sk-container-id-6\" class=\"sk-top-container\"><div class=\"sk-text-repr-fallback\"><pre>SGDBinarizedModel(regularization=0.02811)</pre><b>In a Jupyter environment, please rerun this cell to show the HTML representation or trust the notebook. <br />On GitHub, the HTML representation is unable to render, please try loading this page with nbviewer.org.</b></div><div class=\"sk-container\" hidden><div class=\"sk-item\"><div class=\"sk-estimator sk-toggleable\"><input class=\"sk-toggleable__control sk-hidden--visually\" id=\"sk-estimator-id-6\" type=\"checkbox\" checked><label for=\"sk-estimator-id-6\" class=\"sk-toggleable__label sk-toggleable__label-arrow\">SGDBinarizedModel</label><div class=\"sk-toggleable__content\"><pre>SGDBinarizedModel(regularization=0.02811)</pre></div></div></div></div></div>"
      ],
      "text/plain": [
       "SGDBinarizedModel(regularization=0.02811)"
      ]
     },
     "execution_count": 13,
     "metadata": {},
     "output_type": "execute_result"
    }
   ],
   "source": [
    "from masterthesis.model import SGDBinarizedModel, LinearBinarizedModel\n",
    "from masterthesis.metrics import abs_delta, class_error\n",
    "\n",
    "# Fitting\n",
    "lin_model = SGDBinarizedModel(regularization=0.02811).fit(X_train, y_train)\n",
    "\n",
    "print(lin_model.beta)\n",
    "print(lin_model.theta)\n",
    "\n",
    "# Predictions\n",
    "y_pred_train = lin_model.predict(X_train)\n",
    "\n",
    "print(\"(Train) Mean Absolute Delta:\", abs_delta(y_train_trans, y_pred_train, mean=True))\n",
    "print(\"(Train) Class Error:\", class_error(y_train_trans, y_pred_train))\n",
    "\n",
    "y_pred_test = lin_model.predict(X_test)\n",
    "\n",
    "print(\"(Test) Predictions:\", y_pred_test)\n",
    "print(\"(Test) Targets:\", y_test_trans)\n",
    "print(\"(Test) Mean Absolute Delta:\", abs_delta(y_test_trans, y_pred_test, mean=True))\n",
    "print(\"(Test) Class Error:\", class_error(y_test_trans, y_pred_test))\n",
    "\n",
    "print(\"(Test) Accuracy \", np.sum(y_pred_test == y_test_trans) / len(y_pred_test) )\n",
    "lin_model"
   ]
  },
  {
   "cell_type": "markdown",
   "id": "7b4b8910",
   "metadata": {},
   "source": [
    "Why are the scores so low? Are the classes represented the same in test and training?"
   ]
  },
  {
   "cell_type": "code",
   "execution_count": 11,
   "id": "538f0e4b",
   "metadata": {},
   "outputs": [
    {
     "data": {
      "text/plain": [
       "Text(0.5, 1.0, 'Ground Truth')"
      ]
     },
     "execution_count": 11,
     "metadata": {},
     "output_type": "execute_result"
    },
    {
     "data": {
      "image/png": "[encoded data removed]",
      "text/plain": [
       "<Figure size 640x480 with 2 Axes>"
      ]
     },
     "metadata": {},
     "output_type": "display_data"
    }
   ],
   "source": [
    "ax = plt.figure()\n",
    "p1 = ax.add_subplot(121)\n",
    "p1.hist(y_pred_test)\n",
    "p1.set_title(\"Predictions\")\n",
    "p2 = ax.add_subplot(122)\n",
    "p2.hist(y_test_trans)\n",
    "p2.set_title(\"Ground Truth\")"
   ]
  },
  {
   "cell_type": "markdown",
   "id": "07cfb66a",
   "metadata": {},
   "source": [
    "On average the abs delta is between 1-2. What is the average like, if we combine classes?"
   ]
  }
 ],
 "metadata": {
  "kernelspec": {
   "display_name": "Python 3 (ipykernel)",
   "language": "python",
   "name": "python3"
  },
  "language_info": {
   "codemirror_mode": {
    "name": "ipython",
    "version": 3
   },
   "file_extension": ".py",
   "mimetype": "text/x-python",
   "name": "python",
   "nbconvert_exporter": "python",
   "pygments_lexer": "ipython3",
   "version": "3.11.3"
  }
 },
 "nbformat": 4,
 "nbformat_minor": 5
}
