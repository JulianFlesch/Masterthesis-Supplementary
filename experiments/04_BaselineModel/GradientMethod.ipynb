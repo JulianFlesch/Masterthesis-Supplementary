{
 "cells": [
  {
   "cell_type": "markdown",
   "id": "ceee61af",
   "metadata": {},
   "source": [
    "This is based on Fabian Pedregosas [blog](https://fa.bianp.net/blog/2013/logistic-ordinal-regression/) and deprecated [github](https://github.com/fabianp/minirank/blob/master/minirank/logistic.py)"
   ]
  },
  {
   "cell_type": "code",
   "execution_count": 144,
   "id": "8c954aa6",
   "metadata": {},
   "outputs": [],
   "source": [
    "import numpy as np\n",
    "from numpy.random import default_rng\n",
    "from sklearn import metrics\n",
    "from sklearn.preprocessing import StandardScaler\n",
    "from scipy import optimize, linalg, sparse\n",
    "from matplotlib import pyplot as plt"
   ]
  },
  {
   "cell_type": "code",
   "execution_count": 4,
   "id": "21e3cbe9",
   "metadata": {},
   "outputs": [],
   "source": [
    "rng = default_rng(1234)"
   ]
  },
  {
   "cell_type": "markdown",
   "id": "e5ead39c",
   "metadata": {},
   "source": [
    "# Simulation Data\n",
    "\n",
    "Use a subsample of the simulation data for testing\n"
   ]
  },
  {
   "cell_type": "code",
   "execution_count": 5,
   "id": "238cdea5",
   "metadata": {
    "scrolled": true
   },
   "outputs": [],
   "source": [
    "from masterthesis.data import load_h5ad, load_acinar\n",
    "data = load_h5ad(\"/home/julian/Uni/MasterThesis/data/simdata.h5ad\")"
   ]
  },
  {
   "cell_type": "code",
   "execution_count": 6,
   "id": "b3914f16",
   "metadata": {},
   "outputs": [],
   "source": [
    "idx = data.var['Setting'] == \"TS\"  # extract only the time series samples\n",
    "sim_X = data.X[:, idx]\n",
    "sim_y = data.obs[\"Ordinal_Time_Labels\"]"
   ]
  },
  {
   "cell_type": "code",
   "execution_count": 7,
   "id": "51b787a9",
   "metadata": {},
   "outputs": [],
   "source": [
    "# random subsample genes\n",
    "y_idx = rng.choice(np.arange(sim_y.size), size=sim_y.size // 2, replace=False)\n",
    "x_idx = rng.choice(np.arange(sim_X.shape[1]), size=sim_X.shape[1] // 4, replace=False)\n",
    "sim_X = sim_X[y_idx, :]\n",
    "sim_X = sim_X[:, x_idx]\n",
    "sim_y = sim_y[y_idx]"
   ]
  },
  {
   "cell_type": "code",
   "execution_count": 8,
   "id": "a1769690",
   "metadata": {},
   "outputs": [],
   "source": [
    "scaler = StandardScaler()\n",
    "sim_X = scaler.fit_transform(sim_X)"
   ]
  },
  {
   "cell_type": "code",
   "execution_count": 9,
   "id": "76ecaea5",
   "metadata": {
    "scrolled": true
   },
   "outputs": [
    {
     "name": "stdout",
     "output_type": "stream",
     "text": [
      "(286, 1031)\n",
      "(286,)\n"
     ]
    }
   ],
   "source": [
    "print(sim_X.shape)\n",
    "print(sim_y.shape)"
   ]
  },
  {
   "cell_type": "markdown",
   "id": "2a619471",
   "metadata": {},
   "source": [
    "# Acinar Data"
   ]
  },
  {
   "cell_type": "code",
   "execution_count": 10,
   "id": "02cfc1a0",
   "metadata": {},
   "outputs": [],
   "source": [
    "acinar_ann = load_acinar()"
   ]
  },
  {
   "cell_type": "code",
   "execution_count": 11,
   "id": "3204e70f",
   "metadata": {},
   "outputs": [],
   "source": [
    "# selected Genes after preprocessing in R\n",
    "sel_genes = [\"REG3A\", \"AMY2A\", \"MT2A\", \"OLFM4\",\n",
    "             \"SYCN\", \"CELA2B\", \"FGL1\", \"AMY2B\",\n",
    "             \"MT1G\", \"TM4SF1\", \"CELA2A\", \"PDK4\", \n",
    "             \"TACSTD2\", \"CD44\", \"PNLIPRP2\", \"ALB\", \n",
    "             \"ERP27\", \"LDHA\", \"REG3G\", \"CTRL\", \"CLPS\",\n",
    "             \"FOS\", \"HSPA8\", \"SERPINA3\", \"CELA3B\", \"CRP\"]"
   ]
  },
  {
   "cell_type": "code",
   "execution_count": 12,
   "id": "37beff44",
   "metadata": {},
   "outputs": [],
   "source": [
    "from sklearn.model_selection import train_test_split\n",
    "\n",
    "ac_y = np.array([int(x) for x in acinar_ann.obs.donor_age])\n",
    "ac_label_conv = dict(zip(np.unique(ac_y), range(len(ac_y))))\n",
    "ac_y = np.array([ac_label_conv[l] for l in ac_y])\n",
    "k = len(np.unique(ac_y))\n",
    "\n",
    "ac_X_train, ac_X_test, ac_y_train, ac_y_test = train_test_split(acinar_ann[:,sel_genes].X, ac_y, \n",
    "                                                                test_size=0.1, \n",
    "                                                                stratify=ac_y,\n",
    "                                                                random_state=1234)"
   ]
  },
  {
   "cell_type": "code",
   "execution_count": 13,
   "id": "9bdcb289",
   "metadata": {},
   "outputs": [],
   "source": [
    "scaler = StandardScaler()\n",
    "ac_X_train = scaler.fit_transform(ac_X_train)\n",
    "ac_X_test = scaler.fit_transform(ac_X_test)"
   ]
  },
  {
   "cell_type": "markdown",
   "id": "d382c85d",
   "metadata": {},
   "source": [
    "## Gradient DIY"
   ]
  },
  {
   "cell_type": "code",
   "execution_count": 241,
   "id": "1110e069",
   "metadata": {},
   "outputs": [],
   "source": [
    "BIG = 1e10\n",
    "SMALL = 1e-6\n",
    "\n",
    "def phi(beta, thresholds, X):\n",
    "    phi = 1 / (1 + np.exp(beta.T @ X - thresholds))\n",
    "    return phi\n",
    "\n",
    "def l1_regularizer(beta, l):\n",
    "    return l * np.sum(np.abs(beta))\n",
    "\n",
    "# PROBLEM: Is the objective minimized or maximized?? -> Scipy MINIMIZES\n",
    "# PROBLEM: What if diff is negative? -> Log has issues, but value may be meaningful\n",
    "# PROBLEM 2: What if diff is too small? -> Log will explode\n",
    "# PROBLEM 3: Loss of precision?\n",
    "# log likelihood with regularization as objective function\n",
    "def objective(params, X, y, k, lamb=0.1, scale_by_y=True):\n",
    "    \n",
    "    beta = params[:-k]\n",
    "    theta = params[-k:]\n",
    "    thresholds = np.array([theta[i] for i in y])\n",
    "    thresholds_m1 = np.array([theta[max(0, i-1)] for i in y]) \n",
    "\n",
    "    # fit term\n",
    "    idx = (thresholds > 0)\n",
    "    diff = np.zeros_like(thresholds)\n",
    "    phi_i = phi(beta, thresholds, X)\n",
    "    phi_im1 = phi(beta, thresholds_m1, X)\n",
    "    \n",
    "    diff[idx] = (phi_i - phi_im1)[idx]\n",
    "    diff[~idx] = phi_i[~idx]\n",
    "\n",
    "    # cut off the difference at a minimum to avoid PROBLEM 2\n",
    "    #if diff.min() < SMALL:\n",
    "    #    diff = np.maximum(diff, SMALL)\n",
    "    \n",
    "    loglik = np.log(diff, out=np.zeros_like(diff), where=diff>0)\n",
    "    \n",
    "    loglik = np.sum(loglik)\n",
    "\n",
    "    # regularization term\n",
    "    loglik -= l1_regularizer(beta, lamb)\n",
    "    \n",
    "    # scale the loss with the inverse number of samples to handle PROBLEM 3\n",
    "    if scale_by_y:\n",
    "        loglik *= (1 / y.size)\n",
    "\n",
    "    return loglik\n",
    "\n",
    "def loss(*args, **kwargs):\n",
    "    return - objective(*args, **kwargs)\n",
    "\n",
    "def objective_grad(params, X, y, k, lamb=0.1, scale_by_y=True):\n",
    "    beta = params[:-k]\n",
    "    theta = params[-k:]\n",
    "    thresholds = np.array([theta[i] for i in y])\n",
    "    thresholds_m1 = np.array([theta[max(0, i-1)] for i in y])\n",
    "\n",
    "    # PROBLEM: thresholds_m1 - thresholds can be 0 -> then the denominator becomes 0!\n",
    "    idx = (thresholds > 0)\n",
    "    diff = np.zeros_like(thresholds)\n",
    "    phi_i = phi(beta, thresholds, X)\n",
    "    phi_im1 = phi(beta, thresholds_m1, X)\n",
    "    \n",
    "    diff[idx] = (phi_i - phi_im1)[idx]\n",
    "    diff[~idx] = phi_i[~idx]\n",
    "    \n",
    "    # BETA UPDATE\n",
    "    beta_grad = np.sum(X * (1 - diff), axis=1)\n",
    "    \n",
    "    # derivative of regularizer over beta scaled\n",
    "    beta_grad += np.sum(np.sign(beta) * (beta == 0)) * lamb\n",
    "    \n",
    "    # THETA UPDATE\n",
    "    # first half of the gradient\n",
    "    e = np.identity(k)\n",
    "    e_expanded = np.concatenate([e[i] for i in y]).reshape(y.size, k).T\n",
    "    \n",
    "    temp = (1 \n",
    "            - phi(beta, thresholds, X) \n",
    "            - np.exp(np.log(1 - (1 - np.exp(diff)))))\n",
    "    t1 = e_expanded @ temp\n",
    "    \n",
    "    # second half of the gradient\n",
    "    e_m1 = np.identity(k+1)[1:,:-1]  # identity with diagonal shifty up by one\n",
    "    e_m1_expanded = np.concatenate([e_m1[i] for i in y]).reshape(y.size, k).T\n",
    "    temp = (1 \n",
    "            - phi(beta, thresholds_m1, X) \n",
    "            - np.exp(np.log(1 - (1 - np.exp(-1 * (diff))))))\n",
    "    \n",
    "    t2 = e_m1_expanded @ temp\n",
    "    \n",
    "    theta_grad = t1 + t2\n",
    "    \n",
    "    # scaling\n",
    "    if scale_by_y:\n",
    "        theta_grad = theta_grad * (1/y.size)\n",
    "        beta_grad = beta_grad * (1/y.size)\n",
    "\n",
    "    return np.concatenate([beta_grad, theta_grad])"
   ]
  },
  {
   "cell_type": "code",
   "execution_count": 130,
   "id": "65ac7ca3",
   "metadata": {},
   "outputs": [],
   "source": [
    "from scipy.optimize import minimize\n",
    "\n",
    "def train(obj, grad, X, y, lamb=0.9, scaling=False, method=\"BFGS\"):\n",
    "    # flip such that X -> (genes, cells)\n",
    "    if X.shape[0] == y.size:\n",
    "        X = X.T\n",
    "    \n",
    "    n_classes = np.unique(y).size\n",
    "    params = np.zeros(X.shape[0] + n_classes)\n",
    "    \n",
    "    m = minimize(obj, params_nm, args=(X, y, n_classes, lamb, scaling), jac=grad, method=method)\n",
    "    print(m)\n",
    "    print(m.x)"
   ]
  },
  {
   "cell_type": "code",
   "execution_count": 229,
   "id": "e1383cd8",
   "metadata": {
    "scrolled": false
   },
   "outputs": [
    {
     "name": "stdout",
     "output_type": "stream",
     "text": [
      "  message: Desired error not necessarily achieved due to precision loss.\n",
      "  success: False\n",
      "   status: 2\n",
      "      fun: 0.5597674514599625\n",
      "        x: [ 2.996e-17 -9.122e-17 ... -1.009e-16 -3.296e-17]\n",
      "      nit: 0\n",
      "      jac: [-4.539e-03 -9.223e-04 ... -6.945e-02 -1.042e-01]\n",
      " hess_inv: [[1 0 ... 0 0]\n",
      "            [0 1 ... 0 0]\n",
      "            ...\n",
      "            [0 0 ... 1 0]\n",
      "            [0 0 ... 0 1]]\n",
      "     nfev: 18\n",
      "     njev: 6\n",
      "[ 2.99552789e-17 -9.12238797e-17  8.43373503e-17  6.28923016e-17\n",
      "  1.29517064e-16  2.35470728e-16  4.64152560e-18 -2.37379072e-17\n",
      "  9.33068062e-17 -1.31213310e-16  8.47381150e-17 -9.14277033e-18\n",
      " -1.10647317e-16 -5.55542955e-17  4.15674610e-17 -7.28795221e-17\n",
      "  1.25000000e-04 -3.91915815e-17  1.01399459e-16  2.16536932e-16\n",
      "  6.13107712e-15  1.23078388e-16  1.16260966e-16  1.76600273e-17\n",
      "  1.35598036e-16  7.26746491e-17  1.25000000e-04  1.30296841e-16\n",
      "  1.45441669e-16 -1.72678216e-17 -1.87164751e-16 -4.54465550e-17\n",
      " -1.00882237e-16 -3.29592381e-17]\n"
     ]
    }
   ],
   "source": [
    "train(loss, objective_grad, ac_X_train, ac_y_train, lamb=0., scaling=True, method=\"bfgs\")"
   ]
  },
  {
   "cell_type": "code",
   "execution_count": 44,
   "id": "4e416126",
   "metadata": {
    "scrolled": false
   },
   "outputs": [
    {
     "name": "stdout",
     "output_type": "stream",
     "text": [
      "  message: Desired error not necessarily achieved due to precision loss.\n",
      "  success: False\n",
      "   status: 2\n",
      "      fun: -2286.831124850377\n",
      "        x: [ 4.881e-14 -2.820e-06 ...  2.298e-05  4.597e-05]\n",
      "      nit: 1\n",
      "      jac: [ 3.971e+01 -1.695e+01 ... -1.393e+06  1.392e+06]\n",
      " hess_inv: [[ 1.000e+00  1.123e-11 ... -9.156e-11 -1.831e-10]\n",
      "            [ 1.123e-11  9.997e-01 ...  2.741e-03  5.482e-03]\n",
      "            ...\n",
      "            [-9.156e-11  2.741e-03 ...  9.777e-01 -4.468e-02]\n",
      "            [-1.831e-10  5.482e-03 ... -4.468e-02  9.106e-01]]\n",
      "     nfev: 2142\n",
      "     njev: 61\n",
      "[ 4.88092707e-14 -2.81968583e-06 -2.98211487e-14  3.40207020e-14\n",
      " -2.81968590e-06 -2.81968589e-06 -2.81968580e-06 -5.63937166e-06\n",
      " -5.63937170e-06 -2.81968581e-06 -5.63937172e-06  1.37062171e-14\n",
      " -2.81968582e-06 -2.81968578e-06 -2.81968588e-06 -5.63937166e-06\n",
      "  1.19360628e-04  2.68464853e-14 -2.81968585e-06 -2.81968589e-06\n",
      " -2.81968588e-06 -5.63937167e-06 -5.63937164e-06 -5.63937162e-06\n",
      " -2.81968589e-06 -2.81968583e-06  1.25000000e-04 -5.63937167e-06\n",
      "  4.05396341e-05  9.62418884e-05  1.29279820e-05  9.76781957e-05\n",
      "  2.29832128e-05  4.59661989e-05]\n"
     ]
    }
   ],
   "source": [
    "from scipy.optimize import minimize\n",
    "\n",
    "scale_by_y = False\n",
    "lamb = 0.9\n",
    "n_classes = np.unique(ac_y_train).size\n",
    "params = np.zeros(ac_X_train.shape[1] + n_classes)\n",
    "\n",
    "# random params\n",
    "params_rand = rng.normal(0, 0.1, ac_X_train.shape[1] + n_classes)\n",
    "\n",
    "# params after one run of Nelder-Mead \n",
    "params_nm = [2.99552789e-17, -9.12238797e-17,  8.43373503e-17,  6.28923016e-17,\n",
    "        1.29517064e-16,  2.35470728e-16,  4.64152560e-18, -2.37379072e-17,\n",
    "        9.33068062e-17, -1.31213310e-16,  8.47381150e-17, -9.14277033e-18,\n",
    "       -1.10647317e-16, -5.55542955e-17,  4.15674610e-17, -7.28795221e-17,\n",
    "        1.25000000e-04, -3.91915815e-17,  1.01399459e-16,  2.16536932e-16,\n",
    "        6.13107712e-15,  1.23078388e-16,  1.16260966e-16,  1.76600273e-17,\n",
    "        1.35598036e-16,  7.26746491e-17,  1.25000000e-04,  1.30296841e-16,\n",
    "        1.45441669e-16, -1.72678216e-17, -1.87164751e-16, -4.54465550e-17,\n",
    "       -1.00882237e-16, -3.29592381e-17]\n",
    "\n",
    "params_warm =  [0.47077975,  0.        ,  0.37275445,  0.        ,  0.        ,\n",
    "        -0.2718176 ,  0.01834662,  0.27956828,  0.        ,  0.00906079,\n",
    "         0.        ,  0.22041753, -0.1378634 ,  0.18726233, -0.08640451,\n",
    "         0.08268969, -0.26427331,  0.        , -0.28873376, -0.24587408,\n",
    "         0.        , -0.07656282, -0.02134246,  0.59662556,  0.05288458,\n",
    "         0.        ,  1.71402649,  0.10353958,  0.        , \n",
    "        -0.48783945, -0.62012817, -1.75287372, -2.09708938, 4]\n",
    "\n",
    "m = minimize(objective, params_nm, args=(ac_X_train.T, ac_y_train, n_classes, lamb, scale_by_y),\n",
    "         method=\"BFGS\")\n",
    "print(m)\n",
    "print(m.x)"
   ]
  },
  {
   "cell_type": "markdown",
   "id": "d15c9eb8",
   "metadata": {},
   "source": [
    "### Observations:\n",
    "\n",
    "- Numerical instabilities (nans, infs): Especially BFGS struggles here and usually only executes one iteration\n",
    "- BFTS struggles to converge, starting from all-0 parameters.\n",
    "- Nelder-Mead works without derivative\n",
    "\n",
    "- None of the attempts introduce sparsity!\n",
    "- Using pretrained parameters (params_warm), all attempted solvers converge successfully"
   ]
  },
  {
   "cell_type": "code",
   "execution_count": 242,
   "id": "9637c47a",
   "metadata": {},
   "outputs": [],
   "source": [
    "def train_sgd(obj, grad, X, y, \n",
    "              tol = 1e-8, \n",
    "              max_iter = 10000,\n",
    "              exp_dec1 = 0.9,\n",
    "              exp_dec2 = 0.999,\n",
    "              eta = 0.01,\n",
    "              epsilon = 1e-8,\n",
    "              scaling = True,\n",
    "              lamb = 0.9):\n",
    "\n",
    "    # weights and data params\n",
    "    n_classes = np.unique(y).size\n",
    "    params = np.zeros(X.shape[0] + n_classes)\n",
    "    \n",
    "    # adam\n",
    "    m_dw, v_dw = 0, 0\n",
    "    m_db, v_db = 0, 0\n",
    "\n",
    "    # iteration tracking\n",
    "    dloss = 1\n",
    "    cur_iter = 1\n",
    "    losses = []\n",
    "    while True:\n",
    "        if (dloss < tol):\n",
    "            print(\"Converged\")\n",
    "            break\n",
    "        if (cur_iter > max_iter):\n",
    "            print(\"Max iterations\")\n",
    "            break\n",
    "\n",
    "        loss = - obj(params, X, y, n_classes, lamb, scaling)\n",
    "        g = grad(params, X, y, n_classes, lamb, scaling)\n",
    "\n",
    "        # split into w, b\n",
    "        #w = params[:-n_classes]\n",
    "        #b = params[-n_classes:]\n",
    "        #dw = g[:-n_classes]\n",
    "        #db = g[-n_classes:]\n",
    "        \n",
    "        # ADAM:\n",
    "        # momentum\n",
    "        m_dw = exp_dec1 * m_dw + (1 - exp_dec1) * g\n",
    "        #m_db = exp_dec1 * m_db + (1 - exp_dec1) * db\n",
    "        # rms\n",
    "        v_dw = exp_dec2 * v_dw + (1 - exp_dec2) * (g**2)\n",
    "        #v_db = exp_dec2 * v_db + (1 - exp_dec2) * (db)\n",
    "        # bias correction\n",
    "        m_dw_corr = m_dw / (1 - exp_dec1**cur_iter)\n",
    "        #m_db_corr = m_db / (1 - exp_dec1**cur_iter)\n",
    "        v_dw_corr = v_dw / (1 - exp_dec2**cur_iter)\n",
    "        #v_db_corr = v_db / (1 - exp_dec2**cur_iter)\n",
    "\n",
    "        # update weights\n",
    "        params = params - eta * (m_dw_corr / (np.sqrt(v_dw_corr) + epsilon))\n",
    "        #params[:-n_classes] = w - eta * (m_dw_corr / (np.sqrt(v_dw_corr) + epsilon))\n",
    "        #params[-n_classes:] = b - eta * (m_db_corr / (np.sqrt(v_db_corr) + epsilon))\n",
    "        \n",
    "        losses.append(loss)\n",
    "        if len(losses) > 1:\n",
    "            dloss = np.abs(losses[-2] - losses[-1])\n",
    "        else:\n",
    "            dloss = tol + 1\n",
    "        cur_iter += 1\n",
    "\n",
    "    print(\"iterations\", cur_iter)\n",
    "    print(\"Final loss\", loss)\n",
    "    print(\"Final grad\", g)\n",
    "    print(\"Final weights\", params)\n",
    "    \n",
    "\n",
    "    return (w, losses)"
   ]
  },
  {
   "cell_type": "code",
   "execution_count": 245,
   "id": "99610bde",
   "metadata": {},
   "outputs": [
    {
     "name": "stdout",
     "output_type": "stream",
     "text": [
      "Max iterations\n",
      "iterations 10001\n",
      "Final loss 3.864969886183547\n",
      "Final grad [ 3.08003931e-05 -6.95417991e-06 -2.48448925e-05  1.23616905e-05\n",
      " -3.87290256e-06 -7.70605115e-06  1.50971708e-05 -4.44282958e-06\n",
      " -2.49248588e-05  8.99355811e-06 -7.84054424e-06  1.16487385e-06\n",
      " -6.06920555e-06 -1.16023761e-05 -5.66633073e-06  4.36711784e-06\n",
      "  1.53359436e-05  8.30633301e-06  4.59879437e-05  4.82084781e-06\n",
      " -1.30070550e-06 -6.82105377e-06  2.13036443e-05  4.01272567e-06\n",
      " -7.54711603e-07  3.22385615e-06 -1.32791328e-01 -3.61864666e-01\n",
      " -3.13047484e-01 -2.57452575e-01 -1.97831978e-01 -2.02216008e-01\n",
      " -1.98499907e-01 -1.07398666e-01]\n",
      "Final weights [-15.70474103   6.69867601   7.54687662  -3.45564663   5.44803681\n",
      "   4.23807187  -8.03689221   1.10862422   8.43843063   2.80012354\n",
      "   6.70120873   2.20182158   6.16622331  13.11157945   5.02874169\n",
      "  -8.39486977 -12.11820687  -7.53928168 -25.04165654   1.87697301\n",
      "   3.37213069  -0.67310978 -12.35951135   3.54129629   4.37100894\n",
      "  21.23529069 101.27695636 101.2877214  100.9323535  101.73629196\n",
      " 100.94273644 100.95366772 100.95992545 101.24916762]\n"
     ]
    }
   ],
   "source": [
    "w, losses = train_sgd(objective, objective_grad, ac_X_train.T, ac_y_train, scaling=True, max_iter=10000, lamb=0.1, eta=0.01, tol=1e-8)"
   ]
  },
  {
   "cell_type": "code",
   "execution_count": 246,
   "id": "93823962",
   "metadata": {
    "scrolled": false
   },
   "outputs": [
    {
     "data": {
      "text/plain": [
       "[<matplotlib.lines.Line2D at 0x7f89cf9e6fe0>]"
      ]
     },
     "execution_count": 246,
     "metadata": {},
     "output_type": "execute_result"
    },
    {
     "data": {
      "image/png": "[encoded data removed]",
      "text/plain": [
       "<Figure size 640x480 with 1 Axes>"
      ]
     },
     "metadata": {},
     "output_type": "display_data"
    }
   ],
   "source": [
    "plt.plot(np.arange(len(losses)), np.log10(losses))"
   ]
  },
  {
   "cell_type": "code",
   "execution_count": 140,
   "id": "1f663240",
   "metadata": {
    "scrolled": false
   },
   "outputs": [
    {
     "name": "stdout",
     "output_type": "stream",
     "text": [
      "Max iterations\n",
      "iterations 10001\n",
      "Final loss 146.53191625908386\n",
      "Final grad [-0.15804472  0.0864316   0.31833718 -0.22369549  0.39310398  0.37067169\n",
      " -0.11936545  0.08447343  0.30131089 -0.0373659   0.36510006  0.11821912\n",
      " -0.13463693 -0.25061925  0.30943424  0.06975411  0.21186055 -0.11338127\n",
      "  0.11894422  0.38566774  0.38936875 -0.00910436 -0.11054034 -0.11106363\n",
      "  0.38541902 -0.07231725 -0.01473323 -0.06092687 -0.02270895 -0.49555729\n",
      " -0.08152977 -0.03882701 -0.08638828 -0.192672  ]\n",
      "Final weights [-15.29782048   8.55500291  30.98594427 -21.74423999  38.25632004\n",
      "  36.140823   -11.58970689   8.43269969  29.31160341  -3.54031005\n",
      "  35.50006904  11.80537736 -13.02417423 -24.42811066  30.17988472\n",
      "   7.03855335  20.66709801 -10.91184417  11.77121544  37.53874879\n",
      "  37.96517826  -0.94924281 -10.90359671 -10.98681853  37.54208935\n",
      "  -6.9285495   -1.86758905  -6.55104632  -2.55049276 -48.76716533\n",
      "  -8.08474221  -4.26715989  -8.84748669 -18.66873841]\n"
     ]
    }
   ],
   "source": [
    "train_sgd(objective, objective_grad, ac_X_train.T, ac_y_train, scaling=True, lamb=0)"
   ]
  },
  {
   "cell_type": "markdown",
   "id": "0e3287f0",
   "metadata": {},
   "source": [
    "## Use Jax autograd"
   ]
  },
  {
   "cell_type": "code",
   "execution_count": 14,
   "id": "d0d7b9ac",
   "metadata": {},
   "outputs": [],
   "source": [
    "from jax import grad, jit, vmap\n",
    "from jax import numpy as jnp"
   ]
  },
  {
   "cell_type": "code",
   "execution_count": 15,
   "id": "05155574",
   "metadata": {},
   "outputs": [
    {
     "name": "stderr",
     "output_type": "stream",
     "text": [
      "No GPU/TPU found, falling back to CPU. (Set TF_CPP_MIN_LOG_LEVEL=0 and rerun for more info.)\n"
     ]
    }
   ],
   "source": [
    "LMBD = 0.5\n",
    "BIG = 1e10\n",
    "X = ac_X_train\n",
    "y = ac_y_train\n",
    "k = jnp.unique(ac_y_train).size\n",
    "\n",
    "def jphi(beta, thresholds):\n",
    "    phi = 1 / (1 + jnp.exp(jnp.dot(beta.T, X) - thresholds))\n",
    "    return phi\n",
    "\n",
    "def jl1_regularizer(beta):\n",
    "    return LMBD * jnp.sum(jnp.abs(beta))\n",
    "\n",
    "# PROBLEM: Is the objective minimized or maximized?? -> Scipy MINIMIZES\n",
    "# log likelihood with regularization as objective function\n",
    "def jobjective(params):\n",
    "    beta = params[:-k]\n",
    "    theta = params[-k:]\n",
    "    thresholds = jnp.array([theta[i] for i in y])\n",
    "    thresholds_m1 = jnp.array([theta[max(0, i-1)] for i in y]) \n",
    "\n",
    "    # fit term\n",
    "    # PROBLEM: What if diff is negative? -> Log has issues, but value may be meaningful\n",
    "    idx = (thresholds != 0)\n",
    "    diff = jnp.zeros_like(thresholds)\n",
    "    phi_i = jphi(beta, thresholds)\n",
    "    phi_im1 = jphi(beta, thresholds_m1)\n",
    "    diff.at[idx].set((phi_i - phi_im1)[idx])\n",
    "    diff.at[~idx].set(phi_i[~idx])\n",
    "\n",
    "    loss = jnp.log(diff)\n",
    "    loss = jnp.nan_to_num(jnp.log(diff), nan=0)\n",
    "    loss = jnp.sum(loss)\n",
    "\n",
    "    # regularization term\n",
    "    loss -= jl1_regularizer(beta)\n",
    "    \n",
    "    # scipy MINIMIZES the loss\n",
    "    loss *= -1\n",
    "\n",
    "    #print(\"avg loss:\", loss.mean())\n",
    "    return loss\n"
   ]
  },
  {
   "cell_type": "code",
   "execution_count": 19,
   "id": "e333efad",
   "metadata": {
    "scrolled": false
   },
   "outputs": [
    {
     "name": "stderr",
     "output_type": "stream",
     "text": [
      "/home/julian/.local/share/virtualenvs/code-tW9RC7Ez/lib/python3.10/site-packages/scipy/optimize/_linesearch.py:141: RuntimeWarning: invalid value encountered in double_scalars\n",
      "  alpha1 = min(1.0, 1.01*2*(phi0 - old_phi0)/derphi0)\n",
      "/home/julian/.local/share/virtualenvs/code-tW9RC7Ez/lib/python3.10/site-packages/scipy/optimize/_linesearch.py:382: RuntimeWarning: invalid value encountered in double_scalars\n",
      "  alpha1 = min(1.0, 1.01*2*(phi0 - old_phi0)/derphi0)\n"
     ]
    },
    {
     "data": {
      "text/plain": [
       "  message: Desired error not necessarily achieved due to precision loss.\n",
       "  success: False\n",
       "   status: 2\n",
       "      fun: inf\n",
       "        x: [ 0.000e+00  0.000e+00 ...  0.000e+00  0.000e+00]\n",
       "      nit: 0\n",
       "      jac: [ 1.000e-02  1.000e-02 ...  0.000e+00  0.000e+00]\n",
       " hess_inv: [[1 0 ... 0 0]\n",
       "            [0 1 ... 0 0]\n",
       "            ...\n",
       "            [0 0 ... 1 0]\n",
       "            [0 0 ... 0 1]]\n",
       "     nfev: 18\n",
       "     njev: 7"
      ]
     },
     "execution_count": 19,
     "metadata": {},
     "output_type": "execute_result"
    }
   ],
   "source": [
    "from scipy.optimize import minimize\n",
    "\n",
    "LMBD = 0.01\n",
    "BIG = 1e10\n",
    "X = ac_X_train.T\n",
    "y = ac_y_train\n",
    "k = jnp.unique(ac_y_train).size\n",
    "params = np.zeros(ac_X_train.shape[1] + k)\n",
    "\n",
    "params_ones = np.ones(ac_X_train.shape[1] + k)\n",
    "\n",
    "params_warm_start = [0.47077975,  0.        ,  0.37275445,  0.        ,  0.        ,\n",
    "        -0.2718176 ,  0.01834662,  0.27956828,  0.        ,  0.00906079,\n",
    "         0.        ,  0.22041753, -0.1378634 ,  0.18726233, -0.08640451,\n",
    "         0.08268969, -0.26427331,  0.        , -0.28873376, -0.24587408,\n",
    "         0.        , -0.07656282, -0.02134246,  0.59662556,  0.05288458,\n",
    "         0.        ,  1.71402649,  0.10353958,  0.        , 0,  -0.48783945,\n",
    "        -0.62012817, -1.75287372, -2.09708938]\n",
    "\n",
    "\n",
    "\n",
    "objective_jaxder = grad(jobjective)\n",
    "minimize(jobjective, params, jac=objective_jaxder, method=\"BFGS\")"
   ]
  },
  {
   "cell_type": "markdown",
   "id": "076a986a",
   "metadata": {},
   "source": [
    "## Gradient Model v3 \n",
    "\n",
    "Based on [mord by fabian](https://github.com/fabianp/mord/blob/master/mord/threshold_based.py)"
   ]
  },
  {
   "cell_type": "code",
   "execution_count": null,
   "id": "6b67d818",
   "metadata": {
    "scrolled": true
   },
   "outputs": [],
   "source": [
    "http://localhost:8888/?token=3783460b6309e1f75cfe99b263c1bf4fe50b5d7d8fd5bc66\n",
    "from sklearn.utils.validation import check_X_y\n",
    "\n",
    "def sigmoid(t):\n",
    "    # sigmoid function, 1 / (1 + exp(-t))\n",
    "    # stable computation\n",
    "    idx = t > 0\n",
    "    out = np.zeros_like(t)\n",
    "    out[idx] = 1. / (1 + np.exp(-t[idx]))\n",
    "    exp_t = np.exp(t[~idx])\n",
    "    out[~idx] = exp_t / (1. + exp_t)\n",
    "    return out\n",
    "\n",
    "\n",
    "def log_loss(Z):\n",
    "    # stable computation of the logistic loss\n",
    "    idx = Z > 0\n",
    "    out = np.zeros_like(Z)\n",
    "    out[idx] = np.log(1 + np.exp(-Z[idx]))\n",
    "    out[~idx] = (-Z[~idx] + np.log(1 + np.exp(Z[~idx])))\n",
    "    return out\n",
    "\n",
    "\n",
    "def obj_margin(x0, X, y, alpha, n_class, weights, L, sample_weight):\n",
    "    \"\"\"\n",
    "    Objective function for the general margin-based formulation\n",
    "    \"\"\"\n",
    "\n",
    "    w = x0[:X.shape[1]]\n",
    "    c = x0[X.shape[1]:]\n",
    "    theta = L.dot(c)\n",
    "    loss_fd = weights[y]\n",
    "\n",
    "    Xw = X.dot(w)\n",
    "    Alpha = theta[:, None] - Xw  # (n_class - 1, n_samples)\n",
    "    S = np.sign(np.arange(n_class - 1)[:, None] - y + 0.5)\n",
    "\n",
    "    err = loss_fd.T * log_loss(S * Alpha)\n",
    "    if sample_weight is not None:\n",
    "        err *= sample_weight\n",
    "    obj = np.sum(err)\n",
    "    obj += alpha * (np.sum(np.abs(beta)))  # l1 term\n",
    "    return obj\n",
    "\n",
    "\n",
    "def grad_margin(x0, X, y, alpha, n_class, weights, L, sample_weight):\n",
    "    \"\"\"\n",
    "    Gradient for the general margin-based formulation\n",
    "    \"\"\"\n",
    "\n",
    "    w = x0[:X.shape[1]]\n",
    "    c = x0[X.shape[1]:]\n",
    "    theta = L.dot(c)\n",
    "    loss_fd = weights[y]\n",
    "\n",
    "    Xw = X.dot(w)\n",
    "    Alpha = theta[:, None] - Xw  # (n_class - 1, n_samples)\n",
    "    S = np.sign(np.arange(n_class - 1)[:, None] - y + 0.5)\n",
    "    # Alpha[idx] *= -1\n",
    "    # W[idx.T] *= -1\n",
    "\n",
    "    Sigma = S * loss_fd.T * sigmoid(-S * Alpha)\n",
    "    if sample_weight is not None:\n",
    "        Sigma *= sample_weight\n",
    "\n",
    "    grad_w = X.T.dot(Sigma.sum(0)) + alpha * w\n",
    "\n",
    "    grad_theta = -Sigma.sum(1)\n",
    "    grad_c = L.T.dot(grad_theta)\n",
    "    return np.concatenate((grad_w, grad_c), axis=0)\n",
    "\n",
    "\n",
    "def threshold_fit(X, y, alpha, n_class, mode='AE',\n",
    "                  max_iter=1000, verbose=False, tol=1e-12,\n",
    "                  sample_weight=None):\n",
    "    \"\"\"\n",
    "    Solve the general threshold-based ordinal regression model\n",
    "    using the logistic loss as surrogate of the 0-1 loss\n",
    "    Parameters\n",
    "    ----------\n",
    "    mode : string, one of {'AE', '0-1', 'SE'}\n",
    "    \"\"\"\n",
    "\n",
    "    X, y = check_X_y(X, y, accept_sparse='csr')\n",
    "    unique_y = np.sort(np.unique(y))\n",
    "    if not np.all(unique_y == np.arange(unique_y.size)):\n",
    "        raise ValueError(\n",
    "            'Values in y must be %s, instead got %s'\n",
    "            % (np.arange(unique_y.size), unique_y))\n",
    "\n",
    "    n_samples, n_features = X.shape\n",
    "\n",
    "    # convert from c to theta\n",
    "    L = np.zeros((n_class - 1, n_class - 1))\n",
    "    L[np.tril_indices(n_class-1)] = 1.\n",
    "\n",
    "    if mode == 'AE':\n",
    "        # loss forward difference\n",
    "        loss_fd = np.ones((n_class, n_class - 1))\n",
    "    elif mode == '0-1':\n",
    "        loss_fd = np.diag(np.ones(n_class - 1)) + \\\n",
    "            np.diag(np.ones(n_class - 2), k=-1)\n",
    "        loss_fd = np.vstack((loss_fd, np.zeros(n_class - 1)))\n",
    "        loss_fd[-1, -1] = 1  # border case\n",
    "    elif mode == 'SE':\n",
    "        a = np.arange(n_class-1)\n",
    "        b = np.arange(n_class)\n",
    "        loss_fd = np.abs((a - b[:, None])**2 - (a - b[:, None]+1)**2)\n",
    "    else:\n",
    "        raise NotImplementedError\n",
    "\n",
    "    x0 = np.zeros(n_features + n_class - 1)\n",
    "    x0[X.shape[1]:] = np.arange(n_class - 1)\n",
    "    options = {'maxiter' : max_iter, 'disp': verbose}\n",
    "    if n_class > 2:\n",
    "        bounds = [(None, None)] * (n_features + 1) + \\\n",
    "                 [(0, None)] * (n_class - 2)\n",
    "    else:\n",
    "        bounds = None\n",
    "\n",
    "    sol = optimize.minimize(obj_margin, x0, method='L-BFGS-B',\n",
    "        jac=grad_margin, bounds=bounds, options=options,\n",
    "        args=(X, y, alpha, n_class, loss_fd, L, sample_weight),\n",
    "        tol=tol)\n",
    "    if verbose and not sol.success:\n",
    "        print(sol.message)\n",
    "\n",
    "    w, c = sol.x[:X.shape[1]], sol.x[X.shape[1]:]\n",
    "    theta = L.dot(c)\n",
    "    return w, theta\n",
    "\n",
    "threshold_fit(ac_X_train, ac_y_train, 1, np.unique(ac_y_train).size, mode=\"AE\")"
   ]
  }
 ],
 "metadata": {
  "kernelspec": {
   "display_name": "Python 3 (ipykernel)",
   "language": "python",
   "name": "python3"
  },
  "language_info": {
   "codemirror_mode": {
    "name": "ipython",
    "version": 3
   },
   "file_extension": ".py",
   "mimetype": "text/x-python",
   "name": "python",
   "nbconvert_exporter": "python",
   "pygments_lexer": "ipython3",
   "version": "3.10.10"
  }
 },
 "nbformat": 4,
 "nbformat_minor": 5
}
