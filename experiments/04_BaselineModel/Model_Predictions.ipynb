{
 "cells": [
  {
   "cell_type": "code",
   "execution_count": 1,
   "id": "96f85a53",
   "metadata": {},
   "outputs": [],
   "source": [
    "import numpy as np\n",
    "import pandas as pd\n",
    "from matplotlib import pyplot as plt \n",
    "from sklearn.preprocessing import StandardScaler\n",
    "from scipy.special import logit"
   ]
  },
  {
   "cell_type": "code",
   "execution_count": 2,
   "id": "b6434cf6",
   "metadata": {},
   "outputs": [],
   "source": [
    "from numpy.random import default_rng\n",
    "rng = default_rng(seed=1234)"
   ]
  },
  {
   "cell_type": "code",
   "execution_count": 3,
   "id": "fed76d5f",
   "metadata": {},
   "outputs": [],
   "source": [
    "from masterthesis.data import load_h5ad\n",
    "\n",
    "# load the python AnnData object\n",
    "acinar_ann = load_h5ad(\"/home/julian/Uni/MasterThesis/data/acinar_sce.h5ad\")"
   ]
  },
  {
   "cell_type": "markdown",
   "id": "b1ea4f56",
   "metadata": {},
   "source": [
    "# Data"
   ]
  },
  {
   "cell_type": "code",
   "execution_count": 4,
   "id": "5501b45f",
   "metadata": {},
   "outputs": [
    {
     "name": "stdout",
     "output_type": "stream",
     "text": [
      "(369, 26)\n",
      "(42, 26)\n",
      "(369,)\n",
      "(42,)\n"
     ]
    }
   ],
   "source": [
    "# sampling in R with seed 1234\n",
    "test_idx = [284, 336, 406, 101, 111, 393, 133, 400, 388, 98, 103, 214, 90, 326, 79, 372, 270, 382, 184, 62, 4, 403, 149, 40, 212, 195, 93, 122, 66, 175, 379, 304, 108, 131, 343, 41, 115, 228, 328, 298, 299]\n",
    "train_idx = list(set(range(acinar_ann.X.shape[0])) - set(test_idx))\n",
    "\n",
    "# selected Genes after preprocessing in R\n",
    "sel_genes = [\"REG3A\", \"AMY2A\", \"MT2A\", \"OLFM4\",\n",
    "             \"SYCN\", \"CELA2B\", \"FGL1\", \"AMY2B\",\n",
    "             \"MT1G\", \"TM4SF1\", \"CELA2A\", \"PDK4\", \n",
    "             \"TACSTD2\", \"CD44\", \"PNLIPRP2\", \"ALB\", \n",
    "             \"ERP27\", \"LDHA\", \"REG3G\", \"CTRL\", \"CLPS\",\n",
    "             \"FOS\", \"HSPA8\", \"SERPINA3\", \"CELA3B\", \"CRP\" ]\n",
    "\n",
    "sel_genes = sorted(sel_genes)\n",
    "\n",
    "from sklearn.model_selection import train_test_split\n",
    "\n",
    "y = np.array([int(x) for x in acinar_ann.obs.donor_age])\n",
    "k = len(np.unique(y))\n",
    "X_train, X_test, y_train, y_test = train_test_split(acinar_ann[:,sel_genes].X, y, \n",
    "                                                    test_size=0.1, \n",
    "                                                    stratify=y,\n",
    "                                                    random_state=1234)\n",
    "\n",
    "print(X_train.shape)\n",
    "print(X_test.shape)\n",
    "print(y_train.shape)\n",
    "print(y_test.shape)"
   ]
  },
  {
   "cell_type": "markdown",
   "id": "9cace09b",
   "metadata": {},
   "source": [
    "# Preprocessing"
   ]
  },
  {
   "cell_type": "code",
   "execution_count": 5,
   "id": "ddc9c7bf",
   "metadata": {},
   "outputs": [],
   "source": [
    "scaler = StandardScaler()\n",
    "X_train = scaler.fit_transform(X_train)\n",
    "X_test = scaler.fit_transform(X_test)"
   ]
  },
  {
   "cell_type": "code",
   "execution_count": 6,
   "id": "292f1286",
   "metadata": {},
   "outputs": [],
   "source": [
    "# Transform y into a series of subsequent labels [0,1,2 ...]\n",
    "transf = dict(zip(np.unique(y),\n",
    "                  np.arange(0, len(np.unique(y)))))\n",
    "                        \n",
    "y_train_trans = np.array([transf[e] for e in y_train])\n",
    "y_test_trans = np.array([transf[e] for e in y_test])\n",
    "\n",
    "# reordering, such that yi < yi+1\n",
    "train_reorder = np.argsort(y_train_trans)\n",
    "test_reorder = np.argsort(y_test_trans)"
   ]
  },
  {
   "cell_type": "code",
   "execution_count": 7,
   "id": "5b275d7f",
   "metadata": {},
   "outputs": [
    {
     "name": "stdout",
     "output_type": "stream",
     "text": [
      "y_train: 2583\n",
      "y_test: 294\n",
      "X_train_bin: (2583, 33)\n",
      "X_test_bin: (294, 33)\n"
     ]
    }
   ],
   "source": [
    "from masterthesis.data import restructure_X_to_bin, restructure_y_to_bin\n",
    "\n",
    "y_train_bin = restructure_y_to_bin(y_train)\n",
    "print(\"y_train:\", len(y_train_bin))\n",
    "\n",
    "y_test_bin = restructure_y_to_bin(y_test)\n",
    "print(\"y_test:\", len(y_test_bin))\n",
    "\n",
    "X_train_bin = restructure_X_to_bin(X_train, n_thresholds=np.unique(y).size -1 )\n",
    "print(\"X_train_bin:\", X_train_bin.shape)\n",
    "\n",
    "X_test_bin = restructure_X_to_bin(X_test, n_thresholds=np.unique(y).size - 1)\n",
    "print(\"X_test_bin:\", X_test_bin.shape)"
   ]
  },
  {
   "cell_type": "markdown",
   "id": "a492cde0",
   "metadata": {},
   "source": [
    "# Models"
   ]
  },
  {
   "cell_type": "markdown",
   "id": "c46d473d",
   "metadata": {},
   "source": [
    "R params (25 degrees of freedom model (including thresholds))\n",
    "```\n",
    "ALB        AMY2A        AMY2B         CD44       CELA2A       CELA2B       CELA3B         CLPS \n",
    " 0.318453883  0.000000000  0.436426019  0.163187190  0.000000000 -0.703729963  0.654379359  0.000000000 \n",
    "         CRP         CTRL        ERP27         FGL1          FOS        HSPA8         LDHA         MT1G \n",
    " 0.025537654 -0.024909444 -0.541135669  0.000000000 -0.265368767 -0.005586048  0.000000000  0.000000000 \n",
    "        MT2A        OLFM4         PDK4     PNLIPRP2        REG3A        REG3G     SERPINA3         SYCN \n",
    " 0.337725221  0.000000000  0.235017877 -0.167188413  0.636231174 -0.558136212  1.128825473  0.000000000 \n",
    "     TACSTD2       TM4SF1          cp1          cp2          cp3          cp4          cp5          cp6 \n",
    "-0.528875018  0.227809234  5.192485102  2.536847033  2.003129014  0.837138551  0.677894210 -1.051345724 \n",
    "         cp7 \n",
    "-1.691617612 \n",
    "```"
   ]
  },
  {
   "cell_type": "code",
   "execution_count": 23,
   "id": "5883073b",
   "metadata": {
    "scrolled": false
   },
   "outputs": [
    {
     "name": "stdout",
     "output_type": "stream",
     "text": [
      "[ 2.93900142e-01  1.79770339e-01  5.63835038e-01  6.70140794e-01\n",
      " -2.26899530e-02 -8.00216724e-01  9.62427817e-01 -8.03677961e-01\n",
      " -7.10537999e-04 -7.47236994e-01 -5.43638653e-01  1.83489646e-01\n",
      " -1.94134175e-01 -7.13952822e-02 -8.26001839e-03  3.53619138e-02\n",
      "  6.24720432e-01  9.32382957e-02  4.89473755e-01 -3.69608435e-01\n",
      "  7.46705116e-01 -4.12876340e-01  8.85006579e-01  7.56907854e-01\n",
      " -5.16777262e-01  1.09066106e-01]\n",
      "[-4.19418722 -3.47351606 -1.5363196  -1.3317969   0.09230499  0.75199896\n",
      "  3.46038067]\n",
      "(Train) Mean Absolute Delta: 1.7100271002710028\n",
      "(Train) Class Error: 0.16802168021680217\n",
      "(Test) Predictions: [6 4 6 4 2 7 2 6 4 4 6 2 0 6 6 4 6 6 6 6 7 4 6 4 4 6 4 2 6 6 2 6 0 2 6 4 0\n",
      " 6 0 6 2 6]\n",
      "(Test) Mean Absolute Delta: 1.9047619047619047\n",
      "(Test) Class Error: 0.19047619047619047\n"
     ]
    },
    {
     "data": {
      "text/html": [
       "<style>#sk-container-id-11 {color: black;background-color: white;}#sk-container-id-11 pre{padding: 0;}#sk-container-id-11 div.sk-toggleable {background-color: white;}#sk-container-id-11 label.sk-toggleable__label {cursor: pointer;display: block;width: 100%;margin-bottom: 0;padding: 0.3em;box-sizing: border-box;text-align: center;}#sk-container-id-11 label.sk-toggleable__label-arrow:before {content: \"▸\";float: left;margin-right: 0.25em;color: #696969;}#sk-container-id-11 label.sk-toggleable__label-arrow:hover:before {color: black;}#sk-container-id-11 div.sk-estimator:hover label.sk-toggleable__label-arrow:before {color: black;}#sk-container-id-11 div.sk-toggleable__content {max-height: 0;max-width: 0;overflow: hidden;text-align: left;background-color: #f0f8ff;}#sk-container-id-11 div.sk-toggleable__content pre {margin: 0.2em;color: black;border-radius: 0.25em;background-color: #f0f8ff;}#sk-container-id-11 input.sk-toggleable__control:checked~div.sk-toggleable__content {max-height: 200px;max-width: 100%;overflow: auto;}#sk-container-id-11 input.sk-toggleable__control:checked~label.sk-toggleable__label-arrow:before {content: \"▾\";}#sk-container-id-11 div.sk-estimator input.sk-toggleable__control:checked~label.sk-toggleable__label {background-color: #d4ebff;}#sk-container-id-11 div.sk-label input.sk-toggleable__control:checked~label.sk-toggleable__label {background-color: #d4ebff;}#sk-container-id-11 input.sk-hidden--visually {border: 0;clip: rect(1px 1px 1px 1px);clip: rect(1px, 1px, 1px, 1px);height: 1px;margin: -1px;overflow: hidden;padding: 0;position: absolute;width: 1px;}#sk-container-id-11 div.sk-estimator {font-family: monospace;background-color: #f0f8ff;border: 1px dotted black;border-radius: 0.25em;box-sizing: border-box;margin-bottom: 0.5em;}#sk-container-id-11 div.sk-estimator:hover {background-color: #d4ebff;}#sk-container-id-11 div.sk-parallel-item::after {content: \"\";width: 100%;border-bottom: 1px solid gray;flex-grow: 1;}#sk-container-id-11 div.sk-label:hover label.sk-toggleable__label {background-color: #d4ebff;}#sk-container-id-11 div.sk-serial::before {content: \"\";position: absolute;border-left: 1px solid gray;box-sizing: border-box;top: 0;bottom: 0;left: 50%;z-index: 0;}#sk-container-id-11 div.sk-serial {display: flex;flex-direction: column;align-items: center;background-color: white;padding-right: 0.2em;padding-left: 0.2em;position: relative;}#sk-container-id-11 div.sk-item {position: relative;z-index: 1;}#sk-container-id-11 div.sk-parallel {display: flex;align-items: stretch;justify-content: center;background-color: white;position: relative;}#sk-container-id-11 div.sk-item::before, #sk-container-id-11 div.sk-parallel-item::before {content: \"\";position: absolute;border-left: 1px solid gray;box-sizing: border-box;top: 0;bottom: 0;left: 50%;z-index: -1;}#sk-container-id-11 div.sk-parallel-item {display: flex;flex-direction: column;z-index: 1;position: relative;background-color: white;}#sk-container-id-11 div.sk-parallel-item:first-child::after {align-self: flex-end;width: 50%;}#sk-container-id-11 div.sk-parallel-item:last-child::after {align-self: flex-start;width: 50%;}#sk-container-id-11 div.sk-parallel-item:only-child::after {width: 0;}#sk-container-id-11 div.sk-dashed-wrapped {border: 1px dashed gray;margin: 0 0.4em 0.5em 0.4em;box-sizing: border-box;padding-bottom: 0.4em;background-color: white;}#sk-container-id-11 div.sk-label label {font-family: monospace;font-weight: bold;display: inline-block;line-height: 1.2em;}#sk-container-id-11 div.sk-label-container {text-align: center;}#sk-container-id-11 div.sk-container {/* jupyter's `normalize.less` sets `[hidden] { display: none; }` but bootstrap.min.css set `[hidden] { display: none !important; }` so we also need the `!important` here to be able to override the default hidden behavior on the sphinx rendered scikit-learn.org. See: https://github.com/scikit-learn/scikit-learn/issues/21755 */display: inline-block !important;position: relative;}#sk-container-id-11 div.sk-text-repr-fallback {display: none;}</style><div id=\"sk-container-id-11\" class=\"sk-top-container\"><div class=\"sk-text-repr-fallback\"><pre>LinearBinarizedModel(regularization=1000)</pre><b>In a Jupyter environment, please rerun this cell to show the HTML representation or trust the notebook. <br />On GitHub, the HTML representation is unable to render, please try loading this page with nbviewer.org.</b></div><div class=\"sk-container\" hidden><div class=\"sk-item\"><div class=\"sk-estimator sk-toggleable\"><input class=\"sk-toggleable__control sk-hidden--visually\" id=\"sk-estimator-id-11\" type=\"checkbox\" checked><label for=\"sk-estimator-id-11\" class=\"sk-toggleable__label sk-toggleable__label-arrow\">LinearBinarizedModel</label><div class=\"sk-toggleable__content\"><pre>LinearBinarizedModel(regularization=1000)</pre></div></div></div></div></div>"
      ],
      "text/plain": [
       "LinearBinarizedModel(regularization=1000)"
      ]
     },
     "execution_count": 23,
     "metadata": {},
     "output_type": "execute_result"
    }
   ],
   "source": [
    "from masterthesis.model import LinearBinarizedModel\n",
    "from masterthesis.metrics import abs_delta, class_error\n",
    "\n",
    "# Fitting\n",
    "lin_model = LinearBinarizedModel(regularization=1000).fit(X_train, y_train)\n",
    "\n",
    "print(lin_model.beta)\n",
    "print(lin_model.theta)\n",
    "\n",
    "# Predictions\n",
    "y_pred_train = lin_model.predict(X_train)\n",
    "\n",
    "print(\"(Train) Mean Absolute Delta:\", abs_delta(y_train_trans, y_pred_train, mean=True))\n",
    "print(\"(Train) Class Error:\", class_error(y_train_trans, y_pred_train))\n",
    "\n",
    "y_pred_test = lin_model.predict(X_test)\n",
    "\n",
    "print(\"(Test) Predictions:\", y_pred_test)\n",
    "\n",
    "print(\"(Test) Mean Absolute Delta:\", abs_delta(y_test_trans, y_pred_test, mean=True))\n",
    "print(\"(Test) Class Error:\", class_error(y_test_trans, y_pred_test))\n",
    "\n",
    "lin_model"
   ]
  },
  {
   "cell_type": "code",
   "execution_count": 9,
   "id": "be674f06",
   "metadata": {},
   "outputs": [
    {
     "name": "stdout",
     "output_type": "stream",
     "text": [
      "Iter:  2 Train score:  0.8691950464396285\n",
      "Iter:  4 Train score:  0.8738390092879257\n",
      "[ 0.01664695  0.          0.29847146  0.3564868   0.         -0.51959845\n",
      "  0.14481885  0.          0.         -0.5153116  -0.3192593   0.01919667\n",
      " -0.06470973 -0.01847443  0.          0.          0.62014956  0.11118106\n",
      "  0.23018893 -0.15575448  0.6101014  -0.46300347  0.63497354  0.\n",
      " -0.23404583  0.        ]\n",
      "[-3.44794172 -2.34751961 -0.79430111 -0.56780821  0.          0.01500561\n",
      "  2.62129456]\n",
      "(Train) Mean Absolute Delta: 1.7615176151761518\n",
      "(Train) Class Error: 0.17615176151761516\n",
      "(Test) Predictions: [6 6 6 6 2 7 2 6 6 6 6 6 0 6 6 2 6 6 6 6 7 6 6 6 6 6 6 2 6 6 2 6 0 2 6 6 2\n",
      " 6 0 6 2 6]\n",
      "(Test) Mean Absolute Delta: 2.238095238095238\n",
      "(Test) Class Error: 0.19047619047619047\n"
     ]
    }
   ],
   "source": [
    "from masterthesis.model import SGDBinarizedModel\n",
    "\n",
    "# Fitting\n",
    "sgd_model = SGDBinarizedModel(regularization=0.01, max_iter=5).fit(X_train, y_train)\n",
    "\n",
    "print(sgd_model.beta)\n",
    "print(sgd_model.theta)\n",
    "\n",
    "# Predictions\n",
    "y_pred_train = sgd_model.predict(X_train)\n",
    "\n",
    "print(\"(Train) Mean Absolute Delta:\", abs_delta(y_train_trans, y_pred_train, mean=True))\n",
    "print(\"(Train) Class Error:\", class_error(y_train_trans, y_pred_train))\n",
    "\n",
    "y_pred_test = sgd_model.predict(X_test)\n",
    "\n",
    "print(\"(Test) Predictions:\", y_pred_test)\n",
    "\n",
    "print(\"(Test) Mean Absolute Delta:\", abs_delta(y_test_trans, y_pred_test, mean=True))\n",
    "print(\"(Test) Class Error:\", class_error(y_test_trans, y_pred_test))"
   ]
  }
 ],
 "metadata": {
  "kernelspec": {
   "display_name": "Python 3 (ipykernel)",
   "language": "python",
   "name": "python3"
  },
  "language_info": {
   "codemirror_mode": {
    "name": "ipython",
    "version": 3
   },
   "file_extension": ".py",
   "mimetype": "text/x-python",
   "name": "python",
   "nbconvert_exporter": "python",
   "pygments_lexer": "ipython3",
   "version": "3.11.3"
  }
 },
 "nbformat": 4,
 "nbformat_minor": 5
}
