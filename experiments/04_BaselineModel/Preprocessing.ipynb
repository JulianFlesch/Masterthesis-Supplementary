{
 "cells": [
  {
   "cell_type": "code",
   "execution_count": null,
   "id": "a5ece51d",
   "metadata": {},
   "outputs": [],
   "source": [
    "import os\n",
    "os.chdir(\"/home/julian/Uni/MasterThesis/experiments\")\n",
    "\n",
    "from src.data import load_acinar, DATA_DIR"
   ]
  },
  {
   "cell_type": "code",
   "execution_count": null,
   "id": "b7aa22ce",
   "metadata": {},
   "outputs": [],
   "source": [
    "# load the python AnnData object\n",
    "acinar_ann = load_acinar()\n",
    "\n",
    "# TODO: Convert float64 to float32 for handling by scanpy"
   ]
  },
  {
   "cell_type": "markdown",
   "id": "cbd66889",
   "metadata": {},
   "source": [
    "## Preprocessing"
   ]
  },
  {
   "cell_type": "code",
   "execution_count": 9,
   "id": "fa5a9378",
   "metadata": {
    "scrolled": true
   },
   "outputs": [],
   "source": [
    "import scanpy as sc\n",
    "import math"
   ]
  },
  {
   "cell_type": "markdown",
   "id": "5e891745",
   "metadata": {},
   "source": [
    "### Filter Cells"
   ]
  },
  {
   "cell_type": "code",
   "execution_count": 10,
   "id": "39047b19",
   "metadata": {},
   "outputs": [],
   "source": [
    "# Not done in psupertime??"
   ]
  },
  {
   "cell_type": "markdown",
   "id": "48d5d66e",
   "metadata": {},
   "source": [
    "### Select highly variable Genes\n",
    "\n",
    "Adds columns to `.var` (see [documentation](https://scanpy.readthedocs.io/en/stable/generated/scanpy.pp.highly_variable_genes.html) )"
   ]
  },
  {
   "cell_type": "code",
   "execution_count": 11,
   "id": "ff16752c",
   "metadata": {},
   "outputs": [],
   "source": [
    "sc.pp.highly_variable_genes(acinar_ann, inplace=True)"
   ]
  },
  {
   "cell_type": "code",
   "execution_count": 12,
   "id": "01f6e34a",
   "metadata": {},
   "outputs": [],
   "source": [
    "acinar_copy = acinar_ann[:, acinar_ann.var.highly_variable]"
   ]
  },
  {
   "cell_type": "code",
   "execution_count": 20,
   "id": "3239fb24",
   "metadata": {
    "scrolled": false
   },
   "outputs": [
    {
     "data": {
      "text/plain": [
       "(411, 651)"
      ]
     },
     "execution_count": 20,
     "metadata": {},
     "output_type": "execute_result"
    }
   ],
   "source": [
    "acinar_copy.shape"
   ]
  },
  {
   "cell_type": "code",
   "execution_count": 21,
   "id": "8b073e7e",
   "metadata": {},
   "outputs": [
    {
     "data": {
      "text/plain": [
       "False"
      ]
     },
     "execution_count": 21,
     "metadata": {},
     "output_type": "execute_result"
    }
   ],
   "source": [
    "# Selection diverges from R results:\n",
    "any([gene in acinar_copy.var_names for gene in sel_genes])"
   ]
  },
  {
   "cell_type": "markdown",
   "id": "862b6642",
   "metadata": {},
   "source": [
    "### Filter Genes\n",
    "\n",
    "Discard genes only expressed in a small number (1%) of cells"
   ]
  },
  {
   "cell_type": "code",
   "execution_count": 15,
   "id": "33b0b495",
   "metadata": {},
   "outputs": [],
   "source": [
    "cell_thresh = math.ceil(0.01 * acinar_ann.n_obs)"
   ]
  },
  {
   "cell_type": "code",
   "execution_count": 16,
   "id": "592da1fd",
   "metadata": {
    "scrolled": true
   },
   "outputs": [
    {
     "name": "stderr",
     "output_type": "stream",
     "text": [
      "/home/julian/.local/share/virtualenvs/experiments-0Bwu2BGA/lib/python3.10/site-packages/scanpy/preprocessing/_simple.py:251: ImplicitModificationWarning: Trying to modify attribute `.var` of view, initializing view as actual.\n",
      "  adata.var['n_cells'] = number\n",
      "/usr/lib/python3.10/contextlib.py:142: FutureWarning: X.dtype being converted to np.float32 from float64. In the next version of anndata (0.9) conversion will not be automatic. Pass dtype explicitly to avoid this warning. Pass `AnnData(X, dtype=X.dtype, ...)` to get the future behavour.\n",
      "  next(self.gen)\n"
     ]
    }
   ],
   "source": [
    "sc.pp.filter_genes(acinar_copy, min_cells=cell_thresh, inplace=True)"
   ]
  },
  {
   "cell_type": "code",
   "execution_count": 17,
   "id": "0ec83932",
   "metadata": {
    "scrolled": false
   },
   "outputs": [
    {
     "data": {
      "text/plain": [
       "(411, 651)"
      ]
     },
     "execution_count": 17,
     "metadata": {},
     "output_type": "execute_result"
    }
   ],
   "source": [
    "acinar_copy.shape"
   ]
  },
  {
   "cell_type": "markdown",
   "id": "165d03a0",
   "metadata": {},
   "source": [
    "### Denoising / Dropout correction\n",
    "\n",
    "Mean over 10 highest correlated observations / cells"
   ]
  },
  {
   "cell_type": "code",
   "execution_count": 18,
   "id": "508c1933",
   "metadata": {},
   "outputs": [],
   "source": [
    "# TODO\n",
    "pass"
   ]
  },
  {
   "cell_type": "markdown",
   "id": "b0e28d27",
   "metadata": {},
   "source": [
    "### Scaling\n",
    "\n",
    "Normalization (mean = 0, std = 1)"
   ]
  },
  {
   "cell_type": "code",
   "execution_count": 19,
   "id": "3e4aabcc",
   "metadata": {},
   "outputs": [],
   "source": [
    "# TODO\n",
    "sc.pp.scale(acinar_copy)"
   ]
  },
  {
   "cell_type": "code",
   "execution_count": null,
   "id": "ee04a8cd",
   "metadata": {},
   "outputs": [],
   "source": [
    "### Scaling\n",
    "\n",
    "Normalization (mean = 0, std = 1)\n",
    "\n",
    "# TODO\n",
    "sc.pp.scale(acinar_copy)"
   ]
  }
 ],
 "metadata": {
  "kernelspec": {
   "display_name": "Python 3 (ipykernel)",
   "language": "python",
   "name": "python3"
  },
  "language_info": {
   "codemirror_mode": {
    "name": "ipython",
    "version": 3
   },
   "file_extension": ".py",
   "mimetype": "text/x-python",
   "name": "python",
   "nbconvert_exporter": "python",
   "pygments_lexer": "ipython3",
   "version": "3.10.9"
  }
 },
 "nbformat": 4,
 "nbformat_minor": 5
}
