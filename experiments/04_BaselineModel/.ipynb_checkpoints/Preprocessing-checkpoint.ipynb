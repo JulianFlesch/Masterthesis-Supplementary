{
 "cells": [
  {
   "cell_type": "code",
   "execution_count": 7,
   "id": "a5ece51d",
   "metadata": {},
   "outputs": [],
   "source": [
    "import os\n",
    "os.chdir(\"/home/julian/Uni/MasterThesis/code/experiments\")\n",
    "\n",
    "from masterthesis.data import load_h5ad"
   ]
  },
  {
   "cell_type": "code",
   "execution_count": 8,
   "id": "b7aa22ce",
   "metadata": {},
   "outputs": [],
   "source": [
    "# load the python AnnData object\n",
    "acinar_ann = load_h5ad(\"/home/julian/Uni/MasterThesis/data/acinar_sce.h5ad\")\n",
    "\n",
    "# TODO: Convert float64 to float32 for handling by scanpy"
   ]
  },
  {
   "cell_type": "markdown",
   "id": "cbd66889",
   "metadata": {},
   "source": [
    "## Preprocessing"
   ]
  },
  {
   "cell_type": "code",
   "execution_count": 9,
   "id": "fa5a9378",
   "metadata": {
    "scrolled": true
   },
   "outputs": [],
   "source": [
    "import scanpy as sc\n",
    "import math"
   ]
  },
  {
   "cell_type": "markdown",
   "id": "5e891745",
   "metadata": {},
   "source": [
    "### Filter Cells"
   ]
  },
  {
   "cell_type": "code",
   "execution_count": 10,
   "id": "39047b19",
   "metadata": {},
   "outputs": [],
   "source": [
    "# Notdone in psupertime??"
   ]
  },
  {
   "cell_type": "markdown",
   "id": "48d5d66e",
   "metadata": {},
   "source": [
    "### Select highly variable Genes\n",
    "\n",
    "Adds columns to `.var` (see [documentation](https://scanpy.readthedocs.io/en/stable/generated/scanpy.pp.highly_variable_genes.html) )"
   ]
  },
  {
   "cell_type": "code",
   "execution_count": 15,
   "id": "b00d1706",
   "metadata": {},
   "outputs": [],
   "source": [
    "# selected Genes after preprocessing in R\n",
    "sel_genes = [\"REG3A\", \"AMY2A\", \"MT2A\", \"OLFM4\",\n",
    "             \"SYCN\", \"CELA2B\", \"FGL1\", \"AMY2B\",\n",
    "             \"MT1G\", \"TM4SF1\", \"CELA2A\", \"PDK4\", \n",
    "             \"TACSTD2\", \"CD44\", \"PNLIPRP2\", \"ALB\", \n",
    "             \"ERP27\", \"LDHA\", \"REG3G\", \"CTRL\", \"CLPS\",\n",
    "             \"FOS\", \"HSPA8\", \"SERPINA3\", \"CELA3B\", \"CRP\" ]"
   ]
  },
  {
   "cell_type": "code",
   "execution_count": 11,
   "id": "ff16752c",
   "metadata": {},
   "outputs": [],
   "source": [
    "sc.pp.highly_variable_genes(acinar_ann, inplace=True)"
   ]
  },
  {
   "cell_type": "code",
   "execution_count": 12,
   "id": "01f6e34a",
   "metadata": {},
   "outputs": [],
   "source": [
    "acinar_copy = acinar_ann[:, acinar_ann.var.highly_variable]"
   ]
  },
  {
   "cell_type": "code",
   "execution_count": 13,
   "id": "3239fb24",
   "metadata": {
    "scrolled": false
   },
   "outputs": [
    {
     "data": {
      "text/plain": [
       "(411, 2347)"
      ]
     },
     "execution_count": 13,
     "metadata": {},
     "output_type": "execute_result"
    }
   ],
   "source": [
    "acinar_copy.shape"
   ]
  },
  {
   "cell_type": "code",
   "execution_count": 16,
   "id": "8b073e7e",
   "metadata": {},
   "outputs": [
    {
     "data": {
      "text/plain": [
       "False"
      ]
     },
     "execution_count": 16,
     "metadata": {},
     "output_type": "execute_result"
    }
   ],
   "source": [
    "# Selection diverges from R results:\n",
    "any([gene in acinar_copy.var_names for gene in sel_genes])"
   ]
  },
  {
   "cell_type": "markdown",
   "id": "862b6642",
   "metadata": {},
   "source": [
    "### Filter Genes\n",
    "\n",
    "Discard genes only expressed in a small number (1%) of cells"
   ]
  },
  {
   "cell_type": "code",
   "execution_count": 21,
   "id": "33b0b495",
   "metadata": {},
   "outputs": [],
   "source": [
    "cell_thresh = math.ceil(0.01 * acinar_ann.n_obs)"
   ]
  },
  {
   "cell_type": "code",
   "execution_count": 23,
   "id": "592da1fd",
   "metadata": {
    "scrolled": true
   },
   "outputs": [],
   "source": [
    "sc.pp.filter_genes(acinar_copy, min_cells=cell_thresh, inplace=True)"
   ]
  },
  {
   "cell_type": "code",
   "execution_count": 25,
   "id": "0ec83932",
   "metadata": {
    "scrolled": false
   },
   "outputs": [
    {
     "data": {
      "text/plain": [
       "(411, 651)"
      ]
     },
     "execution_count": 25,
     "metadata": {},
     "output_type": "execute_result"
    }
   ],
   "source": [
    "acinar_copy.shape"
   ]
  },
  {
   "cell_type": "markdown",
   "id": "165d03a0",
   "metadata": {},
   "source": [
    "### Denoising / Dropout correction\n",
    "\n",
    "Mean over 10 highest correlated observations / cells"
   ]
  },
  {
   "cell_type": "code",
   "execution_count": 18,
   "id": "508c1933",
   "metadata": {},
   "outputs": [],
   "source": [
    "# TODO\n",
    "pass"
   ]
  },
  {
   "cell_type": "markdown",
   "id": "b0e28d27",
   "metadata": {},
   "source": [
    "### Scaling\n",
    "\n",
    "Normalization (mean = 0, std = 1)"
   ]
  },
  {
   "cell_type": "code",
   "execution_count": 26,
   "id": "ee04a8cd",
   "metadata": {},
   "outputs": [],
   "source": [
    "### Scaling\n",
    "\n",
    "# Normalization (mean = 0, std = 1)\n",
    "\n",
    "# TODO\n",
    "sc.pp.scale(acinar_copy)"
   ]
  }
 ],
 "metadata": {
  "kernelspec": {
   "display_name": "Python 3 (ipykernel)",
   "language": "python",
   "name": "python3"
  },
  "language_info": {
   "codemirror_mode": {
    "name": "ipython",
    "version": 3
   },
   "file_extension": ".py",
   "mimetype": "text/x-python",
   "name": "python",
   "nbconvert_exporter": "python",
   "pygments_lexer": "ipython3",
   "version": "3.10.10"
  }
 },
 "nbformat": 4,
 "nbformat_minor": 5
}
