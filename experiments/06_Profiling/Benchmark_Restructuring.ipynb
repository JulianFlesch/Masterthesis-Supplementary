{
 "cells": [
  {
   "cell_type": "code",
   "execution_count": 1,
   "id": "1b80685a",
   "metadata": {},
   "outputs": [],
   "source": [
    "import numpy as np\n",
    "from scipy import sparse\n",
    "from scanpy import read_h5ad"
   ]
  },
  {
   "cell_type": "code",
   "execution_count": 7,
   "id": "99574fd4-178e-4fbc-9cc9-6dcf4922f755",
   "metadata": {},
   "outputs": [],
   "source": [
    "acinar_sce = read_h5ad(\"/home/julian/Uni/MasterThesis/data/acinar_sce.h5ad\")\n",
    "k = acinar_sce.obs.donor_age.unique().size - 1"
   ]
  },
  {
   "cell_type": "markdown",
   "id": "e6cc5734-6520-49ef-bb84-82987778e52b",
   "metadata": {},
   "source": [
    "## Old Implementation"
   ]
  },
  {
   "cell_type": "code",
   "execution_count": 15,
   "id": "6303a6d3",
   "metadata": {},
   "outputs": [],
   "source": [
    "def restructure_X_to_bin(X_orig, n_thresholds):\n",
    "\n",
    "    # X training matrix\n",
    "    X_bin = np.concatenate([X_orig.copy()] * (n_thresholds))\n",
    "    # Add thresholds\n",
    "    num_el = X_orig.shape[0] * (n_thresholds)\n",
    "\n",
    "    for ki in range(n_thresholds):\n",
    "        temp = np.repeat(0, num_el).reshape(X_orig.shape[0], (n_thresholds))\n",
    "        temp[:,ki] = 1\n",
    "        if ki > 0:\n",
    "            thresholds = np.concatenate([thresholds, temp])\n",
    "        else:\n",
    "            thresholds = temp\n",
    "\n",
    "    X_bin = np.concatenate([X_bin, thresholds], axis=1)\n",
    "\n",
    "    return X_bin"
   ]
  },
  {
   "cell_type": "code",
   "execution_count": 48,
   "id": "73b82999-e784-48a3-9e75-d5d082d5a982",
   "metadata": {},
   "outputs": [
    {
     "name": "stdout",
     "output_type": "stream",
     "text": [
      "CPU times: user 116 ms, sys: 129 ms, total: 246 ms\n",
      "Wall time: 244 ms\n"
     ]
    },
    {
     "data": {
      "text/plain": [
       "(2877, 23375)"
      ]
     },
     "execution_count": 48,
     "metadata": {},
     "output_type": "execute_result"
    }
   ],
   "source": [
    "%time restructure_X_to_bin(acinar_sce.X, k).shape"
   ]
  },
  {
   "cell_type": "markdown",
   "id": "d917caa1-ef16-4cf3-96c9-525a6bdd16ef",
   "metadata": {},
   "source": [
    "## New Implementation"
   ]
  },
  {
   "cell_type": "code",
   "execution_count": 34,
   "id": "b681f957-2d05-4ffc-a58a-f650165c230a",
   "metadata": {},
   "outputs": [],
   "source": [
    "def restructure_X_to_bin_new(X_orig, n_thresholds):\n",
    "\n",
    "    n = X_orig.shape[0]\n",
    "    binarized_index = np.arange(n * n_thresholds)\n",
    "    index_mod_n = binarized_index % n\n",
    "    thresholds = np.identity(n_thresholds)\n",
    "    \n",
    "    if sparse.issparse(X_orig):\n",
    "        thresholds = sparse.csr_matrix(thresholds)\n",
    "        X_bin = sparse.hstack((X_orig[index_mod_n], thresholds[binarized_index // n]))\n",
    "    else:\n",
    "        X_bin = np.hstack((X_orig[index_mod_n], thresholds[binarized_index // n]))\n",
    "\n",
    "    return X_bin"
   ]
  },
  {
   "cell_type": "code",
   "execution_count": 11,
   "id": "25fe50d9-2100-4911-bf8b-e94cc8c6d544",
   "metadata": {},
   "outputs": [
    {
     "name": "stdout",
     "output_type": "stream",
     "text": [
      "CPU times: user 111 ms, sys: 183 ms, total: 294 ms\n",
      "Wall time: 294 ms\n"
     ]
    },
    {
     "data": {
      "text/plain": [
       "(2877, 23375)"
      ]
     },
     "execution_count": 11,
     "metadata": {},
     "output_type": "execute_result"
    }
   ],
   "source": [
    "%time restructure_X_to_bin_new(acinar_sce.X, k).shape"
   ]
  },
  {
   "cell_type": "markdown",
   "id": "da3b381d-d608-45d7-a866-0aefba845f4c",
   "metadata": {},
   "source": [
    "## Timeit"
   ]
  },
  {
   "cell_type": "code",
   "execution_count": 20,
   "id": "1ba43e26-2e53-422c-b51f-5a0fa8c284b0",
   "metadata": {},
   "outputs": [],
   "source": [
    "import timeit, functools"
   ]
  },
  {
   "cell_type": "code",
   "execution_count": 21,
   "id": "3ddd221c-19ba-4d5c-bbe4-4c0923ebf456",
   "metadata": {},
   "outputs": [
    {
     "data": {
      "text/plain": [
       "19.872561967000365"
      ]
     },
     "execution_count": 21,
     "metadata": {},
     "output_type": "execute_result"
    }
   ],
   "source": [
    "t_old = timeit.Timer(functools.partial(restructure_X_to_bin, acinar_sce.X, k))\n",
    "t_old.timeit(100)"
   ]
  },
  {
   "cell_type": "code",
   "execution_count": 35,
   "id": "67e32d81-e936-4d05-ab2a-fda41bbe0efe",
   "metadata": {},
   "outputs": [
    {
     "data": {
      "text/plain": [
       "16.619350277993362"
      ]
     },
     "execution_count": 35,
     "metadata": {},
     "output_type": "execute_result"
    }
   ],
   "source": [
    "t_new = timeit.Timer(functools.partial(restructure_X_to_bin_new, acinar_sce.X, k))\n",
    "t_new.timeit(100)"
   ]
  },
  {
   "cell_type": "code",
   "execution_count": 36,
   "id": "2ab851d8-23c1-437b-b204-60e46b3a9507",
   "metadata": {},
   "outputs": [
    {
     "data": {
      "text/plain": [
       "8.406985062989406"
      ]
     },
     "execution_count": 36,
     "metadata": {},
     "output_type": "execute_result"
    }
   ],
   "source": [
    "X_sparse = sparse.csr_matrix(acinar_sce.X)\n",
    "t_sparse = timeit.Timer(functools.partial(restructure_X_to_bin_new, X_sparse, k))\n",
    "t_sparse.timeit(100)"
   ]
  },
  {
   "cell_type": "markdown",
   "id": "3d36ab78-41ca-48af-864e-6d552dd82f4f",
   "metadata": {},
   "source": [
    "## Validation"
   ]
  },
  {
   "cell_type": "code",
   "execution_count": 37,
   "id": "1ee53277-0026-4af0-82e8-3d37a1507be1",
   "metadata": {},
   "outputs": [
    {
     "data": {
      "text/plain": [
       "True"
      ]
     },
     "execution_count": 37,
     "metadata": {},
     "output_type": "execute_result"
    }
   ],
   "source": [
    "np.all(np.equal(restructure_X_to_bin(acinar_sce.X, k), restructure_X_to_bin_new(acinar_sce.X, k)))"
   ]
  },
  {
   "cell_type": "code",
   "execution_count": 47,
   "id": "c7dfad39-b2f2-46a2-b875-e54b3553d6f6",
   "metadata": {},
   "outputs": [
    {
     "data": {
      "text/plain": [
       "True"
      ]
     },
     "execution_count": 47,
     "metadata": {},
     "output_type": "execute_result"
    }
   ],
   "source": [
    "np.all(np.equal(restructure_X_to_bin(acinar_sce.X, k), restructure_X_to_bin_new(X_sparse, k).todense()))"
   ]
  }
 ],
 "metadata": {
  "kernelspec": {
   "display_name": "Python 3 (ipykernel)",
   "language": "python",
   "name": "python3"
  },
  "language_info": {
   "codemirror_mode": {
    "name": "ipython",
    "version": 3
   },
   "file_extension": ".py",
   "mimetype": "text/x-python",
   "name": "python",
   "nbconvert_exporter": "python",
   "pygments_lexer": "ipython3",
   "version": "3.11.3"
  }
 },
 "nbformat": 4,
 "nbformat_minor": 5
}
