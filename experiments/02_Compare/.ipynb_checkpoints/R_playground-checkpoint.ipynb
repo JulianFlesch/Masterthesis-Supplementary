{
 "cells": [
  {
   "cell_type": "code",
   "execution_count": 3,
   "id": "4280b7a2",
   "metadata": {},
   "outputs": [],
   "source": [
    "import pandas as pd\n",
    "df = pd.DataFrame({\n",
    "    'cups_of_coffee': [0, 1, 2, 3, 4, 5, 6, 7, 8, 9],\n",
    "    'productivity': [2, 5, 6, 8, 9, 8, 0, 1, 0, -1]\n",
    "})"
   ]
  },
  {
   "cell_type": "code",
   "execution_count": 4,
   "id": "6d1358a7",
   "metadata": {},
   "outputs": [],
   "source": [
    "s = \"Foo\""
   ]
  },
  {
   "cell_type": "code",
   "execution_count": 5,
   "id": "ff2eb5fd",
   "metadata": {
    "scrolled": false
   },
   "outputs": [
    {
     "name": "stdout",
     "output_type": "stream",
     "text": [
      "Requirement already satisfied: rpy2 in /home/julian/.local/share/virtualenvs/experiments-0Bwu2BGA/lib/python3.10/site-packages (3.5.6)\r\n",
      "Requirement already satisfied: cffi>=1.10.0 in /home/julian/.local/share/virtualenvs/experiments-0Bwu2BGA/lib/python3.10/site-packages (from rpy2) (1.15.1)\r\n",
      "Requirement already satisfied: tzlocal in /home/julian/.local/share/virtualenvs/experiments-0Bwu2BGA/lib/python3.10/site-packages (from rpy2) (4.2)\r\n",
      "Requirement already satisfied: pytz in /home/julian/.local/share/virtualenvs/experiments-0Bwu2BGA/lib/python3.10/site-packages (from rpy2) (2022.6)\r\n",
      "Requirement already satisfied: jinja2 in /home/julian/.local/share/virtualenvs/experiments-0Bwu2BGA/lib/python3.10/site-packages (from rpy2) (3.1.2)\r\n",
      "Requirement already satisfied: pycparser in /home/julian/.local/share/virtualenvs/experiments-0Bwu2BGA/lib/python3.10/site-packages (from cffi>=1.10.0->rpy2) (2.21)\r\n",
      "Requirement already satisfied: MarkupSafe>=2.0 in /home/julian/.local/share/virtualenvs/experiments-0Bwu2BGA/lib/python3.10/site-packages (from jinja2->rpy2) (2.1.1)\r\n",
      "Requirement already satisfied: pytz-deprecation-shim in /home/julian/.local/share/virtualenvs/experiments-0Bwu2BGA/lib/python3.10/site-packages (from tzlocal->rpy2) (0.1.0.post0)\r\n",
      "Requirement already satisfied: tzdata in /home/julian/.local/share/virtualenvs/experiments-0Bwu2BGA/lib/python3.10/site-packages (from pytz-deprecation-shim->tzlocal->rpy2) (2022.6)\r\n"
     ]
    }
   ],
   "source": [
    "# install rpy2\n",
    "!pip install rpy2"
   ]
  },
  {
   "cell_type": "code",
   "execution_count": 6,
   "id": "97bc8921",
   "metadata": {},
   "outputs": [],
   "source": [
    "%load_ext rpy2.ipython"
   ]
  },
  {
   "cell_type": "code",
   "execution_count": 7,
   "id": "9615258c",
   "metadata": {},
   "outputs": [],
   "source": [
    "%%R -i df -w 5 -h 5 --units in -r 200\n",
    "\n",
    "d <- c(1,2,3)\n"
   ]
  },
  {
   "cell_type": "code",
   "execution_count": 8,
   "id": "ce1bb085",
   "metadata": {
    "scrolled": true
   },
   "outputs": [
    {
     "name": "stdout",
     "output_type": "stream",
     "text": [
      "Collecting pyreadr\n",
      "  Downloading pyreadr-0.4.7-cp310-cp310-manylinux_2_17_x86_64.manylinux2014_x86_64.whl (362 kB)\n",
      "\u001b[2K     \u001b[38;2;114;156;31m━━━━━━━━━━━━━━━━━━━━━━━━━━━━━━━━━━━━━\u001b[0m \u001b[32m363.0/363.0 kB\u001b[0m \u001b[31m237.0 kB/s\u001b[0m eta \u001b[36m0:00:00\u001b[0mm eta \u001b[36m0:00:01\u001b[0m0:01\u001b[0m:01\u001b[0m\n",
      "\u001b[?25hRequirement already satisfied: pandas>=1.2.0 in /home/julian/.local/share/virtualenvs/experiments-0Bwu2BGA/lib/python3.10/site-packages (from pyreadr) (1.5.1)\n",
      "Requirement already satisfied: pytz>=2020.1 in /home/julian/.local/share/virtualenvs/experiments-0Bwu2BGA/lib/python3.10/site-packages (from pandas>=1.2.0->pyreadr) (2022.6)\n",
      "Requirement already satisfied: python-dateutil>=2.8.1 in /home/julian/.local/share/virtualenvs/experiments-0Bwu2BGA/lib/python3.10/site-packages (from pandas>=1.2.0->pyreadr) (2.8.2)\n",
      "Requirement already satisfied: numpy>=1.21.0 in /home/julian/.local/share/virtualenvs/experiments-0Bwu2BGA/lib/python3.10/site-packages (from pandas>=1.2.0->pyreadr) (1.23.4)\n",
      "Requirement already satisfied: six>=1.5 in /home/julian/.local/share/virtualenvs/experiments-0Bwu2BGA/lib/python3.10/site-packages (from python-dateutil>=2.8.1->pandas>=1.2.0->pyreadr) (1.16.0)\n",
      "Installing collected packages: pyreadr\n",
      "Successfully installed pyreadr-0.4.7\n"
     ]
    }
   ],
   "source": [
    "!pip install pyreadr"
   ]
  },
  {
   "cell_type": "markdown",
   "id": "bac78978",
   "metadata": {},
   "source": [
    "## Load the Data"
   ]
  },
  {
   "cell_type": "code",
   "execution_count": 13,
   "id": "62a0996b",
   "metadata": {},
   "outputs": [],
   "source": [
    "# Attempt 2: Load the file with `pyreadr`\n",
    "\n",
    "# Result: does not work, the robject is not recognized. Maybe because it is a SingleCellExperiment\n",
    "import pyreadr\n",
    "#df = pyreadr.read_r(\"../../psupplementary/data/acinar_sce.rda\")"
   ]
  },
  {
   "cell_type": "code",
   "execution_count": 17,
   "id": "4e604b6a",
   "metadata": {},
   "outputs": [],
   "source": [
    "# Attempt 3: Load the file with ryp2\n",
    "\n",
    "# Results: Reads the file, but the object is not usable\n",
    "from rpy2 import robjects\n",
    "acinar_sce = robjects.r.data(\"../../psupplementary/data/acinar_sce.rda\")\n",
    "acinar_sce"
   ]
  },
  {
   "cell_type": "code",
   "execution_count": 1,
   "id": "8de089f1",
   "metadata": {
    "scrolled": true
   },
   "outputs": [],
   "source": [
    "# Attempt 4: Load the Supplementary Package\n",
    "\n",
    "# Result: Reads the package, but the data is not accessible, only the analysis functions\n",
    "from rpy2.robjects.packages import importr\n",
    "\n",
    "psupplementary = importr(\"psupplementary\")"
   ]
  },
  {
   "cell_type": "code",
   "execution_count": 4,
   "id": "af90c010",
   "metadata": {},
   "outputs": [
    {
     "data": {
      "text/plain": [
       "AnnData object with n_obs × n_vars = 411 × 23368\n",
       "    obs: 'wellKey', 'geo_accession', 'donor_age', 'gender', 'inferred_cell_type'\n",
       "    var: 'primerid'\n",
       "    uns: 'X_name'\n",
       "    layers: 'counts', 'tpm'"
      ]
     },
     "execution_count": 4,
     "metadata": {},
     "output_type": "execute_result"
    }
   ],
   "source": [
    "# Attempt 5: Export the rda file again as h5ad file and reimport with scanpy (sc python library ~ scran)\n",
    "import scanpy\n",
    "\n",
    "annotation_data = scanpy.read_h5ad(\"../../psupplementary/data/acinar_sce.h5ad\")\n",
    "annotation_data"
   ]
  },
  {
   "cell_type": "code",
   "execution_count": 5,
   "id": "fc763b92",
   "metadata": {
    "scrolled": false
   },
   "outputs": [
    {
     "data": {
      "text/plain": [
       "['T',\n",
       " 'X',\n",
       " '_BACKED_ATTRS',\n",
       " '_H5_ALIASES',\n",
       " '_H5_ALIASES_NAMES',\n",
       " '_X',\n",
       " '__class__',\n",
       " '__contains__',\n",
       " '__delattr__',\n",
       " '__delitem__',\n",
       " '__dict__',\n",
       " '__dir__',\n",
       " '__doc__',\n",
       " '__eq__',\n",
       " '__format__',\n",
       " '__ge__',\n",
       " '__getattribute__',\n",
       " '__getitem__',\n",
       " '__gt__',\n",
       " '__hash__',\n",
       " '__init__',\n",
       " '__init_subclass__',\n",
       " '__le__',\n",
       " '__len__',\n",
       " '__lt__',\n",
       " '__module__',\n",
       " '__ne__',\n",
       " '__new__',\n",
       " '__reduce__',\n",
       " '__reduce_ex__',\n",
       " '__repr__',\n",
       " '__setattr__',\n",
       " '__setitem__',\n",
       " '__sizeof__',\n",
       " '__str__',\n",
       " '__subclasshook__',\n",
       " '__weakref__',\n",
       " '_adata_ref',\n",
       " '_check_dimensions',\n",
       " '_check_uniqueness',\n",
       " '_clean_up_old_format',\n",
       " '_gen_repr',\n",
       " '_get_X',\n",
       " '_get_and_delete_multicol_field',\n",
       " '_get_obs_array',\n",
       " '_get_var_array',\n",
       " '_has_X',\n",
       " '_init_as_actual',\n",
       " '_init_as_view',\n",
       " '_inplace_subset_obs',\n",
       " '_inplace_subset_var',\n",
       " '_is_view',\n",
       " '_layers',\n",
       " '_mutated_copy',\n",
       " '_n_obs',\n",
       " '_n_vars',\n",
       " '_normalize_indices',\n",
       " '_obs',\n",
       " '_obsm',\n",
       " '_obsp',\n",
       " '_oidx',\n",
       " '_prep_dim_index',\n",
       " '_raw',\n",
       " '_remove_unused_categories',\n",
       " '_sanitize',\n",
       " '_set_backed',\n",
       " '_set_dim_df',\n",
       " '_set_dim_index',\n",
       " '_uns',\n",
       " '_var',\n",
       " '_varm',\n",
       " '_varp',\n",
       " '_vidx',\n",
       " 'chunk_X',\n",
       " 'chunked_X',\n",
       " 'concatenate',\n",
       " 'copy',\n",
       " 'file',\n",
       " 'filename',\n",
       " 'is_view',\n",
       " 'isbacked',\n",
       " 'isview',\n",
       " 'layers',\n",
       " 'n_obs',\n",
       " 'n_vars',\n",
       " 'obs',\n",
       " 'obs_keys',\n",
       " 'obs_names',\n",
       " 'obs_names_make_unique',\n",
       " 'obs_vector',\n",
       " 'obsm',\n",
       " 'obsm_keys',\n",
       " 'obsp',\n",
       " 'raw',\n",
       " 'rename_categories',\n",
       " 'shape',\n",
       " 'strings_to_categoricals',\n",
       " 'to_df',\n",
       " 'to_memory',\n",
       " 'transpose',\n",
       " 'uns',\n",
       " 'uns_keys',\n",
       " 'var',\n",
       " 'var_keys',\n",
       " 'var_names',\n",
       " 'var_names_make_unique',\n",
       " 'var_vector',\n",
       " 'varm',\n",
       " 'varm_keys',\n",
       " 'varp',\n",
       " 'write',\n",
       " 'write_csvs',\n",
       " 'write_h5ad',\n",
       " 'write_loom',\n",
       " 'write_zarr']"
      ]
     },
     "execution_count": 5,
     "metadata": {},
     "output_type": "execute_result"
    }
   ],
   "source": [
    "dir(annotation_data)"
   ]
  },
  {
   "cell_type": "code",
   "execution_count": 20,
   "id": "ca9fefa0",
   "metadata": {
    "scrolled": false
   },
   "outputs": [
    {
     "data": {
      "text/plain": [
       "array([[0.        , 5.33409234, 0.        , ..., 0.        , 0.        ,\n",
       "        0.        ],\n",
       "       [0.        , 0.        , 0.        , ..., 0.        , 2.95923859,\n",
       "        0.        ],\n",
       "       [0.        , 0.        , 0.        , ..., 0.        , 0.        ,\n",
       "        0.        ],\n",
       "       ...,\n",
       "       [0.        , 0.        , 0.        , ..., 0.        , 5.60011262,\n",
       "        0.        ],\n",
       "       [0.        , 0.        , 0.        , ..., 0.        , 0.        ,\n",
       "        0.        ],\n",
       "       [0.        , 0.        , 0.        , ..., 0.        , 3.52482507,\n",
       "        0.        ]])"
      ]
     },
     "execution_count": 20,
     "metadata": {},
     "output_type": "execute_result"
    }
   ],
   "source": [
    "annotation_data.X"
   ]
  },
  {
   "cell_type": "code",
   "execution_count": 27,
   "id": "928ed9c8",
   "metadata": {},
   "outputs": [
    {
     "data": {
      "text/html": [
       "<div>\n",
       "<style scoped>\n",
       "    .dataframe tbody tr th:only-of-type {\n",
       "        vertical-align: middle;\n",
       "    }\n",
       "\n",
       "    .dataframe tbody tr th {\n",
       "        vertical-align: top;\n",
       "    }\n",
       "\n",
       "    .dataframe thead th {\n",
       "        text-align: right;\n",
       "    }\n",
       "</style>\n",
       "<table border=\"1\" class=\"dataframe\">\n",
       "  <thead>\n",
       "    <tr style=\"text-align: right;\">\n",
       "      <th></th>\n",
       "      <th>wellKey</th>\n",
       "      <th>geo_accession</th>\n",
       "      <th>donor_age</th>\n",
       "      <th>gender</th>\n",
       "      <th>inferred_cell_type</th>\n",
       "    </tr>\n",
       "  </thead>\n",
       "  <tbody>\n",
       "    <tr>\n",
       "      <th>1yr_male_cell1825</th>\n",
       "      <td>1yr_male_cell1825</td>\n",
       "      <td>GSM2173706</td>\n",
       "      <td>1</td>\n",
       "      <td>male</td>\n",
       "      <td>acinar</td>\n",
       "    </tr>\n",
       "    <tr>\n",
       "      <th>1yr_male_cell1827</th>\n",
       "      <td>1yr_male_cell1827</td>\n",
       "      <td>GSM2173708</td>\n",
       "      <td>1</td>\n",
       "      <td>male</td>\n",
       "      <td>acinar</td>\n",
       "    </tr>\n",
       "    <tr>\n",
       "      <th>1yr_male_cell1829</th>\n",
       "      <td>1yr_male_cell1829</td>\n",
       "      <td>GSM2173710</td>\n",
       "      <td>1</td>\n",
       "      <td>male</td>\n",
       "      <td>acinar</td>\n",
       "    </tr>\n",
       "    <tr>\n",
       "      <th>1yr_male_cell1833</th>\n",
       "      <td>1yr_male_cell1833</td>\n",
       "      <td>GSM2173714</td>\n",
       "      <td>1</td>\n",
       "      <td>male</td>\n",
       "      <td>acinar</td>\n",
       "    </tr>\n",
       "    <tr>\n",
       "      <th>1yr_male_cell1834</th>\n",
       "      <td>1yr_male_cell1834</td>\n",
       "      <td>GSM2173715</td>\n",
       "      <td>1</td>\n",
       "      <td>male</td>\n",
       "      <td>acinar</td>\n",
       "    </tr>\n",
       "    <tr>\n",
       "      <th>...</th>\n",
       "      <td>...</td>\n",
       "      <td>...</td>\n",
       "      <td>...</td>\n",
       "      <td>...</td>\n",
       "      <td>...</td>\n",
       "    </tr>\n",
       "    <tr>\n",
       "      <th>6yr_male_cell1436</th>\n",
       "      <td>6yr_male_cell1436</td>\n",
       "      <td>GSM2173315</td>\n",
       "      <td>6</td>\n",
       "      <td>male</td>\n",
       "      <td>acinar</td>\n",
       "    </tr>\n",
       "    <tr>\n",
       "      <th>6yr_male_cell1441</th>\n",
       "      <td>6yr_male_cell1441</td>\n",
       "      <td>GSM2173320</td>\n",
       "      <td>6</td>\n",
       "      <td>male</td>\n",
       "      <td>acinar</td>\n",
       "    </tr>\n",
       "    <tr>\n",
       "      <th>6yr_male_cell1442</th>\n",
       "      <td>6yr_male_cell1442</td>\n",
       "      <td>GSM2173321</td>\n",
       "      <td>6</td>\n",
       "      <td>male</td>\n",
       "      <td>acinar</td>\n",
       "    </tr>\n",
       "    <tr>\n",
       "      <th>6yr_male_cell1443</th>\n",
       "      <td>6yr_male_cell1443</td>\n",
       "      <td>GSM2173322</td>\n",
       "      <td>6</td>\n",
       "      <td>male</td>\n",
       "      <td>acinar</td>\n",
       "    </tr>\n",
       "    <tr>\n",
       "      <th>6yr_male_cell1451</th>\n",
       "      <td>6yr_male_cell1451</td>\n",
       "      <td>GSM2173330</td>\n",
       "      <td>6</td>\n",
       "      <td>male</td>\n",
       "      <td>acinar</td>\n",
       "    </tr>\n",
       "  </tbody>\n",
       "</table>\n",
       "<p>411 rows × 5 columns</p>\n",
       "</div>"
      ],
      "text/plain": [
       "                             wellKey geo_accession donor_age gender  \\\n",
       "1yr_male_cell1825  1yr_male_cell1825    GSM2173706         1   male   \n",
       "1yr_male_cell1827  1yr_male_cell1827    GSM2173708         1   male   \n",
       "1yr_male_cell1829  1yr_male_cell1829    GSM2173710         1   male   \n",
       "1yr_male_cell1833  1yr_male_cell1833    GSM2173714         1   male   \n",
       "1yr_male_cell1834  1yr_male_cell1834    GSM2173715         1   male   \n",
       "...                              ...           ...       ...    ...   \n",
       "6yr_male_cell1436  6yr_male_cell1436    GSM2173315         6   male   \n",
       "6yr_male_cell1441  6yr_male_cell1441    GSM2173320         6   male   \n",
       "6yr_male_cell1442  6yr_male_cell1442    GSM2173321         6   male   \n",
       "6yr_male_cell1443  6yr_male_cell1443    GSM2173322         6   male   \n",
       "6yr_male_cell1451  6yr_male_cell1451    GSM2173330         6   male   \n",
       "\n",
       "                  inferred_cell_type  \n",
       "1yr_male_cell1825             acinar  \n",
       "1yr_male_cell1827             acinar  \n",
       "1yr_male_cell1829             acinar  \n",
       "1yr_male_cell1833             acinar  \n",
       "1yr_male_cell1834             acinar  \n",
       "...                              ...  \n",
       "6yr_male_cell1436             acinar  \n",
       "6yr_male_cell1441             acinar  \n",
       "6yr_male_cell1442             acinar  \n",
       "6yr_male_cell1443             acinar  \n",
       "6yr_male_cell1451             acinar  \n",
       "\n",
       "[411 rows x 5 columns]"
      ]
     },
     "execution_count": 27,
     "metadata": {},
     "output_type": "execute_result"
    }
   ],
   "source": [
    "annotation_data.obs"
   ]
  },
  {
   "cell_type": "markdown",
   "id": "4fcf364a",
   "metadata": {},
   "source": [
    "![AnnData python objects](https://falexwolf.de/img/scanpy/anndata.svg)\n",
    "\n",
    "[documentation](https://scanpy.readthedocs.io/en/stable/usage-principles.html)"
   ]
  },
  {
   "cell_type": "code",
   "execution_count": 31,
   "id": "54f71cbd",
   "metadata": {
    "scrolled": true
   },
   "outputs": [
    {
     "data": {
      "text/plain": [
       "['hesc_sce.h5ad',\n",
       " 'beta_sce.h5ad',\n",
       " 'germ_sce.h5ad',\n",
       " 'acinar_sce.h5ad',\n",
       " 'colon_sce.h5ad',\n",
       " 'mef_sce.h5ad']"
      ]
     },
     "execution_count": 31,
     "metadata": {},
     "output_type": "execute_result"
    }
   ],
   "source": [
    "# All datasets:\n",
    "import os\n",
    "list(filter(lambda x: x.endswith(\"h5ad\"), os.listdir(\"../../psupplementary/data/\")))"
   ]
  },
  {
   "cell_type": "code",
   "execution_count": 32,
   "id": "41b2e713",
   "metadata": {},
   "outputs": [],
   "source": [
    "data_dir = \"../../psupplementary/data/\"\n",
    "hesc = scanpy.read_h5ad(data_dir + \"hesc_sce.h5ad\")\n",
    "beta = scanpy.read_h5ad(data_dir + 'beta_sce.h5ad')\n",
    "germ = scanpy.read_h5ad(data_dir + 'germ_sce.h5ad')\n",
    "colon = scanpy.read_h5ad(data_dir + 'colon_sce.h5ad')\n",
    "mef = scanpy.read_h5ad(data_dir + 'mef_sce.h5ad')"
   ]
  },
  {
   "cell_type": "code",
   "execution_count": null,
   "id": "d0e60fb5",
   "metadata": {
    "collapsed": true
   },
   "outputs": [],
   "source": []
  },
  {
   "cell_type": "markdown",
   "id": "20235075",
   "metadata": {},
   "source": [
    "All works fine :)"
   ]
  }
 ],
 "metadata": {
  "kernelspec": {
   "display_name": "Python 3 (ipykernel)",
   "language": "python",
   "name": "python3"
  },
  "language_info": {
   "codemirror_mode": {
    "name": "ipython",
    "version": 3
   },
   "file_extension": ".py",
   "mimetype": "text/x-python",
   "name": "python",
   "nbconvert_exporter": "python",
   "pygments_lexer": "ipython3",
   "version": "3.10.8"
  }
 },
 "nbformat": 4,
 "nbformat_minor": 5
}
