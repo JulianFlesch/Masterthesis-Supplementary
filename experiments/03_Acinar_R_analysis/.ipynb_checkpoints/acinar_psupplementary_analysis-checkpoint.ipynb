{
 "cells": [
  {
   "cell_type": "markdown",
   "id": "ba74b0bf",
   "metadata": {},
   "source": [
    "# 03 Reproduce acinar analysis"
   ]
  },
  {
   "cell_type": "code",
   "execution_count": 30,
   "id": "22aaf0fa",
   "metadata": {},
   "outputs": [],
   "source": [
    "import os\n",
    "import scanpy\n",
    "from masterthesis import data\n",
    "from masterthesis.timing import elapsed_timer"
   ]
  },
  {
   "cell_type": "code",
   "execution_count": 5,
   "id": "1d394249",
   "metadata": {},
   "outputs": [],
   "source": [
    "from rpy2.robjects import r\n",
    "from rpy2.robjects.packages import importr\n",
    "%load_ext rpy2.ipython\n",
    "\n",
    "psupertime = importr(\"psupertime\")\n",
    "singlecellexperiment = importr(\"SingleCellExperiment\")"
   ]
  },
  {
   "cell_type": "markdown",
   "id": "8a091e3c",
   "metadata": {},
   "source": [
    "## Obtaining data and doing dimension reduction"
   ]
  },
  {
   "cell_type": "code",
   "execution_count": 27,
   "id": "79023ba8",
   "metadata": {},
   "outputs": [
    {
     "data": {
      "text/plain": [
       "(411, 23368)"
      ]
     },
     "execution_count": 27,
     "metadata": {},
     "output_type": "execute_result"
    }
   ],
   "source": [
    "# load the python AnnData object\n",
    "acinar_ann = data.load_acinar()\n",
    "acinar_ann.shape"
   ]
  },
  {
   "cell_type": "code",
   "execution_count": 12,
   "id": "3e2f0911",
   "metadata": {
    "scrolled": false
   },
   "outputs": [
    {
     "data": {
      "text/html": [
       "\n",
       "        <span>StrVector with 1 elements.</span>\n",
       "        <table>\n",
       "        <tbody>\n",
       "          <tr>\n",
       "          \n",
       "            <td>\n",
       "            'acinar_sce'\n",
       "            </td>\n",
       "          \n",
       "          </tr>\n",
       "        </tbody>\n",
       "        </table>\n",
       "        "
      ],
      "text/plain": [
       "<rpy2.robjects.vectors.StrVector object at 0x7f8d7e5aca80> [RTYPES.STRSXP]\n",
       "R classes: ('character',)\n",
       "['acinar_sce']"
      ]
     },
     "execution_count": 12,
     "metadata": {},
     "output_type": "execute_result"
    }
   ],
   "source": [
    "# load the R SingleCellExperiment obejct\n",
    "r.load(file=os.path.join(data.data_dir, \"acinar_sce.rda\"))\n",
    "\n",
    "# -> this adds the object acinar_sce to the R instance at r.acinar_sce"
   ]
  },
  {
   "cell_type": "code",
   "execution_count": 13,
   "id": "35c9c18c",
   "metadata": {
    "scrolled": false
   },
   "outputs": [
    {
     "name": "stderr",
     "output_type": "stream",
     "text": [
      "R[write to console]: identifying highly variable genes\n",
      "\n"
     ]
    },
    {
     "data": {
      "text/plain": [
       "<rpy2.robjects.methods.RS4 object at 0x7f8d7e204940> [RTYPES.S4SXP]\n",
       "R classes: ('SingleCellExperiment',)"
      ]
     },
     "execution_count": 13,
     "metadata": {},
     "output_type": "execute_result"
    }
   ],
   "source": [
    "r('''\n",
    "    hvg_params = list(hvg_cutoff=0.1, bio_cutoff=0.5, span=0.1)\n",
    "    sel_genes = psupertime:::.calc_hvg_genes(acinar_sce, hvg_params)\n",
    "    acinar_hvg = acinar_sce[sel_genes, ]\n",
    "''')"
   ]
  },
  {
   "cell_type": "code",
   "execution_count": 15,
   "id": "d9d75c8d",
   "metadata": {},
   "outputs": [
    {
     "name": "stderr",
     "output_type": "stream",
     "text": [
      "R[write to console]: identifying highly variable genes\n",
      "\n"
     ]
    }
   ],
   "source": [
    "r.hvg_params2 = r.list(hvg_cutoff=0.1, bio_cutoff=0.5, span=0.1)\n",
    "r.sel_genes2 = psupertime._calc_hvg_genes(r.acinar_sce, r.hvg_params2)\n",
    "r.acinar_hvg2 = r(\"acinar_sce[sel_genes, ]\")"
   ]
  },
  {
   "cell_type": "code",
   "execution_count": 17,
   "id": "6ffd9a5c",
   "metadata": {
    "scrolled": true
   },
   "outputs": [
    {
     "name": "stdout",
     "output_type": "stream",
     "text": [
      "\n",
      "    WARNING: The R package \"reticulate\" only fixed recently\n",
      "    an issue that caused a segfault when used with rpy2:\n",
      "    https://github.com/rstudio/reticulate/pull/1188\n",
      "    Make sure that you use a version of that package that includes\n",
      "    the fix.\n",
      "    calculating umap\n"
     ]
    },
    {
     "data": {
      "text/html": [
       "\n",
       "        <span>FloatVector with 411 elements.</span>\n",
       "        <table>\n",
       "        <tbody>\n",
       "          <tr>\n",
       "          \n",
       "            <td>\n",
       "            0.716006\n",
       "            </td>\n",
       "          \n",
       "            <td>\n",
       "            0.737532\n",
       "            </td>\n",
       "          \n",
       "            <td>\n",
       "            0.768306\n",
       "            </td>\n",
       "          \n",
       "            <td>\n",
       "            ...\n",
       "            </td>\n",
       "          \n",
       "            <td>\n",
       "            0.625083\n",
       "            </td>\n",
       "          \n",
       "            <td>\n",
       "            0.900688\n",
       "            </td>\n",
       "          \n",
       "            <td>\n",
       "            0.636444\n",
       "            </td>\n",
       "          \n",
       "          </tr>\n",
       "        </tbody>\n",
       "        </table>\n",
       "        "
      ],
      "text/plain": [
       "<rpy2.robjects.vectors.FloatVector object at 0x7f8d7e5acc00> [RTYPES.REALSXP]\n",
       "R classes: ('numeric',)\n",
       "[0.716006, 0.737532, 0.768306, 0.800359, ..., 0.712607, 0.625083, 0.900688, 0.636444]"
      ]
     },
     "execution_count": 17,
     "metadata": {},
     "output_type": "execute_result"
    }
   ],
   "source": [
    "# projecting using umap in r\n",
    "r('''\n",
    "    library('umap')\n",
    "    x = t(SummarizedExperiment::assay(acinar_hvg, 'logcounts'))\n",
    "    wellKey_vector = SingleCellExperiment::colData(acinar_hvg)$wellKey\n",
    "    label_vector = factor(SingleCellExperiment::colData(acinar_hvg)[['donor_age']])\n",
    "    proj_umap = psupplementary:::calc_umap(x, wellKey_vector)\n",
    "    u1 = proj_umap$umap1\n",
    "    u2 = proj_umap$umap2\n",
    "''')"
   ]
  },
  {
   "cell_type": "code",
   "execution_count": 29,
   "id": "90a3f169",
   "metadata": {},
   "outputs": [
    {
     "name": "stderr",
     "output_type": "stream",
     "text": [
      "/home/julian/.local/share/virtualenvs/experiments-0Bwu2BGA/lib/python3.10/site-packages/rpy2/robjects/lib/ggplot2.py:70: UserWarning: This was designed againt ggplot2 versions starting with 3.3. but you have 3.4.0\n",
      "  warnings.warn(\n"
     ]
    }
   ],
   "source": [
    "# plotting the umap dimension reduction\n",
    "from rpy2.robjects.lib import ggplot2\n",
    "\n",
    "grdevices = importr(\"grDevices\")  # to close graphical windows again\n",
    "data_table = importr(\"data.table\")\n",
    "\n",
    "plot_dt = data_table.data_table(\n",
    "        y_var = r(\"label_vector\")\n",
    "        ,dim1 = r(\"proj_umap$umap1\")\n",
    "        ,dim2 = r(\"proj_umap$umap2\")\n",
    "        )\n",
    "\n",
    "col_vals = psupertime._make_col_vals(plot_dt[0])\n",
    "\n",
    "labels = r.c('umap1', 'umap2', 'Donor age (years)')\n",
    "\n",
    "pp = ggplot2.ggplot(plot_dt) + \\\n",
    "        ggplot2.aes( x=plot_dt[1], y=plot_dt[2], colour=plot_dt[0] ) + \\\n",
    "        ggplot2.geom_point() + \\\n",
    "        ggplot2.scale_colour_manual( values=col_vals ) + \\\n",
    "        ggplot2.labs(\n",
    "            x = labels[0],\n",
    "            y = labels[1],\n",
    "            colour = labels[2]\n",
    "        ) + \\\n",
    "        ggplot2.theme_bw() + \\\n",
    "        ggplot2.theme(\n",
    "            axis_text = ggplot2.element_blank()\n",
    "        )\n"
   ]
  },
  {
   "cell_type": "code",
   "execution_count": 35,
   "id": "1d836298",
   "metadata": {
    "scrolled": true
   },
   "outputs": [],
   "source": [
    "# show plot\n",
    "pp.plot()"
   ]
  },
  {
   "cell_type": "markdown",
   "id": "8f88e9fe",
   "metadata": {},
   "source": [
    "## Running psupertime"
   ]
  },
  {
   "cell_type": "code",
   "execution_count": 33,
   "id": "63975603",
   "metadata": {
    "scrolled": false
   },
   "outputs": [
    {
     "name": "stderr",
     "output_type": "stream",
     "text": [
      "R[write to console]: using default parameters to identify highly variable genes\n",
      "\n",
      "R[write to console]: identifying highly variable genes\n",
      "\n",
      "R[write to console]: processing data\n",
      "\n",
      "R[write to console]:     checking for zero SD genes\n",
      "\n",
      "R[write to console]:     denoising data\n",
      "\n",
      "R[write to console]:     scaling data\n",
      "\n",
      "R[write to console]:     processed data is 411 cells * 26 genes\n",
      "\n",
      "R[write to console]: cross-validation training, 5 folds:\n",
      "\n",
      "R[write to console]:     fold 1\n",
      "\n",
      "R[write to console]:     fold 2\n",
      "\n",
      "R[write to console]:     fold 3\n",
      "\n",
      "R[write to console]:     fold 4\n",
      "\n",
      "R[write to console]:     fold 5\n",
      "\n",
      "R[write to console]: fitting best model with all training data\n",
      "\n"
     ]
    },
    {
     "ename": "RuntimeError",
     "evalue": "generator didn't stop",
     "output_type": "error",
     "traceback": [
      "\u001b[0;31m---------------------------------------------------------------------------\u001b[0m",
      "\u001b[0;31mRuntimeError\u001b[0m                              Traceback (most recent call last)",
      "Cell \u001b[0;32mIn [33], line 1\u001b[0m\n\u001b[0;32m----> 1\u001b[0m \u001b[38;5;28;01mwith\u001b[39;00m elapsed_timer() \u001b[38;5;28;01mas\u001b[39;00m elapsed:\n\u001b[1;32m      2\u001b[0m     elapsed()\n\u001b[1;32m      3\u001b[0m     \u001b[38;5;66;03m# y_age = r('acinar_sce$donor_age')\u001b[39;00m\n\u001b[1;32m      4\u001b[0m     \u001b[38;5;66;03m# psuper_obj = psupertime.psupertime(r.acinar_sce, y_age)\u001b[39;00m\n",
      "File \u001b[0;32m/usr/lib/python3.10/contextlib.py:146\u001b[0m, in \u001b[0;36m_GeneratorContextManager.__exit__\u001b[0;34m(self, typ, value, traceback)\u001b[0m\n\u001b[1;32m    144\u001b[0m         \u001b[38;5;28;01mreturn\u001b[39;00m \u001b[38;5;28;01mFalse\u001b[39;00m\n\u001b[1;32m    145\u001b[0m     \u001b[38;5;28;01melse\u001b[39;00m:\n\u001b[0;32m--> 146\u001b[0m         \u001b[38;5;28;01mraise\u001b[39;00m \u001b[38;5;167;01mRuntimeError\u001b[39;00m(\u001b[38;5;124m\"\u001b[39m\u001b[38;5;124mgenerator didn\u001b[39m\u001b[38;5;124m'\u001b[39m\u001b[38;5;124mt stop\u001b[39m\u001b[38;5;124m\"\u001b[39m)\n\u001b[1;32m    147\u001b[0m \u001b[38;5;28;01melse\u001b[39;00m:\n\u001b[1;32m    148\u001b[0m     \u001b[38;5;28;01mif\u001b[39;00m value \u001b[38;5;129;01mis\u001b[39;00m \u001b[38;5;28;01mNone\u001b[39;00m:\n\u001b[1;32m    149\u001b[0m         \u001b[38;5;66;03m# Need to force instantiation so we can reliably\u001b[39;00m\n\u001b[1;32m    150\u001b[0m         \u001b[38;5;66;03m# tell if we get the same exception back\u001b[39;00m\n",
      "\u001b[0;31mRuntimeError\u001b[0m: generator didn't stop"
     ]
    }
   ],
   "source": [
    "with elapsed_timer() as elapsed:\n",
    "    elapsed()\n",
    "    # y_age = r('acinar_sce$donor_age')\n",
    "    # psuper_obj = psupertime.psupertime(r.acinar_sce, y_age)\n",
    "    r('psuper_obj = psupertime::psupertime(acinar_sce, acinar_sce$donor_age)')\n",
    "    elapsed()"
   ]
  },
  {
   "cell_type": "code",
   "execution_count": 88,
   "id": "9a6b5e47",
   "metadata": {
    "scrolled": false
   },
   "outputs": [],
   "source": [
    "# plot labels over psupertime\n",
    "scales = importr('scales')\n",
    "\n",
    "psuper = r('psuper_obj')\n",
    "proj_dt = r('psuper_obj$proj_dt')\n",
    "cuts_dt = r('psuper_obj$cuts_dt')\n",
    "label_name = 'Donor age\\n(years)'\n",
    "palette = 'RdBu'\n",
    "\n",
    "# colors\n",
    "col_vals = psupertime._make_col_vals(r('psuper_obj$proj_dt$label_input'), palette)\n",
    "\n",
    "# ggplot\n",
    "g = ggplot2.ggplot(proj_dt) + \\\n",
    "    ggplot2.aes(x=r(\"expr(psuper)\"), fill=r.expr(\"label_input\"), colour=r.expr(\"label_input`\")) + \\\n",
    "    ggplot2.geom_density(alpha=0.5) + \\\n",
    "    ggplot2.scale_fill_manual(values=col_vals) + \\\n",
    "    ggplot2.geom_vline(ggplot2.aes(xintercept=r.expr(\"psuper\"), colour=r.expr(\"label_input\")), data=cuts_dt) + \\\n",
    "    ggplot2.scale_colour_manual(values=col_vals) + \\\n",
    "    ggplot2.guides(\n",
    "        fill = ggplot2.guide_legend(override_aes = r.list(alpha=1)),\n",
    "        colour = False) + \\\n",
    "    ggplot2.scale_x_continuous( breaks=scales.pretty_breaks()) + \\\n",
    "    ggplot2.labs(\n",
    "        x = 'psupertime',\n",
    "        y = 'Density',\n",
    "        fill = label_name) + \\\n",
    "    ggplot2.theme_bw()"
   ]
  },
  {
   "cell_type": "code",
   "execution_count": 89,
   "id": "5365adda",
   "metadata": {},
   "outputs": [
    {
     "name": "stderr",
     "output_type": "stream",
     "text": [
      "R[write to console]: Error: Discrete value supplied to continuous scale\n",
      "\n"
     ]
    },
    {
     "ename": "RRuntimeError",
     "evalue": "Error: Discrete value supplied to continuous scale\n",
     "output_type": "error",
     "traceback": [
      "\u001b[0;31m---------------------------------------------------------------------------\u001b[0m",
      "\u001b[0;31mRRuntimeError\u001b[0m                             Traceback (most recent call last)",
      "Cell \u001b[0;32mIn [89], line 1\u001b[0m\n\u001b[0;32m----> 1\u001b[0m \u001b[43mg\u001b[49m\u001b[38;5;241;43m.\u001b[39;49m\u001b[43mplot\u001b[49m\u001b[43m(\u001b[49m\u001b[43m)\u001b[49m\n",
      "File \u001b[0;32m~/.local/share/virtualenvs/experiments-0Bwu2BGA/lib/python3.10/site-packages/rpy2/robjects/lib/ggplot2.py:104\u001b[0m, in \u001b[0;36mGGPlot.plot\u001b[0;34m(self, vp)\u001b[0m\n\u001b[1;32m    103\u001b[0m \u001b[38;5;28;01mdef\u001b[39;00m \u001b[38;5;21mplot\u001b[39m(\u001b[38;5;28mself\u001b[39m, vp\u001b[38;5;241m=\u001b[39mrpy2\u001b[38;5;241m.\u001b[39mrobjects\u001b[38;5;241m.\u001b[39mconstants\u001b[38;5;241m.\u001b[39mNULL):\n\u001b[0;32m--> 104\u001b[0m     \u001b[38;5;28;43mself\u001b[39;49m\u001b[38;5;241;43m.\u001b[39;49m\u001b[43m_rprint\u001b[49m\u001b[43m(\u001b[49m\u001b[38;5;28;43mself\u001b[39;49m\u001b[43m,\u001b[49m\u001b[43m \u001b[49m\u001b[43mvp\u001b[49m\u001b[38;5;241;43m=\u001b[39;49m\u001b[43mvp\u001b[49m\u001b[43m)\u001b[49m\n",
      "File \u001b[0;32m~/.local/share/virtualenvs/experiments-0Bwu2BGA/lib/python3.10/site-packages/rpy2/rinterface_lib/conversion.py:45\u001b[0m, in \u001b[0;36m_cdata_res_to_rinterface.<locals>._\u001b[0;34m(*args, **kwargs)\u001b[0m\n\u001b[1;32m     44\u001b[0m \u001b[38;5;28;01mdef\u001b[39;00m \u001b[38;5;21m_\u001b[39m(\u001b[38;5;241m*\u001b[39margs, \u001b[38;5;241m*\u001b[39m\u001b[38;5;241m*\u001b[39mkwargs):\n\u001b[0;32m---> 45\u001b[0m     cdata \u001b[38;5;241m=\u001b[39m \u001b[43mfunction\u001b[49m\u001b[43m(\u001b[49m\u001b[38;5;241;43m*\u001b[39;49m\u001b[43margs\u001b[49m\u001b[43m,\u001b[49m\u001b[43m \u001b[49m\u001b[38;5;241;43m*\u001b[39;49m\u001b[38;5;241;43m*\u001b[39;49m\u001b[43mkwargs\u001b[49m\u001b[43m)\u001b[49m\n\u001b[1;32m     46\u001b[0m     \u001b[38;5;66;03m# TODO: test cdata is of the expected CType\u001b[39;00m\n\u001b[1;32m     47\u001b[0m     \u001b[38;5;28;01mreturn\u001b[39;00m _cdata_to_rinterface(cdata)\n",
      "File \u001b[0;32m~/.local/share/virtualenvs/experiments-0Bwu2BGA/lib/python3.10/site-packages/rpy2/rinterface.py:815\u001b[0m, in \u001b[0;36mSexpClosure.__call__\u001b[0;34m(self, *args, **kwargs)\u001b[0m\n\u001b[1;32m    808\u001b[0m     res \u001b[38;5;241m=\u001b[39m rmemory\u001b[38;5;241m.\u001b[39mprotect(\n\u001b[1;32m    809\u001b[0m         openrlib\u001b[38;5;241m.\u001b[39mrlib\u001b[38;5;241m.\u001b[39mR_tryEval(\n\u001b[1;32m    810\u001b[0m             call_r,\n\u001b[1;32m    811\u001b[0m             call_context\u001b[38;5;241m.\u001b[39m__sexp__\u001b[38;5;241m.\u001b[39m_cdata,\n\u001b[1;32m    812\u001b[0m             error_occured)\n\u001b[1;32m    813\u001b[0m     )\n\u001b[1;32m    814\u001b[0m     \u001b[38;5;28;01mif\u001b[39;00m error_occured[\u001b[38;5;241m0\u001b[39m]:\n\u001b[0;32m--> 815\u001b[0m         \u001b[38;5;28;01mraise\u001b[39;00m embedded\u001b[38;5;241m.\u001b[39mRRuntimeError(_rinterface\u001b[38;5;241m.\u001b[39m_geterrmessage())\n\u001b[1;32m    816\u001b[0m \u001b[38;5;28;01mreturn\u001b[39;00m res\n",
      "\u001b[0;31mRRuntimeError\u001b[0m: Error: Discrete value supplied to continuous scale\n"
     ]
    }
   ],
   "source": [
    "g.plot()"
   ]
  },
  {
   "cell_type": "code",
   "execution_count": 90,
   "id": "27eb5296",
   "metadata": {},
   "outputs": [
    {
     "data": {
      "text/html": [
       "\n",
       "        <span>ListVector with 10 elements.</span>\n",
       "        <table>\n",
       "        <tbody>\n",
       "        \n",
       "          <tr>\n",
       "            <th>\n",
       "            data\n",
       "            </th>\n",
       "            <td>\n",
       "            \n",
       "        <span>R/rpy2 DataFrame (411 x 4)</span>\n",
       "        <table>\n",
       "          <thead>\n",
       "            <tr>\n",
       "              \n",
       "              <th>cell_id</th>\n",
       "              \n",
       "              <th>psuper</th>\n",
       "              \n",
       "              <th>label_input</th>\n",
       "              \n",
       "              <th>label_psuper</th>\n",
       "              \n",
       "            </tr>\n",
       "          </thead>\n",
       "          <tbody>\n",
       "          \n",
       "          <tr>\n",
       "            \n",
       "            <td>\n",
       "              ...\n",
       "            </td>\n",
       "            \n",
       "            <td>\n",
       "              ...\n",
       "            </td>\n",
       "            \n",
       "            <td>\n",
       "              ...\n",
       "            </td>\n",
       "            \n",
       "            <td>\n",
       "              ...\n",
       "            </td>\n",
       "            \n",
       "          </tr>\n",
       "          \n",
       "          </tbody>\n",
       "        </table>\n",
       "    \n",
       "            </td>\n",
       "          </tr>\n",
       "        \n",
       "          <tr>\n",
       "            <th>\n",
       "            layers\n",
       "            </th>\n",
       "            <td>\n",
       "            \n",
       "        <span>ListVector with 2 elements.</span>\n",
       "        <table>\n",
       "        <tbody>\n",
       "        \n",
       "          <tr>\n",
       "            <th>\n",
       "            [no name]\n",
       "            </th>\n",
       "            <td>\n",
       "            <rpy2.rinterface_lib.sexp.SexpEnvironment object at 0x7f8d8616b900> [RTYPES.ENVSXP]\n",
       "            </td>\n",
       "          </tr>\n",
       "        \n",
       "          <tr>\n",
       "            <th>\n",
       "            [no name]\n",
       "            </th>\n",
       "            <td>\n",
       "            <rpy2.rinterface_lib.sexp.SexpEnvironment object at 0x7f8d86168a80> [RTYPES.ENVSXP]\n",
       "            </td>\n",
       "          </tr>\n",
       "        \n",
       "        </tbody>\n",
       "        </table>\n",
       "        \n",
       "            </td>\n",
       "          </tr>\n",
       "        \n",
       "          <tr>\n",
       "            <th>\n",
       "            scales\n",
       "            </th>\n",
       "            <td>\n",
       "            <ggproto object: Class ScalesList, gg>\n",
       "    add: function\n",
       "    clone: function\n",
       "    find: function\n",
       "    get_scales: function\n",
       "    has_scale: function\n",
       "    input: function\n",
       "    n: function\n",
       "    non_position_scales: function\n",
       "    scales: list\n",
       "    super:  <ggproto object: Class ScalesList, gg>\n",
       "\n",
       "            </td>\n",
       "          </tr>\n",
       "        \n",
       "          <tr>\n",
       "            <th>\n",
       "            ...\n",
       "            </th>\n",
       "            <td>\n",
       "            ...\n",
       "            </td>\n",
       "          </tr>\n",
       "        \n",
       "          <tr>\n",
       "            <th>\n",
       "            plot_env\n",
       "            </th>\n",
       "            <td>\n",
       "            <environment: 0x55d424bc9220>\n",
       "\n",
       "            </td>\n",
       "          </tr>\n",
       "        \n",
       "          <tr>\n",
       "            <th>\n",
       "            labels\n",
       "            </th>\n",
       "            <td>\n",
       "            \n",
       "        <span>ListVector with 6 elements.</span>\n",
       "        <table>\n",
       "        <tbody>\n",
       "        \n",
       "          <tr>\n",
       "            <th>\n",
       "            x\n",
       "            </th>\n",
       "            <td>\n",
       "            <rpy2.rinterface_lib.sexp.StrSexpVector object at 0x7f8d8616b100> [RTYPES.STRSXP]\n",
       "            </td>\n",
       "          </tr>\n",
       "        \n",
       "          <tr>\n",
       "            <th>\n",
       "            y\n",
       "            </th>\n",
       "            <td>\n",
       "            <rpy2.rinterface_lib.sexp.StrSexpVector object at 0x7f8d86168d80> [RTYPES.STRSXP]\n",
       "            </td>\n",
       "          </tr>\n",
       "        \n",
       "          <tr>\n",
       "            <th>\n",
       "            fill\n",
       "            </th>\n",
       "            <td>\n",
       "            <rpy2.rinterface_lib.sexp.StrSexpVector object at 0x7f8d86169180> [RTYPES.STRSXP]\n",
       "            </td>\n",
       "          </tr>\n",
       "        \n",
       "          <tr>\n",
       "            <th>\n",
       "            colour\n",
       "            </th>\n",
       "            <td>\n",
       "            <rpy2.rinterface_lib.sexp.StrSexpVector object at 0x7f8d8616b280> [RTYPES.STRSXP]\n",
       "            </td>\n",
       "          </tr>\n",
       "        \n",
       "          <tr>\n",
       "            <th>\n",
       "            xintercept\n",
       "            </th>\n",
       "            <td>\n",
       "            <rpy2.rinterface_lib.sexp.StrSexpVector object at 0x7f8d86169240> [RTYPES.STRSXP]\n",
       "            </td>\n",
       "          </tr>\n",
       "        \n",
       "          <tr>\n",
       "            <th>\n",
       "            weight\n",
       "            </th>\n",
       "            <td>\n",
       "            <rpy2.rinterface_lib.sexp.StrSexpVector object at 0x7f8d85d33ec0> [RTYPES.STRSXP]\n",
       "            </td>\n",
       "          </tr>\n",
       "        \n",
       "        </tbody>\n",
       "        </table>\n",
       "        \n",
       "            </td>\n",
       "          </tr>\n",
       "        \n",
       "          <tr>\n",
       "            <th>\n",
       "            guides\n",
       "            </th>\n",
       "            <td>\n",
       "            \n",
       "        <span>ListVector with 2 elements.</span>\n",
       "        <table>\n",
       "        <tbody>\n",
       "        \n",
       "          <tr>\n",
       "            <th>\n",
       "            fill\n",
       "            </th>\n",
       "            <td>\n",
       "            <rpy2.rinterface.ListSexpVector object at 0x7f8d861693c0> [RTYPES.VECSXP]\n",
       "            </td>\n",
       "          </tr>\n",
       "        \n",
       "          <tr>\n",
       "            <th>\n",
       "            colour\n",
       "            </th>\n",
       "            <td>\n",
       "            <rpy2.rinterface_lib.sexp.StrSexpVector object at 0x7f8d8616a140> [RTYPES.STRSXP]\n",
       "            </td>\n",
       "          </tr>\n",
       "        \n",
       "        </tbody>\n",
       "        </table>\n",
       "        \n",
       "            </td>\n",
       "          </tr>\n",
       "        \n",
       "        </tbody>\n",
       "        </table>\n",
       "        "
      ],
      "text/plain": [
       "<rpy2.robjects.vectors.ListVector object at 0x7f8d861540c0> [RTYPES.VECSXP]\n",
       "R classes: ('gg', 'ggplot')\n",
       "[ListSexpV..., ListSexpV..., SexpEnvir..., ListSexpV..., ..., SexpEnvir..., SexpEnvir..., ListSexpV..., ListSexpV...]\n",
       "<rpy2.robjects.vectors.ListVector object at 0x7f8d861540c0> [RTYPES.VECSXP]\n",
       "R classes: ('gg', 'ggplot')\n",
       "[ListSexpV..., ListSexpV..., SexpEnvir..., ListSexpV..., ..., SexpEnvir..., SexpEnvir..., ListSexpV..., ListSexpV...]\n",
       "<rpy2.robjects.vectors.ListVector object at 0x7f8d861540c0> [RTYPES.VECSXP]\n",
       "R classes: ('gg', 'ggplot')\n",
       "[ListSexpV..., ListSexpV..., SexpEnvir..., ListSexpV..., ..., SexpEnvir..., SexpEnvir..., ListSexpV..., ListSexpV...]\n",
       "  scales: <class 'rpy2.robjects.environments.Environment'>\n",
       "  <rpy2.robjects.environments.Environment object at 0x7f8d85d99a80> [RTYPES.ENVSXP]\n",
       "R classes: ('ScalesList', 'ggproto', 'gg')\n",
       "n items: 2\n",
       "<rpy2.robjects.vectors.ListVector object at 0x7f8d861540c0> [RTYPES.VECSXP]\n",
       "R classes: ('gg', 'ggplot')\n",
       "[ListSexpV..., ListSexpV..., SexpEnvir..., ListSexpV..., ..., SexpEnvir..., SexpEnvir..., ListSexpV..., ListSexpV...]\n",
       "...\n",
       "  coordinates: <class 'rpy2.robjects.environments.Environment'>\n",
       "  <rpy2.robjects.environments.Environment object at 0x7f8d85cca440> [RTYPES.ENVSXP]\n",
       "R classes: ('FacetNull', 'Facet', 'ggproto', 'gg')\n",
       "n items: 2\n",
       "  facet: <class 'rpy2.robjects.environments.Environment'>\n",
       "  <rpy2.robjects.environments.Environment object at 0x7f8d85c53c00> [RTYPES.ENVSXP]\n",
       "R classes: ('environment',)\n",
       "n items: 7\n",
       "<rpy2.robjects.vectors.ListVector object at 0x7f8d861540c0> [RTYPES.VECSXP]\n",
       "R classes: ('gg', 'ggplot')\n",
       "[ListSexpV..., ListSexpV..., SexpEnvir..., ListSexpV..., ..., SexpEnvir..., SexpEnvir..., ListSexpV..., ListSexpV...]\n",
       "<rpy2.robjects.vectors.ListVector object at 0x7f8d861540c0> [RTYPES.VECSXP]\n",
       "R classes: ('gg', 'ggplot')\n",
       "[ListSexpV..., ListSexpV..., SexpEnvir..., ListSexpV..., ..., SexpEnvir..., SexpEnvir..., ListSexpV..., ListSexpV...]"
      ]
     },
     "execution_count": 90,
     "metadata": {},
     "output_type": "execute_result"
    }
   ],
   "source": [
    "r('g = psupertime::plot_labels_over_psupertime(psuper_obj)')\n"
   ]
  },
  {
   "cell_type": "code",
   "execution_count": 82,
   "id": "44aeffc1",
   "metadata": {},
   "outputs": [
    {
     "name": "stdout",
     "output_type": "stream",
     "text": [
      "Error in `fortify()`:\n",
      "! `data` must be a <data.frame>, or an object coercible by `fortify()`,\n",
      "  not an S3 object with class <gg>/<ggplot>.\n",
      "Run `rlang::last_error()` to see where the error occurred.\n"
     ]
    },
    {
     "ename": "RRuntimeError",
     "evalue": "Error in fortify(data, ...) : \n",
     "output_type": "error",
     "traceback": [
      "\u001b[0;31m---------------------------------------------------------------------------\u001b[0m",
      "\u001b[0;31mRRuntimeError\u001b[0m                             Traceback (most recent call last)",
      "Cell \u001b[0;32mIn [82], line 1\u001b[0m\n\u001b[0;32m----> 1\u001b[0m \u001b[43mggplot2\u001b[49m\u001b[38;5;241;43m.\u001b[39;49m\u001b[43mggplot\u001b[49m\u001b[43m(\u001b[49m\u001b[43mr\u001b[49m\u001b[43m(\u001b[49m\u001b[38;5;124;43m'\u001b[39;49m\u001b[38;5;124;43mg\u001b[39;49m\u001b[38;5;124;43m'\u001b[39;49m\u001b[43m)\u001b[49m\u001b[43m)\u001b[49m\u001b[38;5;241m.\u001b[39mplot()\n",
      "File \u001b[0;32m~/.local/share/virtualenvs/experiments-0Bwu2BGA/lib/python3.10/site-packages/rpy2/robjects/lib/ggplot2.py:100\u001b[0m, in \u001b[0;36mGGPlot.new\u001b[0;34m(cls, data, mapping, **kwargs)\u001b[0m\n\u001b[1;32m     98\u001b[0m \u001b[38;5;124;03m\"\"\" Constructor for the class GGplot. \"\"\"\u001b[39;00m\n\u001b[1;32m     99\u001b[0m data \u001b[38;5;241m=\u001b[39m conversion\u001b[38;5;241m.\u001b[39mget_conversion()\u001b[38;5;241m.\u001b[39mpy2rpy(data)\n\u001b[0;32m--> 100\u001b[0m res \u001b[38;5;241m=\u001b[39m \u001b[38;5;28mcls\u001b[39m(\u001b[38;5;28;43mcls\u001b[39;49m\u001b[38;5;241;43m.\u001b[39;49m\u001b[43m_constructor\u001b[49m\u001b[43m(\u001b[49m\u001b[43mdata\u001b[49m\u001b[43m,\u001b[49m\u001b[43m \u001b[49m\u001b[43mmapping\u001b[49m\u001b[38;5;241;43m=\u001b[39;49m\u001b[43mmapping\u001b[49m\u001b[43m,\u001b[49m\u001b[43m \u001b[49m\u001b[38;5;241;43m*\u001b[39;49m\u001b[38;5;241;43m*\u001b[39;49m\u001b[43mkwargs\u001b[49m\u001b[43m)\u001b[49m)\n\u001b[1;32m    101\u001b[0m \u001b[38;5;28;01mreturn\u001b[39;00m res\n",
      "File \u001b[0;32m~/.local/share/virtualenvs/experiments-0Bwu2BGA/lib/python3.10/site-packages/rpy2/rinterface_lib/conversion.py:45\u001b[0m, in \u001b[0;36m_cdata_res_to_rinterface.<locals>._\u001b[0;34m(*args, **kwargs)\u001b[0m\n\u001b[1;32m     44\u001b[0m \u001b[38;5;28;01mdef\u001b[39;00m \u001b[38;5;21m_\u001b[39m(\u001b[38;5;241m*\u001b[39margs, \u001b[38;5;241m*\u001b[39m\u001b[38;5;241m*\u001b[39mkwargs):\n\u001b[0;32m---> 45\u001b[0m     cdata \u001b[38;5;241m=\u001b[39m \u001b[43mfunction\u001b[49m\u001b[43m(\u001b[49m\u001b[38;5;241;43m*\u001b[39;49m\u001b[43margs\u001b[49m\u001b[43m,\u001b[49m\u001b[43m \u001b[49m\u001b[38;5;241;43m*\u001b[39;49m\u001b[38;5;241;43m*\u001b[39;49m\u001b[43mkwargs\u001b[49m\u001b[43m)\u001b[49m\n\u001b[1;32m     46\u001b[0m     \u001b[38;5;66;03m# TODO: test cdata is of the expected CType\u001b[39;00m\n\u001b[1;32m     47\u001b[0m     \u001b[38;5;28;01mreturn\u001b[39;00m _cdata_to_rinterface(cdata)\n",
      "File \u001b[0;32m~/.local/share/virtualenvs/experiments-0Bwu2BGA/lib/python3.10/site-packages/rpy2/rinterface.py:815\u001b[0m, in \u001b[0;36mSexpClosure.__call__\u001b[0;34m(self, *args, **kwargs)\u001b[0m\n\u001b[1;32m    808\u001b[0m     res \u001b[38;5;241m=\u001b[39m rmemory\u001b[38;5;241m.\u001b[39mprotect(\n\u001b[1;32m    809\u001b[0m         openrlib\u001b[38;5;241m.\u001b[39mrlib\u001b[38;5;241m.\u001b[39mR_tryEval(\n\u001b[1;32m    810\u001b[0m             call_r,\n\u001b[1;32m    811\u001b[0m             call_context\u001b[38;5;241m.\u001b[39m__sexp__\u001b[38;5;241m.\u001b[39m_cdata,\n\u001b[1;32m    812\u001b[0m             error_occured)\n\u001b[1;32m    813\u001b[0m     )\n\u001b[1;32m    814\u001b[0m     \u001b[38;5;28;01mif\u001b[39;00m error_occured[\u001b[38;5;241m0\u001b[39m]:\n\u001b[0;32m--> 815\u001b[0m         \u001b[38;5;28;01mraise\u001b[39;00m embedded\u001b[38;5;241m.\u001b[39mRRuntimeError(_rinterface\u001b[38;5;241m.\u001b[39m_geterrmessage())\n\u001b[1;32m    816\u001b[0m \u001b[38;5;28;01mreturn\u001b[39;00m res\n",
      "\u001b[0;31mRRuntimeError\u001b[0m: Error in fortify(data, ...) : \n"
     ]
    }
   ],
   "source": [
    "ggplot2.ggplot(r('g')).plot()"
   ]
  },
  {
   "cell_type": "code",
   "execution_count": null,
   "id": "7303a5ec",
   "metadata": {
    "scrolled": true
   },
   "outputs": [],
   "source": [
    "# disable window controlled by R\n",
    "grdevices.dev_off()"
   ]
  }
 ],
 "metadata": {
  "kernelspec": {
   "display_name": "Python 3 (ipykernel)",
   "language": "python",
   "name": "python3"
  },
  "language_info": {
   "codemirror_mode": {
    "name": "ipython",
    "version": 3
   },
   "file_extension": ".py",
   "mimetype": "text/x-python",
   "name": "python",
   "nbconvert_exporter": "python",
   "pygments_lexer": "ipython3",
   "version": "3.10.8"
  }
 },
 "nbformat": 4,
 "nbformat_minor": 5
}
